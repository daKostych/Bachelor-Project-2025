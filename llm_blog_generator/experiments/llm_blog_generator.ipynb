{
 "cells": [
  {
   "metadata": {
    "ExecuteTime": {
     "end_time": "2025-04-17T12:41:27.280155Z",
     "start_time": "2025-04-17T12:41:13.202215Z"
    }
   },
   "cell_type": "code",
   "source": [
    "import sys\n",
    "import os\n",
    "import warnings\n",
    "from pathlib import Path\n",
    "import json\n",
    "import math\n",
    "\n",
    "import numpy as np\n",
    "from scipy import stats\n",
    "import matplotlib.pyplot as plt\n",
    "import google.generativeai as genai\n",
    "from dotenv import load_dotenv\n",
    "\n",
    "if str(Path().resolve().parent) not in sys.path:\n",
    "    sys.path.append(str(Path().resolve().parent))\n",
    "\n",
    "load_dotenv()\n",
    "GOOGLE_API_KEY = os.getenv(\"GOOGLE_API_KEY\")\n",
    "genai.configure(api_key=GOOGLE_API_KEY)\n",
    "\n",
    "warnings.filterwarnings(\"ignore\", category=FutureWarning)\n",
    "\n",
    "from src.config import PREPROCESSED_PAPER_DATASET_PATH, GENERATOR_ASSESSMENTS_PATH, GENERATOR_BEST_ASSESSMENTS_PATH\n",
    "from src.text_extraction import *\n",
    "from src.models_setup import embedding_model, gemini_2_flash\n",
    "from src.prompts import prompt_rag, prompt_zero_cot, prompt_retry_with_memory_usage\n",
    "from src.output_formats import BlogGeneration, BlogClassificationCoT\n",
    "from src.helpers import get_examples, load_or_create_vector_store\n",
    "from src.blog_generator import BlogGenerator\n",
    "from src.long_term_memory import LongTermMemory"
   ],
   "id": "265ae9990dfc97c3",
   "outputs": [],
   "execution_count": 1
  },
  {
   "cell_type": "markdown",
   "id": "1359c2b435d04127",
   "metadata": {},
   "source": [
    "# Data Processing"
   ]
  },
  {
   "metadata": {
    "ExecuteTime": {
     "end_time": "2025-04-17T12:41:27.374754Z",
     "start_time": "2025-04-17T12:41:27.295175Z"
    }
   },
   "cell_type": "code",
   "source": [
    "# Import data\n",
    "papers = pd.read_csv(PREPROCESSED_PAPER_DATASET_PATH)\n",
    "papers = papers.reset_index(drop=True)\n",
    "\n",
    "# Split dataset into validation and test set (first half for validation)\n",
    "middle = papers.shape[0] // 2\n",
    "Xval = papers.iloc[:middle].reset_index(drop=True)\n",
    "Xtest = papers.iloc[middle:].reset_index(drop=True)\n",
    "\n",
    "print(f\"Size of validation set, X: {Xval.shape}\")\n",
    "print(f\"Size of test set, X: {Xtest.shape}\")"
   ],
   "id": "ef227f791344e06d",
   "outputs": [
    {
     "name": "stdout",
     "output_type": "stream",
     "text": [
      "Size of validation set, X: (37, 4)\n",
      "Size of test set, X: (37, 4)\n"
     ]
    }
   ],
   "execution_count": 2
  },
  {
   "metadata": {},
   "cell_type": "markdown",
   "source": "# Generator manual test",
   "id": "b7c7064f2624bacd"
  },
  {
   "metadata": {
    "ExecuteTime": {
     "end_time": "2025-04-13T09:07:59.395715Z",
     "start_time": "2025-04-13T09:07:54.423458Z"
    }
   },
   "cell_type": "code",
   "source": [
    "vector_store = load_or_create_vector_store()\n",
    "\n",
    "def find_most_similar_article(query_text):\n",
    "    query_embedding = embedding_model.encode(query_text, clean_up_tokenization_spaces=True)\n",
    "    results = vector_store.similarity_search_by_vector(query_embedding, k=2)\n",
    "\n",
    "    if results:\n",
    "        most_similar = results[1]\n",
    "        return most_similar.page_content, most_similar.metadata"
   ],
   "id": "587de66bbd3dff27",
   "outputs": [
    {
     "name": "stdout",
     "output_type": "stream",
     "text": [
      "Vector store does not exist. Creating new one...\n",
      "New vector store created successfully.\n"
     ]
    }
   ],
   "execution_count": 3
  },
  {
   "metadata": {
    "ExecuteTime": {
     "end_time": "2025-04-13T09:12:16.101425Z",
     "start_time": "2025-04-13T09:12:16.022905Z"
    }
   },
   "cell_type": "code",
   "source": [
    "paper_text = Xval.loc[0, \"paper_full_text\"]\n",
    "example_paper, example_blog_metadata = find_most_similar_article(paper_text)\n",
    "example_blog = example_blog_metadata[\"blog_full_text\"]"
   ],
   "id": "63d7a9945d8491d6",
   "outputs": [],
   "execution_count": 56
  },
  {
   "metadata": {
    "ExecuteTime": {
     "end_time": "2025-04-13T09:12:17.201913Z",
     "start_time": "2025-04-13T09:12:17.196901Z"
    }
   },
   "cell_type": "code",
   "source": [
    "# RAG approach\n",
    "llm_generator = gemini_2_flash.with_structured_output(BlogGeneration, include_raw=True)\n",
    "generation_chain = prompt_rag | llm_generator\n",
    "#print(prompt_rag.format(paper_text=paper_text,\n",
    "#                        example_paper=example_paper,\n",
    "#                        example_blog=example_blog))"
   ],
   "id": "6b138943a12ce335",
   "outputs": [],
   "execution_count": 57
  },
  {
   "metadata": {
    "ExecuteTime": {
     "end_time": "2025-04-13T09:12:24.285754Z",
     "start_time": "2025-04-13T09:12:17.664467Z"
    }
   },
   "cell_type": "code",
   "source": [
    "generator_response = generation_chain.invoke({\"paper_text\": paper_text,\n",
    "                                              \"example_paper\": example_paper,\n",
    "                                              \"example_blog\": example_blog})"
   ],
   "id": "96ced9f3ccd98531",
   "outputs": [],
   "execution_count": 58
  },
  {
   "metadata": {
    "ExecuteTime": {
     "end_time": "2025-04-13T09:12:24.302826Z",
     "start_time": "2025-04-13T09:12:24.299566Z"
    }
   },
   "cell_type": "code",
   "source": "print(generator_response[\"parsed\"].text)",
   "id": "60e2552a08968a6c",
   "outputs": [
    {
     "name": "stdout",
     "output_type": "stream",
     "text": [
      "# Minimum Hyperspherical Energy (MHE) in Neural Networks\n",
      "\n",
      "## TL;DR\n",
      "\n",
      "This blog post discusses a novel regularization technique called Minimum Hyperspherical Energy (MHE) for neural networks. MHE draws inspiration from the Thomson problem in physics to improve the generalization ability of neural networks by encouraging diversity among neurons.\n",
      "\n",
      "## What's the Big Idea?\n",
      "\n",
      "Neural networks are powerful, but their tendency to have redundant, highly correlated neurons can hurt performance. The goal is to regularize the network, avoiding this redundancy. The inspiration comes from the Thomson problem: how to distribute electrons on a sphere to minimize potential energy. MHE applies this concept to neurons, diversifying them to improve the network's generalization ability.\n",
      "\n",
      "## Key Concepts\n",
      "\n",
      "*   **Over-parametrization:** Neural networks often have more parameters than necessary, leading to redundancy.\n",
      "*   **Generalization:** The ability of a neural network to perform well on unseen data.\n",
      "*   **Regularization:** Techniques to prevent overfitting and improve generalization.\n",
      "*   **Thomson Problem:** Finding the minimum electrostatic potential energy of N mutually repelling electrons on a sphere.\n",
      "*   **Hyperspherical Energy:** A measure of the diversity of neurons, with lower energy indicating more diversity.\n",
      "\n",
      "## How Does MHE Work?\n",
      "\n",
      "MHE aims to minimize the \"energy\" of neuron configurations, promoting even distribution on a hypersphere. Here's a breakdown:\n",
      "\n",
      "1.  **Hyperspherical Energy Formulation:**\n",
      "    *   Defines a mathematical function to quantify the \"energy\" of a set of neurons.\n",
      "    *   Lower energy means neurons are more diverse and uniformly spaced.\n",
      "2.  **MHE Regularization:**\n",
      "    *   Adds a term to the neural network's loss function that penalizes high hyperspherical energy.\n",
      "    *   Encourages neurons to be as different as possible.\n",
      "3.  **Variants of MHE:**\n",
      "    *   **Half-Space MHE:** Addresses potential redundancy by creating virtual neurons and minimizing energy across both real and virtual neurons. Primarily for hidden layers.\n",
      "    *   **Angular-MHE (A-MHE):** Uses angular distance instead of Euclidean distance to calculate hyperspherical energy.\n",
      "\n",
      "## MHE for Hidden and Output Layers\n",
      "\n",
      "MHE is applied differently to hidden and output layers:\n",
      "\n",
      "*   **Hidden Layers:** MHE encourages neurons to be uniformly distributed on a unit hypersphere, maximizing the average angular difference between neurons.\n",
      "*   **Output Layers:** MHE enhances inter-class feature separability, leading to better generalization. It complements softmax cross-entropy loss by focusing on separating classes.\n",
      "\n",
      "## Theoretical Insights\n",
      "\n",
      "*   **Asymptotic Behavior:** As the number of neurons increases, MHE drives their distribution towards a uniform spread on the hypersphere.\n",
      "*   **Generalization and Optimality:** MHE improves generalization by eliminating spurious local minima and increasing the hyperspherical diversity of neurons.\n",
      "\n",
      "## Experiments and Results\n",
      "\n",
      "MHE was tested on various tasks, including:\n",
      "\n",
      "*   **Generic Object Recognition (CIFAR-10, CIFAR-100, ImageNet):** MHE consistently improved performance across different network architectures.\n",
      "*   **Class-Imbalance Learning (MNIST, CIFAR-10):** MHE effectively handled imbalanced datasets, maintaining accuracy even with significantly fewer samples in some classes.\n",
      "*   **Face Recognition (LFW, MegaFace):** MHE, when incorporated into SphereFace (creating SphereFace+), achieved state-of-the-art results by improving inter-class feature separability.\n",
      "\n",
      "## Key Findings\n",
      "\n",
      "*   MHE is architecture-agnostic and can be applied to various neural network structures.\n",
      "*   Half-space MHE often outperforms standard MHE.\n",
      "*   MHE is not very sensitive to hyperparameter settings.\n",
      "*   MHE improves generalization and prevents overfitting.\n",
      "\n",
      "## Why is This Important?\n",
      "\n",
      "MHE provides a principled way to regularize neural networks, leading to better generalization and performance. By drawing inspiration from physics, it offers a novel perspective on how to optimize the distribution of neurons within a network.\n",
      "\n",
      "## Want to Learn More?\n",
      "\n",
      "*   Read the full paper for detailed mathematical formulations and experimental setups.\n",
      "*   Explore the code (if available) to implement MHE in your own projects.\n",
      "\n",
      "## Conclusion\n",
      "\n",
      "MHE is a promising regularization technique that addresses the problem of redundancy in neural networks. Its ability to improve generalization across diverse tasks makes it a valuable tool for deep learning practitioners.\n",
      "\n",
      "\n"
     ]
    }
   ],
   "execution_count": 59
  },
  {
   "metadata": {
    "ExecuteTime": {
     "end_time": "2025-04-13T09:12:24.417950Z",
     "start_time": "2025-04-13T09:12:24.410544Z"
    }
   },
   "cell_type": "code",
   "source": [
    "examples = get_examples()\n",
    "blog_text = generator_response[\"parsed\"].text\n",
    "\n",
    "llm_evaluator = gemini_2_flash.with_structured_output(BlogClassificationCoT, include_raw=True)\n",
    "evaluation_chain = prompt_zero_cot | llm_evaluator\n",
    "print(prompt_zero_cot.format(a=\"test for redundant additional parameters\" ,blog_text=blog_text))"
   ],
   "id": "31801f0a1b12cf55",
   "outputs": [
    {
     "name": "stdout",
     "output_type": "stream",
     "text": [
      "You are a very strict expert in evaluating written content, specializing in assessing how well blogs communicate scientific research to a broader audience.\n",
      "\n",
      "Task:\n",
      "Analyze the engagement level of the blog below based on the following criteria:\n",
      "    - Readability\n",
      "    - Structure\n",
      "    - Informativeness\n",
      "    - Attractiveness of the blog title\n",
      "    - Clarity\n",
      "    - Audience appeal\n",
      "    - Potential for discussion\n",
      "        \n",
      "Clarifications:\n",
      "    - Focus only on the textual content of the blog, disregarding any visual or interactive elements. This means that there is no need to add points related to the addition of illustrations or interactive elements to possible improvements.\n",
      "    - Calmly lower your blog assessment according to the number of bugs.\n",
      "    - Return ONLY a valid JSON object in plain text.\n",
      "\n",
      "Expected Output Format:\n",
      "    - Step by step, explain your analysis for each of the criteria listed above. Start by evaluating readability, then move on to structure, informativeness, and so on. Make sure to detail why you gave the specific score for each criterion and provide reasoning.\n",
      "    - After completing the analysis for each criterion, summarize the overall engagement level using one of the following ratings: \"Excellent\", \"Very Good\", \"Good\", \"Average\", \"Bad\".\n",
      "    - Write down a few possible improvements that will improve the engagement level, if necessary (if the overall assessment is worse than \"Excellent\").\n",
      "\n",
      "Now evaluate the provided blog.\n",
      "\n",
      "Referenced Blog to Evaluate:\n",
      "\"\"\"# Minimum Hyperspherical Energy (MHE) in Neural Networks\n",
      "\n",
      "## TL;DR\n",
      "\n",
      "This blog post discusses a novel regularization technique called Minimum Hyperspherical Energy (MHE) for neural networks. MHE draws inspiration from the Thomson problem in physics to improve the generalization ability of neural networks by encouraging diversity among neurons.\n",
      "\n",
      "## What's the Big Idea?\n",
      "\n",
      "Neural networks are powerful, but their tendency to have redundant, highly correlated neurons can hurt performance. The goal is to regularize the network, avoiding this redundancy. The inspiration comes from the Thomson problem: how to distribute electrons on a sphere to minimize potential energy. MHE applies this concept to neurons, diversifying them to improve the network's generalization ability.\n",
      "\n",
      "## Key Concepts\n",
      "\n",
      "*   **Over-parametrization:** Neural networks often have more parameters than necessary, leading to redundancy.\n",
      "*   **Generalization:** The ability of a neural network to perform well on unseen data.\n",
      "*   **Regularization:** Techniques to prevent overfitting and improve generalization.\n",
      "*   **Thomson Problem:** Finding the minimum electrostatic potential energy of N mutually repelling electrons on a sphere.\n",
      "*   **Hyperspherical Energy:** A measure of the diversity of neurons, with lower energy indicating more diversity.\n",
      "\n",
      "## How Does MHE Work?\n",
      "\n",
      "MHE aims to minimize the \"energy\" of neuron configurations, promoting even distribution on a hypersphere. Here's a breakdown:\n",
      "\n",
      "1.  **Hyperspherical Energy Formulation:**\n",
      "    *   Defines a mathematical function to quantify the \"energy\" of a set of neurons.\n",
      "    *   Lower energy means neurons are more diverse and uniformly spaced.\n",
      "2.  **MHE Regularization:**\n",
      "    *   Adds a term to the neural network's loss function that penalizes high hyperspherical energy.\n",
      "    *   Encourages neurons to be as different as possible.\n",
      "3.  **Variants of MHE:**\n",
      "    *   **Half-Space MHE:** Addresses potential redundancy by creating virtual neurons and minimizing energy across both real and virtual neurons. Primarily for hidden layers.\n",
      "    *   **Angular-MHE (A-MHE):** Uses angular distance instead of Euclidean distance to calculate hyperspherical energy.\n",
      "\n",
      "## MHE for Hidden and Output Layers\n",
      "\n",
      "MHE is applied differently to hidden and output layers:\n",
      "\n",
      "*   **Hidden Layers:** MHE encourages neurons to be uniformly distributed on a unit hypersphere, maximizing the average angular difference between neurons.\n",
      "*   **Output Layers:** MHE enhances inter-class feature separability, leading to better generalization. It complements softmax cross-entropy loss by focusing on separating classes.\n",
      "\n",
      "## Theoretical Insights\n",
      "\n",
      "*   **Asymptotic Behavior:** As the number of neurons increases, MHE drives their distribution towards a uniform spread on the hypersphere.\n",
      "*   **Generalization and Optimality:** MHE improves generalization by eliminating spurious local minima and increasing the hyperspherical diversity of neurons.\n",
      "\n",
      "## Experiments and Results\n",
      "\n",
      "MHE was tested on various tasks, including:\n",
      "\n",
      "*   **Generic Object Recognition (CIFAR-10, CIFAR-100, ImageNet):** MHE consistently improved performance across different network architectures.\n",
      "*   **Class-Imbalance Learning (MNIST, CIFAR-10):** MHE effectively handled imbalanced datasets, maintaining accuracy even with significantly fewer samples in some classes.\n",
      "*   **Face Recognition (LFW, MegaFace):** MHE, when incorporated into SphereFace (creating SphereFace+), achieved state-of-the-art results by improving inter-class feature separability.\n",
      "\n",
      "## Key Findings\n",
      "\n",
      "*   MHE is architecture-agnostic and can be applied to various neural network structures.\n",
      "*   Half-space MHE often outperforms standard MHE.\n",
      "*   MHE is not very sensitive to hyperparameter settings.\n",
      "*   MHE improves generalization and prevents overfitting.\n",
      "\n",
      "## Why is This Important?\n",
      "\n",
      "MHE provides a principled way to regularize neural networks, leading to better generalization and performance. By drawing inspiration from physics, it offers a novel perspective on how to optimize the distribution of neurons within a network.\n",
      "\n",
      "## Want to Learn More?\n",
      "\n",
      "*   Read the full paper for detailed mathematical formulations and experimental setups.\n",
      "*   Explore the code (if available) to implement MHE in your own projects.\n",
      "\n",
      "## Conclusion\n",
      "\n",
      "MHE is a promising regularization technique that addresses the problem of redundancy in neural networks. Its ability to improve generalization across diverse tasks makes it a valuable tool for deep learning practitioners.\n",
      "\n",
      "\"\"\"\n"
     ]
    }
   ],
   "execution_count": 60
  },
  {
   "metadata": {
    "ExecuteTime": {
     "end_time": "2025-04-13T09:12:29.404910Z",
     "start_time": "2025-04-13T09:12:25.839507Z"
    }
   },
   "cell_type": "code",
   "source": "evaluator_response = evaluation_chain.invoke({**examples, \"blog_text\": blog_text})",
   "id": "8b97342ab63b79f9",
   "outputs": [],
   "execution_count": 61
  },
  {
   "metadata": {
    "ExecuteTime": {
     "end_time": "2025-04-13T09:12:29.416778Z",
     "start_time": "2025-04-13T09:12:29.413511Z"
    }
   },
   "cell_type": "code",
   "source": "print(f\"Overall assessment: {evaluator_response[\"parsed\"].overall_assessment}\")",
   "id": "110822fc4da1a1a2",
   "outputs": [
    {
     "name": "stdout",
     "output_type": "stream",
     "text": [
      "Overall assessment: Very Good\n"
     ]
    }
   ],
   "execution_count": 62
  },
  {
   "metadata": {
    "ExecuteTime": {
     "end_time": "2025-04-13T09:12:31.086647Z",
     "start_time": "2025-04-13T09:12:31.082811Z"
    }
   },
   "cell_type": "code",
   "source": [
    "improvements = evaluator_response[\"parsed\"].improvements\n",
    "print(f\"Possible improvements:\")\n",
    "for i, improvement in enumerate(improvements):\n",
    "    print(f\"{i+1}. {improvement}\")"
   ],
   "id": "dc7f787c0ae4c674",
   "outputs": [
    {
     "name": "stdout",
     "output_type": "stream",
     "text": [
      "Possible improvements:\n",
      "1. Consider adding a section on the limitations of MHE and potential areas for future research.\n",
      "2. Include a link to the official implementation, if available, could boost the blog attractiveness and potential for discussion.\n",
      "3. Expand the explanation of the Thomson Problem to make it more accessible to readers without a physics background. This can be done by adding more intuitive examples or analogies, simplifying the explanation and adding a simple visual representation of the Thomson problem concept to improve understanding\n"
     ]
    }
   ],
   "execution_count": 63
  },
  {
   "cell_type": "code",
   "id": "c3beb73142bd99e0",
   "metadata": {
    "ExecuteTime": {
     "end_time": "2025-04-13T09:12:31.721545Z",
     "start_time": "2025-04-13T09:12:31.698792Z"
    }
   },
   "source": [
    "possible_improvements = \"\\n\".join([f\"{i+1}. {improvement}\" for i, improvement in enumerate(improvements)])\n",
    "memory = LongTermMemory()\n",
    "blog = generator_response[\"parsed\"].text\n",
    "similar_blog, metadata = memory.retrieve_memory(blog)\n",
    "\n",
    "# Reflexion\n",
    "generation_chain = prompt_retry_with_memory_usage | llm_generator"
   ],
   "outputs": [
    {
     "name": "stdout",
     "output_type": "stream",
     "text": [
      "Loading long term memory module from: /home/kanstantsin-downar/PycharmProjects/bachalor-project/llm_blog_generator/data/long_term_memory\n",
      "Long term memory module loaded successfully.\n",
      "Found relevant memory.\n"
     ]
    }
   ],
   "execution_count": 64
  },
  {
   "metadata": {
    "ExecuteTime": {
     "end_time": "2025-04-13T09:12:37.793349Z",
     "start_time": "2025-04-13T09:12:32.581763Z"
    }
   },
   "cell_type": "code",
   "source": [
    "generator_response = generation_chain.invoke({\n",
    "    \"generated_blog\": blog,\n",
    "    \"possible_improvements\": possible_improvements,\n",
    "    \"similar_blog\": similar_blog,\n",
    "    \"similar_blog_score\":\n",
    "        metadata[\"overall_assessment\"],\n",
    "    \"similar_blog_improvements\":\n",
    "        metadata[\"improvements\"]\n",
    "})"
   ],
   "id": "7a593dd2daf85cf4",
   "outputs": [],
   "execution_count": 65
  },
  {
   "cell_type": "code",
   "id": "29cde0c08e508057",
   "metadata": {
    "ExecuteTime": {
     "end_time": "2025-04-13T09:12:37.808733Z",
     "start_time": "2025-04-13T09:12:37.804874Z"
    }
   },
   "source": [
    "print(generator_response[\"parsed\"].text)"
   ],
   "outputs": [
    {
     "name": "stdout",
     "output_type": "stream",
     "text": [
      "# Minimum Hyperspherical Energy (MHE) in Neural Networks\n",
      "\n",
      "## TL;DR\n",
      "\n",
      "This blog post discusses a novel regularization technique called Minimum Hyperspherical Energy (MHE) for neural networks. MHE draws inspiration from the Thomson problem in physics to improve the generalization ability of neural networks by encouraging diversity among neurons.\n",
      "\n",
      "## What's the Big Idea?\n",
      "\n",
      "Neural networks are powerful, but their tendency to have redundant, highly correlated neurons can hurt performance. The goal is to regularize the network, avoiding this redundancy. The inspiration comes from the Thomson problem: how to distribute electrons on a sphere to minimize potential energy. MHE applies this concept to neurons, diversifying them to improve the network's generalization ability.\n",
      "\n",
      "## Key Concepts\n",
      "\n",
      "*   **Over-parametrization:** Neural networks often have more parameters than necessary, leading to redundancy.\n",
      "*   **Generalization:** The ability of a neural network to perform well on unseen data.\n",
      "*   **Regularization:** Techniques to prevent overfitting and improve generalization.\n",
      "*   **Thomson Problem:** Finding the minimum electrostatic potential energy of N mutually repelling electrons on a sphere. Imagine trying to place balloons on a perfectly round ball so that they are as far apart from each other as possible - this is essentially the Thomson Problem.\n",
      "*   **Hyperspherical Energy:** A measure of the diversity of neurons, with lower energy indicating more diversity.\n",
      "\n",
      "## How Does MHE Work?\n",
      "\n",
      "MHE aims to minimize the \"energy\" of neuron configurations, promoting even distribution on a hypersphere. Here's a breakdown:\n",
      "\n",
      "1.  **Hyperspherical Energy Formulation:**\n",
      "    *   Defines a mathematical function to quantify the \"energy\" of a set of neurons.\n",
      "    *   Lower energy means neurons are more diverse and uniformly spaced.\n",
      "2.  **MHE Regularization:**\n",
      "    *   Adds a term to the neural network's loss function that penalizes high hyperspherical energy.\n",
      "    *   Encourages neurons to be as different as possible.\n",
      "3.  **Variants of MHE:**\n",
      "    *   **Half-Space MHE:** Addresses potential redundancy by creating virtual neurons and minimizing energy across both real and virtual neurons. Primarily for hidden layers.\n",
      "    *   **Angular-MHE (A-MHE):** Uses angular distance instead of Euclidean distance to calculate hyperspherical energy.\n",
      "\n",
      "## MHE for Hidden and Output Layers\n",
      "\n",
      "MHE is applied differently to hidden and output layers:\n",
      "\n",
      "*   **Hidden Layers:** MHE encourages neurons to be uniformly distributed on a unit hypersphere, maximizing the average angular difference between neurons.\n",
      "*   **Output Layers:** MHE enhances inter-class feature separability, leading to better generalization. It complements softmax cross-entropy loss by focusing on separating classes.\n",
      "\n",
      "## Theoretical Insights\n",
      "\n",
      "*   **Asymptotic Behavior:** As the number of neurons increases, MHE drives their distribution towards a uniform spread on the hypersphere.\n",
      "*   **Generalization and Optimality:** MHE improves generalization by eliminating spurious local minima and increasing the hyperspherical diversity of neurons.\n",
      "\n",
      "## Experiments and Results\n",
      "\n",
      "MHE was tested on various tasks, including:\n",
      "\n",
      "*   **Generic Object Recognition (CIFAR-10, CIFAR-100, ImageNet):** MHE consistently improved performance across different network architectures.\n",
      "*   **Class-Imbalance Learning (MNIST, CIFAR-10):** MHE effectively handled imbalanced datasets, maintaining accuracy even with significantly fewer samples in some classes.\n",
      "*   **Face Recognition (LFW, MegaFace):** MHE, when incorporated into SphereFace (creating SphereFace+), achieved state-of-the-art results by improving inter-class feature separability.\n",
      "\n",
      "## Key Findings\n",
      "\n",
      "*   MHE is architecture-agnostic and can be applied to various neural network structures.\n",
      "*   Half-space MHE often outperforms standard MHE.\n",
      "*   MHE is not very sensitive to hyperparameter settings.\n",
      "*   MHE improves generalization and prevents overfitting.\n",
      "\n",
      "## Why is This Important?\n",
      "\n",
      "MHE provides a principled way to regularize neural networks, leading to better generalization and performance. By drawing inspiration from physics, it offers a novel perspective on how to optimize the distribution of neurons within a network.\n",
      "\n",
      "## Limitations and Future Research\n",
      "\n",
      "While MHE offers significant benefits, it's important to acknowledge its limitations. One potential drawback is the computational cost associated with calculating hyperspherical energy, especially for very large networks. Future research could explore methods to approximate this energy more efficiently. Additionally, investigating the applicability of MHE to other types of neural network architectures, such as transformers, could be a promising avenue for future work.\n",
      "\n",
      "## Want to Learn More?\n",
      "\n",
      "*   Read the full paper for detailed mathematical formulations and experimental setups.\n",
      "*   Explore the code (if available) to implement MHE in your own projects. [If available, add link to official implementation here]\n",
      "\n",
      "## Conclusion\n",
      "\n",
      "MHE is a promising regularization technique that addresses the problem of redundancy in neural networks. Its ability to improve generalization across diverse tasks makes it a valuable tool for deep learning practitioners.\n",
      "\n"
     ]
    }
   ],
   "execution_count": 66
  },
  {
   "cell_type": "code",
   "id": "5206f48504f5deef",
   "metadata": {
    "ExecuteTime": {
     "end_time": "2025-04-13T09:13:00.833164Z",
     "start_time": "2025-04-13T09:12:58.185665Z"
    }
   },
   "source": [
    "blog_text = generator_response[\"parsed\"].text\n",
    "evaluator_response = evaluation_chain.invoke({**examples, \"blog_text\": blog_text})"
   ],
   "outputs": [],
   "execution_count": 67
  },
  {
   "cell_type": "code",
   "id": "ec4b23503b229f6b",
   "metadata": {
    "ExecuteTime": {
     "end_time": "2025-04-13T09:13:00.843717Z",
     "start_time": "2025-04-13T09:13:00.840636Z"
    }
   },
   "source": [
    "print(f\"Overall assessment: {evaluator_response[\"parsed\"].overall_assessment}\")"
   ],
   "outputs": [
    {
     "name": "stdout",
     "output_type": "stream",
     "text": [
      "Overall assessment: Excellent\n"
     ]
    }
   ],
   "execution_count": 68
  },
  {
   "cell_type": "markdown",
   "id": "a9ac6d3e8d32b56f",
   "metadata": {},
   "source": [
    "# End-to-end generation test"
   ]
  },
  {
   "cell_type": "code",
   "id": "bb1b8f5fd61f0acf",
   "metadata": {
    "ExecuteTime": {
     "end_time": "2025-04-13T09:13:13.641714Z",
     "start_time": "2025-04-13T09:13:13.629977Z"
    }
   },
   "source": "generator = BlogGenerator(use_memory=True, use_reflexion=True)",
   "outputs": [
    {
     "name": "stdout",
     "output_type": "stream",
     "text": [
      "Loading vector store from: /home/kanstantsin-downar/PycharmProjects/bachalor-project/llm_blog_generator/data/vector_store\n",
      "Vector store loaded successfully.\n",
      "Loading long term memory module from: /home/kanstantsin-downar/PycharmProjects/bachalor-project/llm_blog_generator/data/long_term_memory\n",
      "Long term memory module loaded successfully.\n",
      "BlogGenerator initialized with vector store.\n"
     ]
    }
   ],
   "execution_count": 69
  },
  {
   "cell_type": "code",
   "id": "b85733eac47fe27c",
   "metadata": {
    "ExecuteTime": {
     "end_time": "2025-04-13T09:13:28.235721Z",
     "start_time": "2025-04-13T09:13:18.377128Z"
    }
   },
   "source": "blog = generator.generate_blog(paper_text=Xval.loc[0, \"paper_full_text\"])",
   "outputs": [
    {
     "name": "stdout",
     "output_type": "stream",
     "text": [
      "----------\n",
      "Found most similar article.\n",
      "Attempt number 1: Generating blog...\n",
      "Using RAG prompt...\n",
      "Checking request limits before invoking the model...\n",
      "Invoking the model...\n",
      "Model invoked successfully. Total requests today: 1, RPM: 1, TPM: 30323\n",
      "Blog generated successfully.\n",
      "Checking request limits before invoking the model...\n",
      "Invoking the model...\n",
      "Model invoked successfully. Total requests today: 2, RPM: 2, TPM: 32050\n",
      "Blog evaluated successfully. Evaluation: Very Good.\n",
      "No similar blogs found, new blog is added to memory.\n",
      "Saving blog in file: /home/kanstantsin-downar/PycharmProjects/bachalor-project/llm_blog_generator/data/generation_results/blog\n",
      "Long term memory module saved successfully.\n"
     ]
    }
   ],
   "execution_count": 70
  },
  {
   "cell_type": "code",
   "id": "e20ec1fbb312fcb1",
   "metadata": {
    "ExecuteTime": {
     "end_time": "2025-04-13T09:13:43.441670Z",
     "start_time": "2025-04-13T09:13:43.438279Z"
    }
   },
   "source": [
    "print(blog)"
   ],
   "outputs": [
    {
     "name": "stdout",
     "output_type": "stream",
     "text": [
      "# Regularizing Neural Networks with Hyperspherical Energy: A Deep Dive\n",
      "\n",
      "Have you ever wondered why some neural networks generalize better than others? The secret might lie in how well the neurons are organized within the network. In a recent paper, researchers explored a fascinating connection between neural network regularization and a classic physics problem: the Thomson problem.\n",
      "\n",
      "## The Thomson Problem: Evenly Distributing Electrons on a Sphere\n",
      "\n",
      "The Thomson problem asks: how do you arrange N electrons on the surface of a sphere so that their electrostatic potential energy is minimized? In simpler terms, how do you spread out the electrons as evenly as possible, given that they all repel each other?\n",
      "\n",
      "## Minimum Hyperspherical Energy (MHE): Applying the Thomson Problem to Neural Networks\n",
      "\n",
      "The researchers drew inspiration from this problem to tackle a common issue in neural networks: redundancy. Over-parameterized networks often have highly correlated neurons, which can hurt their ability to generalize to new data. To combat this, they proposed a novel regularization technique called Minimum Hyperspherical Energy (MHE).\n",
      "\n",
      "MHE aims to distribute neurons evenly on a hypersphere, a higher-dimensional analog of a sphere. By minimizing the \"hyperspherical energy,\" the neurons are encouraged to be as diverse and uniformly spaced as possible. Think of it like forcing the neurons to repel each other, just like the electrons in the Thomson problem.\n",
      "\n",
      "### Key Concepts:\n",
      "\n",
      "*   **Neurons as Points on a Hypersphere:** Each neuron's weight vector is projected onto a unit hypersphere.\n",
      "*   **Hyperspherical Energy:** A measure of how evenly the neurons are distributed on the hypersphere. Lower energy means more even distribution.\n",
      "*   **Regularization:** Adding MHE to the neural network's loss function to encourage diversity and improve generalization.\n",
      "\n",
      "## MHE Variants: Tailoring Regularization to Different Layers\n",
      "\n",
      "The researchers introduced a few clever variations of MHE to handle different scenarios within the neural network:\n",
      "\n",
      "*   **Half-Space MHE:** This variant addresses a potential issue where neurons might align in opposite directions. It creates virtual neurons with opposite directions and minimizes the energy of both real and virtual neurons.\n",
      "*   **Angular-MHE (A-MHE):** Instead of using Euclidean distance to measure the distance between neurons, A-MHE uses the angular distance (the angle between the neurons).\n",
      "\n",
      "## Theoretical Insights: Why MHE Works\n",
      "\n",
      "The paper also provides some theoretical justification for why MHE is effective:\n",
      "\n",
      "*   **Asymptotic Behavior:** As the number of neurons increases, the optimal configuration tends towards a uniform distribution on the hypersphere.\n",
      "*   **Generalization and Optimality:** MHE encourages diversity, which helps eliminate spurious local minima and promotes better generalization.\n",
      "\n",
      "## Experimental Results: MHE in Action\n",
      "\n",
      "The researchers tested MHE on a variety of challenging tasks, including:\n",
      "\n",
      "*   **Generic Object Recognition (CIFAR-10, CIFAR-100, ImageNet):** MHE consistently improved the generalization performance of various network architectures.\n",
      "*   **Class-Imbalance Learning (MNIST, CIFAR-10):** MHE helped the network learn more effectively when the number of training samples was unevenly distributed across classes.\n",
      "*   **Face Recognition (LFW, MegaFace):** MHE, when applied to SphereFace (a face recognition method), led to state-of-the-art results.\n",
      "\n",
      "### Key Findings:\n",
      "\n",
      "*   MHE is architecture-agnostic and can be applied to various neural network architectures.\n",
      "*   Half-space MHE often outperforms the original MHE.\n",
      "*   MHE is not very sensitive to hyperparameter settings, making it easy to use.\n",
      "\n",
      "## MHE for GANs\n",
      "MHE can also significantly improve the image generation quality of GANs\n",
      "\n",
      "## Conclusion: A Novel Approach to Regularization\n",
      "\n",
      "This research offers a fresh perspective on regularizing neural networks by drawing inspiration from a physics problem. MHE encourages diversity among neurons, leading to improved generalization and performance on a range of tasks. By promoting a more uniform distribution of neurons on a hypersphere, MHE helps neural networks learn more robust and reliable representations.\n",
      "\n",
      "**Want to learn more?** Check out the full paper for all the details!\n",
      "\n",
      "**What do you think about this approach? Share your thoughts in the comments below!**\n",
      "\n"
     ]
    }
   ],
   "execution_count": 71
  },
  {
   "cell_type": "markdown",
   "id": "ca760e82f6293302",
   "metadata": {},
   "source": [
    "# Experiments"
   ]
  },
  {
   "metadata": {
    "ExecuteTime": {
     "end_time": "2025-04-17T12:41:34.468851Z",
     "start_time": "2025-04-17T12:41:34.463688Z"
    }
   },
   "cell_type": "code",
   "source": [
    "TODAY_EXPERIMENT_ID = 3\n",
    "\n",
    "JSON_TEMPLATE = {\n",
    "    \"RAG only\": {\n",
    "        \"Experiment 1\": [],\n",
    "        \"Experiment 2\": [],\n",
    "        \"Experiment 3\": [],\n",
    "        \"Experiment 4\": [],\n",
    "        \"Experiment 5\": []\n",
    "    },\n",
    "    \"Reflexion\": {\n",
    "        \"Experiment 1\": [],\n",
    "        \"Experiment 2\": [],\n",
    "        \"Experiment 3\": [],\n",
    "        \"Experiment 4\": [],\n",
    "        \"Experiment 5\": []\n",
    "    },\n",
    "    \"Reflexion + LTM\": {\n",
    "        \"Experiment 1\": [],\n",
    "        \"Experiment 2\": [],\n",
    "        \"Experiment 3\": [],\n",
    "        \"Experiment 4\": [],\n",
    "        \"Experiment 5\": []\n",
    "    }\n",
    "}"
   ],
   "id": "232f391fbed70676",
   "outputs": [],
   "execution_count": 3
  },
  {
   "metadata": {
    "ExecuteTime": {
     "end_time": "2025-04-17T12:41:35.685644Z",
     "start_time": "2025-04-17T12:41:35.360304Z"
    }
   },
   "cell_type": "code",
   "source": [
    "def save_results(approach, experiment_id, assessments, best_assessments):\n",
    "    def create_new_json(error, res_type):\n",
    "        print(f\"{error}\\n\"\n",
    "              f\"Creating new json file for {res_type}...\")\n",
    "        return JSON_TEMPLATE\n",
    "\n",
    "    try:\n",
    "        with open(GENERATOR_ASSESSMENTS_PATH, \"r\", encoding=\"utf-8\") as f:\n",
    "            results_generator_assessments = json.load(f)\n",
    "    except Exception as err:\n",
    "        results_generator_assessments = create_new_json(err, \"Generator assessments\")\n",
    "\n",
    "    try:\n",
    "        with open(GENERATOR_BEST_ASSESSMENTS_PATH, \"r\", encoding=\"utf-8\") as f:\n",
    "            results_generator_best_assessments = json.load(f)\n",
    "    except Exception as err:\n",
    "        results_generator_best_assessments = create_new_json(err, \"Generator best assessments\")\n",
    "\n",
    "    results_generator_assessments[approach][f\"Experiment {experiment_id}\"] = assessments\n",
    "    results_generator_best_assessments[approach][f\"Experiment {experiment_id}\"] = best_assessments\n",
    "\n",
    "    with open(GENERATOR_ASSESSMENTS_PATH, \"w\", encoding=\"utf-8\") as f:\n",
    "        json.dump(results_generator_assessments, f, indent=4)\n",
    "    with open(GENERATOR_BEST_ASSESSMENTS_PATH, \"w\", encoding=\"utf-8\") as f:\n",
    "        json.dump(results_generator_best_assessments, f, indent=4)\n",
    "\n",
    "def run_experiment(history, best_history, dataset):\n",
    "    redo = []\n",
    "    for index, row in dataset.iterrows():\n",
    "        assessment, best_assessment = generator.generate_blog(paper_text=row[\"paper_full_text\"])\n",
    "        if assessment and best_assessment:\n",
    "            history[index] = assessment\n",
    "            best_history[index] = best_assessment\n",
    "        else:\n",
    "            redo.append(index)\n",
    "    return redo\n",
    "\n",
    "def rerun_experiment_if_need(redo_list, history, best_history, dataset):\n",
    "    while redo_list:\n",
    "        current_redo_list = redo_list.copy()\n",
    "        redo_list.clear()\n",
    "\n",
    "        for index in current_redo_list:\n",
    "            assessment, best_assessment = generator.generate_blog(paper_text=dataset.loc[index, \"paper_full_text\"])\n",
    "            if assessment and best_assessment:\n",
    "                history[index] = assessment\n",
    "                best_history[index] = best_assessment\n",
    "            else:\n",
    "                redo_list.append(index)\n",
    "\n",
    "MAX_ATTEMPTS = 5\n",
    "DATASET_SIZE = Xval.shape[0]\n",
    "generator = BlogGenerator()"
   ],
   "id": "5260266041bec0bf",
   "outputs": [
    {
     "name": "stdout",
     "output_type": "stream",
     "text": [
      "Loading vector store from: /home/kanstantsin-downar/PycharmProjects/bachalor-project/llm_blog_generator/data/vector_store\n",
      "Vector store loaded successfully.\n",
      "Loading long term memory module from: /home/kanstantsin-downar/PycharmProjects/bachalor-project/llm_blog_generator/data/long_term_memory\n",
      "Failed to load Long term memory module. Initializing a new one...\n",
      "Long term memory module initialized successfully with dummy data.\n",
      "BlogGenerator initialized with vector store.\n"
     ]
    }
   ],
   "execution_count": 4
  },
  {
   "metadata": {},
   "cell_type": "markdown",
   "source": "## RAG only approach",
   "id": "c77bed12327234c5"
  },
  {
   "metadata": {
    "ExecuteTime": {
     "end_time": "2025-04-17T12:41:40.508370Z",
     "start_time": "2025-04-17T12:41:40.505232Z"
    }
   },
   "cell_type": "code",
   "source": [
    "generator.max_attempts = MAX_ATTEMPTS\n",
    "generator.experiment_mode = True\n",
    "generator.set_usage_of_reflexion(False)\n",
    "generator.set_usage_of_memory(False)"
   ],
   "id": "e89febdf9b5d4b9d",
   "outputs": [],
   "execution_count": 5
  },
  {
   "metadata": {},
   "cell_type": "code",
   "source": [
    "assessment_history_only_RAG = [None] * DATASET_SIZE\n",
    "best_assessment_history_only_RAG = [None] * DATASET_SIZE\n",
    "redo_only_RAG = run_experiment(assessment_history_only_RAG, best_assessment_history_only_RAG, Xval)"
   ],
   "id": "66f70e68429e6065",
   "outputs": [],
   "execution_count": null
  },
  {
   "metadata": {
    "ExecuteTime": {
     "end_time": "2025-04-17T13:19:48.531384Z",
     "start_time": "2025-04-17T13:19:48.526645Z"
    }
   },
   "cell_type": "code",
   "source": "print(f\"Experiment should be conduct again for blogs with ids: {redo_only_RAG}\")",
   "id": "824cd3c1d495d540",
   "outputs": [
    {
     "name": "stdout",
     "output_type": "stream",
     "text": [
      "Experiment should be conduct again for blogs with ids: [25, 26, 30]\n"
     ]
    }
   ],
   "execution_count": 7
  },
  {
   "metadata": {
    "ExecuteTime": {
     "end_time": "2025-04-17T13:24:19.354812Z",
     "start_time": "2025-04-17T13:20:03.101137Z"
    }
   },
   "cell_type": "code",
   "source": "rerun_experiment_if_need(redo_only_RAG, assessment_history_only_RAG, best_assessment_history_only_RAG, Xval)",
   "id": "458cf48903cd009a",
   "outputs": [
    {
     "name": "stdout",
     "output_type": "stream",
     "text": [
      "----------\n",
      "Found most similar article.\n",
      "Attempt number 1: Generating blog...\n",
      "Using RAG prompt...\n",
      "Checking request limits before invoking the model...\n",
      "Invoking the model...\n",
      "Model invoked successfully. Total requests today: 396, RPM: 1, TPM: 55399\n",
      "'NoneType' object has no attribute 'text'\n",
      "Error: Failed to get valid response from generator after 1 attempts.\n",
      "Retrying...\n",
      "Using RAG prompt...\n",
      "Checking request limits before invoking the model...\n",
      "Invoking the model...\n",
      "Model invoked successfully. Total requests today: 397, RPM: 2, TPM: 111997\n",
      "'NoneType' object has no attribute 'text'\n",
      "Error: Failed to get valid response from generator after 2 attempts.\n",
      "Retrying...\n",
      "Using RAG prompt...\n",
      "Checking request limits before invoking the model...\n",
      "Invoking the model...\n",
      "Model invoked successfully. Total requests today: 398, RPM: 3, TPM: 168366\n",
      "'NoneType' object has no attribute 'text'\n",
      "Error: Failed to get valid response from generator after the maximum number of attempts.\n",
      "----------\n",
      "Found most similar article.\n",
      "Attempt number 1: Generating blog...\n",
      "Using RAG prompt...\n",
      "Checking request limits before invoking the model...\n",
      "Invoking the model...\n",
      "Model invoked successfully. Total requests today: 399, RPM: 4, TPM: 211136\n",
      "'NoneType' object has no attribute 'text'\n",
      "Error: Failed to get valid response from generator after 1 attempts.\n",
      "Retrying...\n",
      "Using RAG prompt...\n",
      "Checking request limits before invoking the model...\n",
      "Invoking the model...\n",
      "Model invoked successfully. Total requests today: 400, RPM: 5, TPM: 253766\n",
      "Blog generated successfully.\n",
      "Checking request limits before invoking the model...\n",
      "Invoking the model...\n",
      "Model invoked successfully. Total requests today: 401, RPM: 6, TPM: 255429\n",
      "Blog evaluated successfully. Evaluation: Very Good.\n",
      "No similar blogs found, new blog is added to memory.\n",
      "Attempt number 2: Generating blog...\n",
      "Using RAG prompt...\n",
      "Checking request limits before invoking the model...\n",
      "Invoking the model...\n",
      "Model invoked successfully. Total requests today: 402, RPM: 7, TPM: 298078\n",
      "Blog generated successfully.\n",
      "Checking request limits before invoking the model...\n",
      "Invoking the model...\n",
      "Model invoked successfully. Total requests today: 403, RPM: 8, TPM: 299826\n",
      "Blog evaluated successfully. Evaluation: Very Good.\n",
      "No similar blogs found, new blog is added to memory.\n",
      "Attempt number 3: Generating blog...\n",
      "Using RAG prompt...\n",
      "Checking request limits before invoking the model...\n",
      "Invoking the model...\n",
      "Model invoked successfully. Total requests today: 404, RPM: 9, TPM: 342411\n",
      "Blog generated successfully.\n",
      "Checking request limits before invoking the model...\n",
      "Invoking the model...\n",
      "Model invoked successfully. Total requests today: 405, RPM: 10, TPM: 344283\n",
      "Blog evaluated successfully. Evaluation: Very Good.\n",
      "Found 2 similar blogs. Upsert blog to memory...\n",
      "Deleting blogs with ids: ['6afac2cd-85ec-4793-9010-36c90df7331d', 'f33b1464-ce99-4dba-b010-020ee86f16b3']\n",
      "Attempt number 4: Generating blog...\n",
      "Using RAG prompt...\n",
      "Checking request limits before invoking the model...\n",
      "Invoking the model...\n",
      "Model invoked successfully. Total requests today: 406, RPM: 1, TPM: 42717\n",
      "'NoneType' object has no attribute 'text'\n",
      "Error: Failed to get valid response from generator after 1 attempts.\n",
      "Retrying...\n",
      "Using RAG prompt...\n",
      "Checking request limits before invoking the model...\n",
      "Invoking the model...\n",
      "Model invoked successfully. Total requests today: 407, RPM: 2, TPM: 85354\n",
      "Blog generated successfully.\n",
      "Checking request limits before invoking the model...\n",
      "Invoking the model...\n",
      "Model invoked successfully. Total requests today: 408, RPM: 3, TPM: 87070\n",
      "Blog evaluated successfully. Evaluation: Very Good.\n",
      "No similar blogs found, new blog is added to memory.\n",
      "Attempt number 5: Generating blog...\n",
      "Using RAG prompt...\n",
      "Checking request limits before invoking the model...\n",
      "Invoking the model...\n",
      "Model invoked successfully. Total requests today: 409, RPM: 4, TPM: 129730\n",
      "Blog generated successfully.\n",
      "Checking request limits before invoking the model...\n",
      "Invoking the model...\n",
      "Model invoked successfully. Total requests today: 410, RPM: 5, TPM: 131538\n",
      "Blog evaluated successfully. Evaluation: Very Good.\n",
      "Found 2 similar blogs. Upsert blog to memory...\n",
      "Deleting blogs with ids: ['bf44ec1d-ce93-4118-9537-30e1cd8be776', 'd66eb1ad-1ff1-4633-b678-340b39491475']\n",
      "Long term memory module saved successfully.\n",
      "Saving best blog in file: /home/kanstantsin-downar/PycharmProjects/bachalor-project/llm_blog_generator/data/generation_results/blog\n",
      "----------\n",
      "Found most similar article.\n",
      "Attempt number 1: Generating blog...\n",
      "Using RAG prompt...\n",
      "Checking request limits before invoking the model...\n",
      "Invoking the model...\n",
      "Model invoked successfully. Total requests today: 411, RPM: 6, TPM: 166954\n",
      "Blog generated successfully.\n",
      "Checking request limits before invoking the model...\n",
      "Invoking the model...\n",
      "Model invoked successfully. Total requests today: 412, RPM: 7, TPM: 168864\n",
      "Blog evaluated successfully. Evaluation: Very Good.\n",
      "Found 2 similar blogs. Upsert blog to memory...\n",
      "Deleting blogs with ids: ['34b2b32e-d5d1-41ee-bde9-ccddeee9ec5a', '58d8d5ca-801a-45cc-a34a-53e13b83d268']\n",
      "Attempt number 2: Generating blog...\n",
      "Using RAG prompt...\n",
      "Checking request limits before invoking the model...\n",
      "Invoking the model...\n",
      "Model invoked successfully. Total requests today: 413, RPM: 8, TPM: 204187\n",
      "'NoneType' object has no attribute 'text'\n",
      "Error: Failed to get valid response from generator after 1 attempts.\n",
      "Retrying...\n",
      "Using RAG prompt...\n",
      "Checking request limits before invoking the model...\n",
      "Invoking the model...\n",
      "Model invoked successfully. Total requests today: 414, RPM: 9, TPM: 239631\n",
      "'NoneType' object has no attribute 'text'\n",
      "Error: Failed to get valid response from generator after 2 attempts.\n",
      "Retrying...\n",
      "Using RAG prompt...\n",
      "Checking request limits before invoking the model...\n",
      "Invoking the model...\n",
      "Model invoked successfully. Total requests today: 415, RPM: 10, TPM: 274918\n",
      "'NoneType' object has no attribute 'text'\n",
      "Error: Failed to get valid response from generator after the maximum number of attempts.\n",
      "----------\n",
      "Found most similar article.\n",
      "Attempt number 1: Generating blog...\n",
      "Using RAG prompt...\n",
      "Checking request limits before invoking the model...\n",
      "Invoking the model...\n",
      "Model invoked successfully. Total requests today: 416, RPM: 11, TPM: 331601\n",
      "Blog generated successfully.\n",
      "Checking request limits before invoking the model...\n",
      "Invoking the model...\n",
      "Model invoked successfully. Total requests today: 417, RPM: 1, TPM: 1996\n",
      "Blog evaluated successfully. Evaluation: Good.\n",
      "No similar blogs found, new blog is added to memory.\n",
      "Attempt number 2: Generating blog...\n",
      "Using RAG prompt...\n",
      "Checking request limits before invoking the model...\n",
      "Invoking the model...\n",
      "Model invoked successfully. Total requests today: 418, RPM: 2, TPM: 58341\n",
      "Blog generated successfully.\n",
      "Checking request limits before invoking the model...\n",
      "Invoking the model...\n",
      "Model invoked successfully. Total requests today: 419, RPM: 3, TPM: 60041\n",
      "Blog evaluated successfully. Evaluation: Good.\n",
      "No similar blogs found, new blog is added to memory.\n",
      "Attempt number 3: Generating blog...\n",
      "Using RAG prompt...\n",
      "Checking request limits before invoking the model...\n",
      "Invoking the model...\n",
      "Model invoked successfully. Total requests today: 420, RPM: 4, TPM: 116261\n",
      "Blog generated successfully.\n",
      "Checking request limits before invoking the model...\n",
      "Invoking the model...\n",
      "Model invoked successfully. Total requests today: 421, RPM: 5, TPM: 117874\n",
      "Blog evaluated successfully. Evaluation: Good.\n",
      "Found 2 similar blogs. Upsert blog to memory...\n",
      "Deleting blogs with ids: ['d8a119a5-5517-48b1-9cc3-15b8bbe14a9f', 'fa61910d-2d7d-44ac-a7ff-17ce4f015171']\n",
      "Attempt number 4: Generating blog...\n",
      "Using RAG prompt...\n",
      "Checking request limits before invoking the model...\n",
      "Invoking the model...\n",
      "Model invoked successfully. Total requests today: 422, RPM: 6, TPM: 173943\n",
      "Blog generated successfully.\n",
      "Checking request limits before invoking the model...\n",
      "Invoking the model...\n",
      "Model invoked successfully. Total requests today: 423, RPM: 7, TPM: 175423\n",
      "Blog evaluated successfully. Evaluation: Good.\n",
      "No similar blogs found, new blog is added to memory.\n",
      "Attempt number 5: Generating blog...\n",
      "Using RAG prompt...\n",
      "Checking request limits before invoking the model...\n",
      "Invoking the model...\n",
      "Model invoked successfully. Total requests today: 424, RPM: 8, TPM: 231911\n",
      "'NoneType' object has no attribute 'text'\n",
      "Error: Failed to get valid response from generator after 1 attempts.\n",
      "Retrying...\n",
      "Using RAG prompt...\n",
      "Checking request limits before invoking the model...\n",
      "Invoking the model...\n",
      "Model invoked successfully. Total requests today: 425, RPM: 9, TPM: 288357\n",
      "'NoneType' object has no attribute 'text'\n",
      "Error: Failed to get valid response from generator after 2 attempts.\n",
      "Retrying...\n",
      "Using RAG prompt...\n",
      "Checking request limits before invoking the model...\n",
      "Invoking the model...\n",
      "Model invoked successfully. Total requests today: 426, RPM: 10, TPM: 344721\n",
      "Blog generated successfully.\n",
      "Checking request limits before invoking the model...\n",
      "Invoking the model...\n",
      "Model invoked successfully. Total requests today: 427, RPM: 11, TPM: 346479\n",
      "Blog evaluated successfully. Evaluation: Good.\n",
      "Found 2 similar blogs. Upsert blog to memory...\n",
      "Deleting blogs with ids: ['44eaab50-38b1-4567-89dd-ed22e9e7530d', 'ee06c2fb-739b-43f3-b603-b3b23e5b4aff']\n",
      "Long term memory module saved successfully.\n",
      "Saving best blog in file: /home/kanstantsin-downar/PycharmProjects/bachalor-project/llm_blog_generator/data/generation_results/blog\n",
      "----------\n",
      "Found most similar article.\n",
      "Attempt number 1: Generating blog...\n",
      "Using RAG prompt...\n",
      "Checking request limits before invoking the model...\n",
      "Invoking the model...\n",
      "Model invoked successfully. Total requests today: 428, RPM: 12, TPM: 381012\n",
      "Blog generated successfully.\n",
      "Checking request limits before invoking the model...\n",
      "Invoking the model...\n",
      "Model invoked successfully. Total requests today: 429, RPM: 13, TPM: 382159\n",
      "Blog evaluated successfully. Evaluation: Good.\n",
      "No similar blogs found, new blog is added to memory.\n",
      "Attempt number 2: Generating blog...\n",
      "Using RAG prompt...\n",
      "Checking request limits before invoking the model...\n",
      "Invoking the model...\n",
      "Model invoked successfully. Total requests today: 430, RPM: 1, TPM: 35619\n",
      "'NoneType' object has no attribute 'text'\n",
      "Error: Failed to get valid response from generator after 1 attempts.\n",
      "Retrying...\n",
      "Using RAG prompt...\n",
      "Checking request limits before invoking the model...\n",
      "Invoking the model...\n",
      "Model invoked successfully. Total requests today: 431, RPM: 2, TPM: 71074\n",
      "'NoneType' object has no attribute 'text'\n",
      "Error: Failed to get valid response from generator after 2 attempts.\n",
      "Retrying...\n",
      "Using RAG prompt...\n",
      "Checking request limits before invoking the model...\n",
      "Invoking the model...\n",
      "Model invoked successfully. Total requests today: 432, RPM: 3, TPM: 106507\n",
      "Blog generated successfully.\n",
      "Checking request limits before invoking the model...\n",
      "Invoking the model...\n",
      "Model invoked successfully. Total requests today: 433, RPM: 4, TPM: 108485\n",
      "Blog evaluated successfully. Evaluation: Very Good.\n",
      "Found 2 similar blogs. Upsert blog to memory...\n",
      "Deleting blogs with ids: ['2adc7d2a-df7b-4ae1-8c1d-7d78608ed4a9', '24158c49-b891-47fd-be6b-cdc187ac4bf6']\n",
      "Attempt number 3: Generating blog...\n",
      "Using RAG prompt...\n",
      "Checking request limits before invoking the model...\n",
      "Invoking the model...\n",
      "Model invoked successfully. Total requests today: 434, RPM: 5, TPM: 143934\n",
      "'NoneType' object has no attribute 'text'\n",
      "Error: Failed to get valid response from generator after 1 attempts.\n",
      "Retrying...\n",
      "Using RAG prompt...\n",
      "Checking request limits before invoking the model...\n",
      "Invoking the model...\n",
      "Model invoked successfully. Total requests today: 435, RPM: 6, TPM: 179314\n",
      "Blog generated successfully.\n",
      "Checking request limits before invoking the model...\n",
      "Invoking the model...\n",
      "Model invoked successfully. Total requests today: 436, RPM: 7, TPM: 181258\n",
      "Blog evaluated successfully. Evaluation: Good.\n",
      "No similar blogs found, new blog is added to memory.\n",
      "Attempt number 4: Generating blog...\n",
      "Using RAG prompt...\n",
      "Checking request limits before invoking the model...\n",
      "Invoking the model...\n",
      "Model invoked successfully. Total requests today: 437, RPM: 8, TPM: 216639\n",
      "Blog generated successfully.\n",
      "Checking request limits before invoking the model...\n",
      "Invoking the model...\n",
      "Model invoked successfully. Total requests today: 438, RPM: 9, TPM: 218469\n",
      "Blog evaluated successfully. Evaluation: Good.\n",
      "Found 2 similar blogs. Upsert blog to memory...\n",
      "Deleting blogs with ids: ['4b7b744e-0e26-4e5b-8190-cb294475a059']\n",
      "Attempt number 5: Generating blog...\n",
      "Using RAG prompt...\n",
      "Checking request limits before invoking the model...\n",
      "Invoking the model...\n",
      "Model invoked successfully. Total requests today: 439, RPM: 10, TPM: 253819\n",
      "'NoneType' object has no attribute 'text'\n",
      "Error: Failed to get valid response from generator after 1 attempts.\n",
      "Retrying...\n",
      "Using RAG prompt...\n",
      "Checking request limits before invoking the model...\n",
      "Invoking the model...\n",
      "Model invoked successfully. Total requests today: 440, RPM: 11, TPM: 289400\n",
      "Blog generated successfully.\n",
      "Checking request limits before invoking the model...\n",
      "Invoking the model...\n",
      "Model invoked successfully. Total requests today: 441, RPM: 12, TPM: 291486\n",
      "Blog evaluated successfully. Evaluation: Good.\n",
      "No similar blogs found, new blog is added to memory.\n",
      "Long term memory module saved successfully.\n",
      "Saving best blog in file: /home/kanstantsin-downar/PycharmProjects/bachalor-project/llm_blog_generator/data/generation_results/blog\n"
     ]
    }
   ],
   "execution_count": 8
  },
  {
   "metadata": {
    "ExecuteTime": {
     "end_time": "2025-04-17T13:39:24.025255Z",
     "start_time": "2025-04-17T13:39:24.016932Z"
    }
   },
   "cell_type": "code",
   "source": "save_results(\"RAG only\", TODAY_EXPERIMENT_ID, assessment_history_only_RAG, best_assessment_history_only_RAG)",
   "id": "1391aeeea4afd119",
   "outputs": [],
   "execution_count": 9
  },
  {
   "metadata": {},
   "cell_type": "markdown",
   "source": "## Reflexion",
   "id": "75d70b144b72e0ed"
  },
  {
   "metadata": {
    "ExecuteTime": {
     "end_time": "2025-04-17T13:39:27.085613Z",
     "start_time": "2025-04-17T13:39:27.081822Z"
    }
   },
   "cell_type": "code",
   "source": "generator.set_usage_of_reflexion(True)",
   "id": "2fccaa31040aaa97",
   "outputs": [],
   "execution_count": 10
  },
  {
   "metadata": {},
   "cell_type": "code",
   "source": [
    "assessment_history_ref = [None] * DATASET_SIZE\n",
    "best_assessment_history_ref = [None] * DATASET_SIZE\n",
    "redo_ref = run_experiment(assessment_history_ref, best_assessment_history_ref, Xval)"
   ],
   "id": "93f0ced475f854f2",
   "outputs": [],
   "execution_count": null
  },
  {
   "metadata": {
    "ExecuteTime": {
     "end_time": "2025-04-17T14:18:32.656263Z",
     "start_time": "2025-04-17T14:18:32.653012Z"
    }
   },
   "cell_type": "code",
   "source": "print(f\"Experiment should be conduct again for blogs with ids: {redo_ref}\")",
   "id": "5b37a502e60df3ce",
   "outputs": [
    {
     "name": "stdout",
     "output_type": "stream",
     "text": [
      "Experiment should be conduct again for blogs with ids: [26]\n"
     ]
    }
   ],
   "execution_count": 12
  },
  {
   "metadata": {
    "ExecuteTime": {
     "end_time": "2025-04-17T14:20:57.947120Z",
     "start_time": "2025-04-17T14:20:03.659829Z"
    }
   },
   "cell_type": "code",
   "source": "rerun_experiment_if_need(redo_ref, assessment_history_ref, best_assessment_history_ref, Xval)",
   "id": "d82a057b27132779",
   "outputs": [
    {
     "name": "stdout",
     "output_type": "stream",
     "text": [
      "----------\n",
      "Found most similar article.\n",
      "Attempt number 1: Generating blog...\n",
      "Using RAG prompt...\n",
      "Checking request limits before invoking the model...\n",
      "Invoking the model...\n",
      "Model invoked successfully. Total requests today: 813, RPM: 1, TPM: 42566\n",
      "Blog generated successfully.\n",
      "Checking request limits before invoking the model...\n",
      "Invoking the model...\n",
      "Model invoked successfully. Total requests today: 814, RPM: 2, TPM: 44348\n",
      "Blog evaluated successfully. Evaluation: Very Good.\n",
      "No similar blogs found, new blog is added to memory.\n",
      "Attempt number 2: Generating blog...\n",
      "Using retry prompt with Reflexion...\n",
      "Checking request limits before invoking the model...\n",
      "Invoking the model...\n",
      "Model invoked successfully. Total requests today: 815, RPM: 3, TPM: 46734\n",
      "Blog generated successfully.\n",
      "Checking request limits before invoking the model...\n",
      "Invoking the model...\n",
      "Model invoked successfully. Total requests today: 816, RPM: 4, TPM: 48622\n",
      "Blog evaluated successfully. Evaluation: Very Good.\n",
      "Found 2 similar blogs. Upsert blog to memory...\n",
      "Deleting blogs with ids: ['4ac79913-a97f-433b-a3f0-fccc8b2e5792', '8e390fc5-fccd-4314-b680-9cd1ddabe5f1']\n",
      "Attempt number 3: Generating blog...\n",
      "Using retry prompt with Reflexion...\n",
      "Checking request limits before invoking the model...\n",
      "Invoking the model...\n",
      "Model invoked successfully. Total requests today: 817, RPM: 5, TPM: 51372\n",
      "Blog generated successfully.\n",
      "Checking request limits before invoking the model...\n",
      "Invoking the model...\n",
      "Model invoked successfully. Total requests today: 818, RPM: 6, TPM: 53439\n",
      "Blog evaluated successfully. Evaluation: Very Good.\n",
      "No similar blogs found, new blog is added to memory.\n",
      "Attempt number 4: Generating blog...\n",
      "Using retry prompt with Reflexion...\n",
      "Checking request limits before invoking the model...\n",
      "Invoking the model...\n",
      "Model invoked successfully. Total requests today: 819, RPM: 7, TPM: 56294\n",
      "Blog generated successfully.\n",
      "Checking request limits before invoking the model...\n",
      "Invoking the model...\n",
      "Model invoked successfully. Total requests today: 820, RPM: 8, TPM: 58476\n",
      "Blog evaluated successfully. Evaluation: Very Good.\n",
      "Found 2 similar blogs. Upsert blog to memory...\n",
      "Deleting blogs with ids: ['90acc4da-5bd1-4d58-8e1a-ee47c8c213ed', 'df5e0a02-d7af-48a7-89a9-c7a72d34e291']\n",
      "Attempt number 5: Generating blog...\n",
      "Using retry prompt with Reflexion...\n",
      "Checking request limits before invoking the model...\n",
      "Invoking the model...\n",
      "Model invoked successfully. Total requests today: 821, RPM: 9, TPM: 61743\n",
      "Blog generated successfully.\n",
      "Checking request limits before invoking the model...\n",
      "Invoking the model...\n",
      "Model invoked successfully. Total requests today: 822, RPM: 10, TPM: 64236\n",
      "Blog evaluated successfully. Evaluation: Very Good.\n",
      "No similar blogs found, new blog is added to memory.\n",
      "Long term memory module saved successfully.\n",
      "Saving best blog in file: /home/kanstantsin-downar/PycharmProjects/bachalor-project/llm_blog_generator/data/generation_results/blog\n"
     ]
    }
   ],
   "execution_count": 18
  },
  {
   "metadata": {
    "ExecuteTime": {
     "end_time": "2025-04-17T14:20:57.965995Z",
     "start_time": "2025-04-17T14:20:57.954843Z"
    }
   },
   "cell_type": "code",
   "source": "save_results(\"Reflexion\", TODAY_EXPERIMENT_ID, assessment_history_ref, best_assessment_history_ref)",
   "id": "9baac8b13d29ac84",
   "outputs": [],
   "execution_count": 19
  },
  {
   "metadata": {},
   "cell_type": "markdown",
   "source": "## Reflexion + Long Term Memory",
   "id": "a1278a92032fbafe"
  },
  {
   "metadata": {
    "ExecuteTime": {
     "end_time": "2025-04-17T15:05:09.430388Z",
     "start_time": "2025-04-17T15:05:09.427095Z"
    }
   },
   "cell_type": "code",
   "source": "generator.set_usage_of_memory(True)",
   "id": "e0740ac9ffb375b6",
   "outputs": [],
   "execution_count": 22
  },
  {
   "metadata": {},
   "cell_type": "code",
   "source": [
    "assessment_history_with_memory_usage = [None] * DATASET_SIZE\n",
    "best_assessment_history_with_memory_usage = [None] * DATASET_SIZE\n",
    "redo_with_memory_usage = run_experiment(assessment_history_with_memory_usage, best_assessment_history_with_memory_usage, Xtest)"
   ],
   "id": "cc9f13b75d01aa12",
   "outputs": [],
   "execution_count": null
  },
  {
   "metadata": {
    "ExecuteTime": {
     "end_time": "2025-04-17T15:50:53.531728Z",
     "start_time": "2025-04-17T15:50:53.527780Z"
    }
   },
   "cell_type": "code",
   "source": "print(f\"Experiment should be conduct again for blogs with ids: {redo_with_memory_usage}\")",
   "id": "b4931d22ca8195ba",
   "outputs": [
    {
     "name": "stdout",
     "output_type": "stream",
     "text": [
      "Experiment should be conduct again for blogs with ids: [25]\n"
     ]
    }
   ],
   "execution_count": 24
  },
  {
   "metadata": {
    "ExecuteTime": {
     "end_time": "2025-04-17T15:55:54.837246Z",
     "start_time": "2025-04-17T15:54:50.387410Z"
    }
   },
   "cell_type": "code",
   "source": "rerun_experiment_if_need(redo_with_memory_usage, assessment_history_with_memory_usage, best_assessment_history_with_memory_usage, Xtest)",
   "id": "213581e0e09a928",
   "outputs": [
    {
     "name": "stdout",
     "output_type": "stream",
     "text": [
      "----------\n",
      "Found most similar article.\n",
      "Attempt number 1: Generating blog...\n",
      "Using RAG prompt...\n",
      "Checking request limits before invoking the model...\n",
      "Invoking the model...\n",
      "Model invoked successfully. Total requests today: 1210, RPM: 1, TPM: 81200\n",
      "Blog generated successfully.\n",
      "Checking request limits before invoking the model...\n",
      "Invoking the model...\n",
      "Model invoked successfully. Total requests today: 1211, RPM: 2, TPM: 82863\n",
      "Blog evaluated successfully. Evaluation: Very Good.\n",
      "No similar blogs found, new blog is added to memory.\n",
      "Attempt number 2: Generating blog...\n",
      "Using retry prompt with Reflexion and memory module...\n",
      "Found relevant memory.\n",
      "Checking request limits before invoking the model...\n",
      "Invoking the model...\n",
      "Model invoked successfully. Total requests today: 1212, RPM: 3, TPM: 86303\n",
      "Blog generated successfully.\n",
      "Checking request limits before invoking the model...\n",
      "Invoking the model...\n",
      "Model invoked successfully. Total requests today: 1213, RPM: 4, TPM: 88360\n",
      "Blog evaluated successfully. Evaluation: Very Good.\n",
      "No similar blogs found, new blog is added to memory.\n",
      "Attempt number 3: Generating blog...\n",
      "Using retry prompt with Reflexion and memory module...\n",
      "Found relevant memory.\n",
      "Checking request limits before invoking the model...\n",
      "Invoking the model...\n",
      "Model invoked successfully. Total requests today: 1214, RPM: 5, TPM: 93060\n",
      "Blog generated successfully.\n",
      "Checking request limits before invoking the model...\n",
      "Invoking the model...\n",
      "Model invoked successfully. Total requests today: 1215, RPM: 6, TPM: 95923\n",
      "Blog evaluated successfully. Evaluation: Very Good.\n",
      "Found 2 similar blogs. Upsert blog to memory...\n",
      "Deleting blogs with ids: ['e7933439-9ff6-49d3-917e-c4f43e34f090', 'a3acd8c1-2738-4cca-a8b9-b3f305264536']\n",
      "Attempt number 4: Generating blog...\n",
      "Using retry prompt with Reflexion and memory module...\n",
      "Found relevant memory.\n",
      "Checking request limits before invoking the model...\n",
      "Invoking the model...\n",
      "Model invoked successfully. Total requests today: 1216, RPM: 7, TPM: 102942\n",
      "Blog generated successfully.\n",
      "Checking request limits before invoking the model...\n",
      "Invoking the model...\n",
      "Model invoked successfully. Total requests today: 1217, RPM: 8, TPM: 106140\n",
      "Blog evaluated successfully. Evaluation: Very Good.\n",
      "No similar blogs found, new blog is added to memory.\n",
      "Attempt number 5: Generating blog...\n",
      "Using retry prompt with Reflexion and memory module...\n",
      "Found relevant memory.\n",
      "Checking request limits before invoking the model...\n",
      "Invoking the model...\n",
      "Model invoked successfully. Total requests today: 1218, RPM: 9, TPM: 113668\n",
      "Blog generated successfully.\n",
      "Checking request limits before invoking the model...\n",
      "Invoking the model...\n",
      "Model invoked successfully. Total requests today: 1219, RPM: 10, TPM: 117009\n",
      "Blog evaluated successfully. Evaluation: Very Good.\n",
      "Found 2 similar blogs. Upsert blog to memory...\n",
      "Deleting blogs with ids: ['7b48bde1-a182-426c-9a7a-e9783c733333', '517b4231-ce3b-4613-a17a-630c1f823893']\n",
      "Long term memory module saved successfully.\n",
      "Saving best blog in file: /home/kanstantsin-downar/PycharmProjects/bachalor-project/llm_blog_generator/data/generation_results/blog\n"
     ]
    }
   ],
   "execution_count": 25
  },
  {
   "metadata": {
    "ExecuteTime": {
     "end_time": "2025-04-17T15:55:54.872341Z",
     "start_time": "2025-04-17T15:55:54.862237Z"
    }
   },
   "cell_type": "code",
   "source": "save_results(\"Reflexion + LTM\", TODAY_EXPERIMENT_ID, assessment_history_with_memory_usage, best_assessment_history_with_memory_usage)",
   "id": "7fbcdca994aacd54",
   "outputs": [],
   "execution_count": 26
  },
  {
   "metadata": {},
   "cell_type": "markdown",
   "source": "# Results",
   "id": "c82e898f90f4965"
  },
  {
   "metadata": {
    "ExecuteTime": {
     "end_time": "2025-04-17T15:55:54.919508Z",
     "start_time": "2025-04-17T15:55:54.905569Z"
    }
   },
   "cell_type": "code",
   "source": [
    "EXPERIMENT_NUMBER = TODAY_EXPERIMENT_ID\n",
    "\n",
    "def calculate_error(values):\n",
    "    confidence = 0.95\n",
    "    values = np.array(values)\n",
    "    mean = np.mean(values)\n",
    "    sem = stats.sem(values)\n",
    "    confidence_interval = stats.t.interval(confidence, df=len(values)-1, loc=mean, scale=sem)\n",
    "    return confidence_interval[1] - mean\n",
    "\n",
    "def plot(results_rag, results_ref, results_with_memory_usage, results_type):\n",
    "    plt.figure(figsize=(10, 8))\n",
    "\n",
    "    plt.errorbar(np.array(list(range(1, 6))) - 0.1, results_rag, yerr=calculate_error(results_rag), fmt='none', label=\"RAG only CI\", capsize=5, capthick=2, color='blue')\n",
    "    plt.errorbar(np.array(list(range(1, 6))) + 0.1, results_ref, yerr=calculate_error(results_ref), fmt='none', label=\"Reflexion CI\", capsize=5, capthick=2, color='orange')\n",
    "    plt.errorbar(list(range(1, 6)), results_with_memory_usage, yerr=calculate_error(results_with_memory_usage), fmt='none', label=\"Reflexion + LTM CI\", capsize=5, capthick=2, color='green')\n",
    "\n",
    "    plt.plot(range(1, 6), results_rag, marker=\"s\", label=\"RAG only\", color='blue')\n",
    "    plt.plot(range(1, 6), results_ref, marker=\"o\", label=\"Reflexion\", color='orange')\n",
    "    plt.plot(range(1, 6), results_with_memory_usage, marker=\"d\", label=\"Reflexion + LTM\", color='green')\n",
    "\n",
    "    distance_from_edge = 0.1\n",
    "    min_value = np.min([results_rag.min(), results_ref.min(), results_with_memory_usage.min()])\n",
    "    max_value = np.max([results_rag.max(), results_ref.max(), results_with_memory_usage.max()])\n",
    "    plt.yticks([1, 2, 3, 4, 5], [\"Bad\", \"Average\", \"Good\", \"Very Good\", \"Excellent\"])\n",
    "    plt.ylim(math.floor(min_value) - distance_from_edge, math.ceil(max_value) + distance_from_edge)\n",
    "    plt.xticks(range(1, 6))\n",
    "\n",
    "    plt.xlabel(\"Number of Attempts\")\n",
    "    plt.ylabel(f\"Average Engagement Level\")\n",
    "    plt.title(f\"{results_type}\")\n",
    "    plt.legend()\n",
    "    plt.grid(True)\n",
    "\n",
    "    plt.show()"
   ],
   "id": "c2c325e625c85e0f",
   "outputs": [],
   "execution_count": 27
  },
  {
   "metadata": {
    "ExecuteTime": {
     "end_time": "2025-04-17T15:55:54.981707Z",
     "start_time": "2025-04-17T15:55:54.977196Z"
    }
   },
   "cell_type": "code",
   "source": [
    "try:\n",
    "    with open(GENERATOR_ASSESSMENTS_PATH, \"r\", encoding=\"utf-8\") as file:\n",
    "        assessment_history = json.load(file)\n",
    "except Exception as e:\n",
    "    print(f\"{e}\\n\"\n",
    "          f\"Results not founded.\")"
   ],
   "id": "4ba6718381026f22",
   "outputs": [],
   "execution_count": 28
  },
  {
   "metadata": {
    "ExecuteTime": {
     "end_time": "2025-04-17T15:55:55.298515Z",
     "start_time": "2025-04-17T15:55:55.028491Z"
    }
   },
   "cell_type": "code",
   "source": [
    "rag_exp = []\n",
    "for i in range(1, EXPERIMENT_NUMBER + 1):\n",
    "    exp_data = np.array(assessment_history[\"RAG only\"][f\"Experiment {i}\"])\n",
    "    rag_exp.append(np.mean(exp_data, axis=0))\n",
    "average_rag = np.mean(rag_exp, axis=0)\n",
    "\n",
    "reflexion_exp = []\n",
    "for i in range(1, EXPERIMENT_NUMBER + 1):\n",
    "    exp_data = np.array(assessment_history[\"Reflexion\"][f\"Experiment {i}\"])\n",
    "    reflexion_exp.append(np.mean(exp_data, axis=0))\n",
    "average_reflexion = np.mean(reflexion_exp, axis=0)\n",
    "\n",
    "ltm_exp = []\n",
    "for i in range(1, EXPERIMENT_NUMBER + 1):\n",
    "    exp_data = np.array(assessment_history[\"Reflexion + LTM\"][f\"Experiment {i}\"])\n",
    "    ltm_exp.append(np.mean(exp_data, axis=0))\n",
    "average_ltm = np.mean(ltm_exp, axis=0)\n",
    "\n",
    "plot(average_rag, average_reflexion, average_ltm, \"The Average Blog Engagement Level in This Attempt\")"
   ],
   "id": "9f9d62893bb19e40",
   "outputs": [
    {
     "data": {
      "text/plain": [
       "<Figure size 1000x800 with 1 Axes>"
      ],
      "image/png": "[encoded data removed]"
     },
     "metadata": {},
     "output_type": "display_data"
    }
   ],
   "execution_count": 29
  },
  {
   "metadata": {
    "ExecuteTime": {
     "end_time": "2025-04-17T15:55:55.327529Z",
     "start_time": "2025-04-17T15:55:55.323126Z"
    }
   },
   "cell_type": "code",
   "source": [
    "try:\n",
    "    with open(GENERATOR_BEST_ASSESSMENTS_PATH, \"r\", encoding=\"utf-8\") as file:\n",
    "        best_assessment_history = json.load(file)\n",
    "except Exception as e:\n",
    "    print(f\"{e}\\n\"\n",
    "          f\"Results not founded.\")"
   ],
   "id": "c3e9a7b37e570349",
   "outputs": [],
   "execution_count": 30
  },
  {
   "metadata": {
    "ExecuteTime": {
     "end_time": "2025-04-17T15:55:55.612103Z",
     "start_time": "2025-04-17T15:55:55.396236Z"
    }
   },
   "cell_type": "code",
   "source": [
    "rag_exp_best = []\n",
    "for i in range(1, EXPERIMENT_NUMBER + 1):\n",
    "    exp_data = np.array(best_assessment_history[\"RAG only\"][f\"Experiment {i}\"])\n",
    "    rag_exp_best.append(np.mean(exp_data, axis=0))\n",
    "average_rag_best = np.mean(rag_exp_best, axis=0)\n",
    "\n",
    "reflexion_exp_best = []\n",
    "for i in range(1, EXPERIMENT_NUMBER + 1):\n",
    "    exp_data = np.array(best_assessment_history[\"Reflexion\"][f\"Experiment {i}\"])\n",
    "    reflexion_exp_best.append(np.mean(exp_data, axis=0))\n",
    "average_reflexion_best = np.mean(reflexion_exp_best, axis=0)\n",
    "\n",
    "ltm_exp_best = []\n",
    "for i in range(1, EXPERIMENT_NUMBER + 1):\n",
    "    exp_data = np.array(best_assessment_history[\"Reflexion + LTM\"][f\"Experiment {i}\"])\n",
    "    ltm_exp_best.append(np.mean(exp_data, axis=0))\n",
    "average_ltm_best = np.mean(ltm_exp_best, axis=0)\n",
    "\n",
    "plot(average_rag_best, average_reflexion_best, average_ltm_best, \"The Average Engagement Level of The Best Blog Generated Up To and Including This Attempt\")"
   ],
   "id": "a2452043568d3ad9",
   "outputs": [
    {
     "data": {
      "text/plain": [
       "<Figure size 1000x800 with 1 Axes>"
      ],
      "image/png": "[encoded data removed]"
     },
     "metadata": {},
     "output_type": "display_data"
    }
   ],
   "execution_count": 31
  }
 ],
 "metadata": {
  "kernelspec": {
   "display_name": "Python 3 (ipykernel)",
   "language": "python",
   "name": "python3"
  },
  "language_info": {
   "codemirror_mode": {
    "name": "ipython",
    "version": 3
   },
   "file_extension": ".py",
   "mimetype": "text/x-python",
   "name": "python",
   "nbconvert_exporter": "python",
   "pygments_lexer": "ipython3",
   "version": "3.12.3"
  }
 },
 "nbformat": 4,
 "nbformat_minor": 5
}
