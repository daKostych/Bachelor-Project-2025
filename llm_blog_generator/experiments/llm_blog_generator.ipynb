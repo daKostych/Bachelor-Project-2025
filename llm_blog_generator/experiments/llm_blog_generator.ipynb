{
 "cells": [
  {
   "cell_type": "code",
   "id": "96d4c1b9bfd31448",
   "metadata": {
    "ExecuteTime": {
     "end_time": "2025-04-07T09:42:53.824230Z",
     "start_time": "2025-04-07T09:42:41.344037Z"
    }
   },
   "source": [
    "import sys\n",
    "import os\n",
    "import warnings\n",
    "from pathlib import Path\n",
    "import logging\n",
    "\n",
    "import numpy as np\n",
    "import matplotlib.pyplot as plt\n",
    "from sklearn.model_selection import train_test_split\n",
    "from langchain.vectorstores import FAISS\n",
    "import google.generativeai as genai\n",
    "from dotenv import load_dotenv\n",
    "\n",
    "if str(Path().resolve().parent) not in sys.path:\n",
    "    sys.path.append(str(Path().resolve().parent))\n",
    "\n",
    "load_dotenv()\n",
    "GOOGLE_API_KEY = os.getenv(\"GOOGLE_API_KEY\")\n",
    "genai.configure(api_key=GOOGLE_API_KEY)\n",
    "\n",
    "warnings.filterwarnings(\"ignore\", category=FutureWarning)\n",
    "\n",
    "from src.config import random_seed, PREPROCESSED_BLOG_DATASET_PATH, VECTOR_STORE_PATH\n",
    "from src.text_extraction import *\n",
    "from src.models_setup import embedding_model, langchain_embedding_model, gemini_2_flash\n",
    "from src.prompts import prompt_rag, prompt_five_shots, prompt_retry\n",
    "from src.output_formats import BlogGeneration, BlogClassification\n",
    "from src.helpers import get_examples\n",
    "from src.blog_generator import BlogGenerator\n",
    "\n",
    "if not logging.getLogger().hasHandlers():\n",
    "    logging.basicConfig(level=logging.INFO, format='%(asctime)s - %(levelname)s - %(message)s')"
   ],
   "outputs": [],
   "execution_count": 1
  },
  {
   "cell_type": "markdown",
   "id": "1359c2b435d04127",
   "metadata": {},
   "source": [
    "# Data Processing"
   ]
  },
  {
   "cell_type": "code",
   "id": "3ca8de9f51404a2d",
   "metadata": {
    "ExecuteTime": {
     "end_time": "2025-04-07T09:42:53.856171Z",
     "start_time": "2025-04-07T09:42:53.835232Z"
    }
   },
   "source": [
    "# Import data\n",
    "blogs = pd.read_csv(PREPROCESSED_BLOG_DATASET_PATH)\n",
    "\n",
    "# Split dataset into validation and test set\n",
    "Xval, Xtest, yval_score, ytest_score = train_test_split(\n",
    "    blogs.drop(columns=['normalized_engagement_score']), blogs[\"normalized_engagement_score\"],\n",
    "    test_size=0.4, random_state=random_seed)\n",
    "\n",
    "# Same Xval, Xtest; new explained variable \"engagement_level\"\n",
    "Xval, Xtest, yval_level, ytest_level = train_test_split(\n",
    "    blogs.drop(columns=['engagement_level', 'normalized_engagement_score']), blogs[\"engagement_level\"],\n",
    "    test_size=0.4, random_state=random_seed)\n",
    "\n",
    "print(f\"Size of validation set, X: {Xval.shape}, y: {yval_score.shape}\")\n",
    "print(f\"Size of test set, X: {Xtest.shape}, y: {ytest_score.shape}\")"
   ],
   "outputs": [
    {
     "name": "stdout",
     "output_type": "stream",
     "text": [
      "Size of validation set, X: (30, 11), y: (30,)\n",
      "Size of test set, X: (20, 11), y: (20,)\n"
     ]
    }
   ],
   "execution_count": 2
  },
  {
   "cell_type": "code",
   "id": "5a639a1c9d723e17",
   "metadata": {
    "ExecuteTime": {
     "end_time": "2025-04-07T09:42:54.130933Z",
     "start_time": "2025-04-07T09:42:54.121140Z"
    }
   },
   "source": [
    "valid_blogs = blogs[blogs[\"engagement_level\"].isin([\"Good\", \"Very Good\", \"Excellent\"])].copy()\n",
    "valid_blogs.info()"
   ],
   "outputs": [
    {
     "name": "stdout",
     "output_type": "stream",
     "text": [
      "<class 'pandas.core.frame.DataFrame'>\n",
      "Index: 28 entries, 0 to 47\n",
      "Data columns (total 13 columns):\n",
      " #   Column                       Non-Null Count  Dtype  \n",
      "---  ------                       --------------  -----  \n",
      " 0   id                           28 non-null     int64  \n",
      " 1   title_blog                   28 non-null     object \n",
      " 2   url_blog                     28 non-null     object \n",
      " 3   author_blog                  28 non-null     object \n",
      " 4   author_followers             28 non-null     int64  \n",
      " 5   claps                        28 non-null     int64  \n",
      " 6   comments                     28 non-null     int64  \n",
      " 7   title_paper                  28 non-null     object \n",
      " 8   url_paper                    28 non-null     object \n",
      " 9   engagement_score             28 non-null     float64\n",
      " 10  normalized_engagement_score  28 non-null     float64\n",
      " 11  blog_full_text               28 non-null     object \n",
      " 12  engagement_level             28 non-null     object \n",
      "dtypes: float64(2), int64(4), object(7)\n",
      "memory usage: 3.1+ KB\n"
     ]
    }
   ],
   "execution_count": 3
  },
  {
   "cell_type": "code",
   "id": "e477307db5c1f4ba",
   "metadata": {
    "ExecuteTime": {
     "end_time": "2025-04-07T09:43:04.123031Z",
     "start_time": "2025-04-07T09:42:54.169401Z"
    }
   },
   "source": [
    "valid_blogs[\"full_paper\"] = valid_blogs[\"url_paper\"].apply(extract_paper_text)"
   ],
   "outputs": [],
   "execution_count": 4
  },
  {
   "cell_type": "markdown",
   "id": "f69939f38ef89093",
   "metadata": {},
   "source": [
    "# Vector storage"
   ]
  },
  {
   "cell_type": "code",
   "id": "fd1d625972aaf063",
   "metadata": {
    "ExecuteTime": {
     "end_time": "2025-04-07T09:43:09.177043Z",
     "start_time": "2025-04-07T09:43:04.150374Z"
    }
   },
   "source": [
    "elements = []\n",
    "for text, blog_url, author in zip(valid_blogs[\"full_paper\"],\n",
    "                                                   valid_blogs[\"url_blog\"],\n",
    "                                                   valid_blogs[\"author_blog\"]):\n",
    "    embedding = embedding_model.encode(text, clean_up_tokenization_spaces=True)\n",
    "    metadata = {\n",
    "        \"full_text\": text,\n",
    "        \"blog_url\": blog_url,\n",
    "        \"author\": author\n",
    "    }\n",
    "    elements.append((embedding, metadata))\n",
    "\n",
    "vector_store = FAISS.from_texts(\n",
    "    texts=[element[1][\"full_text\"] for element in elements],\n",
    "    embedding=langchain_embedding_model,\n",
    "    metadatas=[element[1] for element in elements]\n",
    ")\n",
    "\n",
    "vector_store.save_local(VECTOR_STORE_PATH)"
   ],
   "outputs": [
    {
     "data": {
      "text/plain": [
       "Batches:   0%|          | 0/1 [00:00<?, ?it/s]"
      ],
      "application/vnd.jupyter.widget-view+json": {
       "version_major": 2,
       "version_minor": 0,
       "model_id": "7bc6d6e78c4744d092b5a0435fe6135e"
      }
     },
     "metadata": {},
     "output_type": "display_data"
    },
    {
     "data": {
      "text/plain": [
       "Batches:   0%|          | 0/1 [00:00<?, ?it/s]"
      ],
      "application/vnd.jupyter.widget-view+json": {
       "version_major": 2,
       "version_minor": 0,
       "model_id": "a9cb982b91674e1fa57323098e658f78"
      }
     },
     "metadata": {},
     "output_type": "display_data"
    },
    {
     "data": {
      "text/plain": [
       "Batches:   0%|          | 0/1 [00:00<?, ?it/s]"
      ],
      "application/vnd.jupyter.widget-view+json": {
       "version_major": 2,
       "version_minor": 0,
       "model_id": "dbdf3b8a30fb4a2cadcb6af716a32403"
      }
     },
     "metadata": {},
     "output_type": "display_data"
    },
    {
     "data": {
      "text/plain": [
       "Batches:   0%|          | 0/1 [00:00<?, ?it/s]"
      ],
      "application/vnd.jupyter.widget-view+json": {
       "version_major": 2,
       "version_minor": 0,
       "model_id": "45a5d88b6d0a4d7b8dd9da553f26b864"
      }
     },
     "metadata": {},
     "output_type": "display_data"
    },
    {
     "data": {
      "text/plain": [
       "Batches:   0%|          | 0/1 [00:00<?, ?it/s]"
      ],
      "application/vnd.jupyter.widget-view+json": {
       "version_major": 2,
       "version_minor": 0,
       "model_id": "e3454c1485234a9cb61f06e9c99f10af"
      }
     },
     "metadata": {},
     "output_type": "display_data"
    },
    {
     "data": {
      "text/plain": [
       "Batches:   0%|          | 0/1 [00:00<?, ?it/s]"
      ],
      "application/vnd.jupyter.widget-view+json": {
       "version_major": 2,
       "version_minor": 0,
       "model_id": "f7789c2462264d81b5dbbc8431b239b4"
      }
     },
     "metadata": {},
     "output_type": "display_data"
    },
    {
     "data": {
      "text/plain": [
       "Batches:   0%|          | 0/1 [00:00<?, ?it/s]"
      ],
      "application/vnd.jupyter.widget-view+json": {
       "version_major": 2,
       "version_minor": 0,
       "model_id": "3c8ab9a55a18482dbe3da13dbba502ad"
      }
     },
     "metadata": {},
     "output_type": "display_data"
    },
    {
     "data": {
      "text/plain": [
       "Batches:   0%|          | 0/1 [00:00<?, ?it/s]"
      ],
      "application/vnd.jupyter.widget-view+json": {
       "version_major": 2,
       "version_minor": 0,
       "model_id": "6db174c71e19457ea4dd8eea7cdd93d7"
      }
     },
     "metadata": {},
     "output_type": "display_data"
    },
    {
     "data": {
      "text/plain": [
       "Batches:   0%|          | 0/1 [00:00<?, ?it/s]"
      ],
      "application/vnd.jupyter.widget-view+json": {
       "version_major": 2,
       "version_minor": 0,
       "model_id": "778aa5140dcc48e39ad9c61c9b854774"
      }
     },
     "metadata": {},
     "output_type": "display_data"
    },
    {
     "data": {
      "text/plain": [
       "Batches:   0%|          | 0/1 [00:00<?, ?it/s]"
      ],
      "application/vnd.jupyter.widget-view+json": {
       "version_major": 2,
       "version_minor": 0,
       "model_id": "e38972d786f24710b038dcbb8359e24d"
      }
     },
     "metadata": {},
     "output_type": "display_data"
    },
    {
     "data": {
      "text/plain": [
       "Batches:   0%|          | 0/1 [00:00<?, ?it/s]"
      ],
      "application/vnd.jupyter.widget-view+json": {
       "version_major": 2,
       "version_minor": 0,
       "model_id": "59a3eb0fd5674c158ef526eb308915eb"
      }
     },
     "metadata": {},
     "output_type": "display_data"
    },
    {
     "data": {
      "text/plain": [
       "Batches:   0%|          | 0/1 [00:00<?, ?it/s]"
      ],
      "application/vnd.jupyter.widget-view+json": {
       "version_major": 2,
       "version_minor": 0,
       "model_id": "610a5d97d5b640e18dc1ba833d802b9f"
      }
     },
     "metadata": {},
     "output_type": "display_data"
    },
    {
     "data": {
      "text/plain": [
       "Batches:   0%|          | 0/1 [00:00<?, ?it/s]"
      ],
      "application/vnd.jupyter.widget-view+json": {
       "version_major": 2,
       "version_minor": 0,
       "model_id": "0639c33e15ea4efba0cd5db0d3b8702b"
      }
     },
     "metadata": {},
     "output_type": "display_data"
    },
    {
     "data": {
      "text/plain": [
       "Batches:   0%|          | 0/1 [00:00<?, ?it/s]"
      ],
      "application/vnd.jupyter.widget-view+json": {
       "version_major": 2,
       "version_minor": 0,
       "model_id": "9aba997a1b3c4513aa79a3308f138a79"
      }
     },
     "metadata": {},
     "output_type": "display_data"
    },
    {
     "data": {
      "text/plain": [
       "Batches:   0%|          | 0/1 [00:00<?, ?it/s]"
      ],
      "application/vnd.jupyter.widget-view+json": {
       "version_major": 2,
       "version_minor": 0,
       "model_id": "2a751f4a617846d7b5d4f7aae28205e4"
      }
     },
     "metadata": {},
     "output_type": "display_data"
    },
    {
     "data": {
      "text/plain": [
       "Batches:   0%|          | 0/1 [00:00<?, ?it/s]"
      ],
      "application/vnd.jupyter.widget-view+json": {
       "version_major": 2,
       "version_minor": 0,
       "model_id": "391612a18a0743b59d357edeeb191ee7"
      }
     },
     "metadata": {},
     "output_type": "display_data"
    },
    {
     "data": {
      "text/plain": [
       "Batches:   0%|          | 0/1 [00:00<?, ?it/s]"
      ],
      "application/vnd.jupyter.widget-view+json": {
       "version_major": 2,
       "version_minor": 0,
       "model_id": "3b8b2c104f93418d9edb781bbd4923c9"
      }
     },
     "metadata": {},
     "output_type": "display_data"
    },
    {
     "data": {
      "text/plain": [
       "Batches:   0%|          | 0/1 [00:00<?, ?it/s]"
      ],
      "application/vnd.jupyter.widget-view+json": {
       "version_major": 2,
       "version_minor": 0,
       "model_id": "2c7b6ab3d3ea47518938cc657a39f1fa"
      }
     },
     "metadata": {},
     "output_type": "display_data"
    },
    {
     "data": {
      "text/plain": [
       "Batches:   0%|          | 0/1 [00:00<?, ?it/s]"
      ],
      "application/vnd.jupyter.widget-view+json": {
       "version_major": 2,
       "version_minor": 0,
       "model_id": "a0a1119d173d4c6abc1d729bfb41704f"
      }
     },
     "metadata": {},
     "output_type": "display_data"
    },
    {
     "data": {
      "text/plain": [
       "Batches:   0%|          | 0/1 [00:00<?, ?it/s]"
      ],
      "application/vnd.jupyter.widget-view+json": {
       "version_major": 2,
       "version_minor": 0,
       "model_id": "16b65f745b5641bdb50bc29367a9e96a"
      }
     },
     "metadata": {},
     "output_type": "display_data"
    },
    {
     "data": {
      "text/plain": [
       "Batches:   0%|          | 0/1 [00:00<?, ?it/s]"
      ],
      "application/vnd.jupyter.widget-view+json": {
       "version_major": 2,
       "version_minor": 0,
       "model_id": "254ef6cb02df46f386b256ab20d6e068"
      }
     },
     "metadata": {},
     "output_type": "display_data"
    },
    {
     "data": {
      "text/plain": [
       "Batches:   0%|          | 0/1 [00:00<?, ?it/s]"
      ],
      "application/vnd.jupyter.widget-view+json": {
       "version_major": 2,
       "version_minor": 0,
       "model_id": "761563ff22844d54b8fff29b54cb46af"
      }
     },
     "metadata": {},
     "output_type": "display_data"
    },
    {
     "data": {
      "text/plain": [
       "Batches:   0%|          | 0/1 [00:00<?, ?it/s]"
      ],
      "application/vnd.jupyter.widget-view+json": {
       "version_major": 2,
       "version_minor": 0,
       "model_id": "d634d490dda64d48bdb8f8573bb1d493"
      }
     },
     "metadata": {},
     "output_type": "display_data"
    },
    {
     "data": {
      "text/plain": [
       "Batches:   0%|          | 0/1 [00:00<?, ?it/s]"
      ],
      "application/vnd.jupyter.widget-view+json": {
       "version_major": 2,
       "version_minor": 0,
       "model_id": "9aee0f02d9eb43ce910691af16dfe85f"
      }
     },
     "metadata": {},
     "output_type": "display_data"
    },
    {
     "data": {
      "text/plain": [
       "Batches:   0%|          | 0/1 [00:00<?, ?it/s]"
      ],
      "application/vnd.jupyter.widget-view+json": {
       "version_major": 2,
       "version_minor": 0,
       "model_id": "4382b92a56fb46028b56a8b4d1cf1b76"
      }
     },
     "metadata": {},
     "output_type": "display_data"
    },
    {
     "data": {
      "text/plain": [
       "Batches:   0%|          | 0/1 [00:00<?, ?it/s]"
      ],
      "application/vnd.jupyter.widget-view+json": {
       "version_major": 2,
       "version_minor": 0,
       "model_id": "32cb388528e5461cb14dc14e3fb37d51"
      }
     },
     "metadata": {},
     "output_type": "display_data"
    },
    {
     "data": {
      "text/plain": [
       "Batches:   0%|          | 0/1 [00:00<?, ?it/s]"
      ],
      "application/vnd.jupyter.widget-view+json": {
       "version_major": 2,
       "version_minor": 0,
       "model_id": "cdc4269537dc40e69f66ca139f3ef7e3"
      }
     },
     "metadata": {},
     "output_type": "display_data"
    },
    {
     "data": {
      "text/plain": [
       "Batches:   0%|          | 0/1 [00:00<?, ?it/s]"
      ],
      "application/vnd.jupyter.widget-view+json": {
       "version_major": 2,
       "version_minor": 0,
       "model_id": "c2e400d84ac14c3aa0bb2347bb2aa833"
      }
     },
     "metadata": {},
     "output_type": "display_data"
    },
    {
     "name": "stderr",
     "output_type": "stream",
     "text": [
      "2025-04-07 11:43:09,112 - INFO - Loading faiss with AVX2 support.\n",
      "2025-04-07 11:43:09,150 - INFO - Successfully loaded faiss with AVX2 support.\n",
      "2025-04-07 11:43:09,159 - INFO - Failed to load GPU Faiss: name 'GpuIndexIVFFlat' is not defined. Will not load constructor refs for GPU indexes.\n"
     ]
    }
   ],
   "execution_count": 5
  },
  {
   "cell_type": "code",
   "id": "e32bee0d3b513143",
   "metadata": {
    "ExecuteTime": {
     "end_time": "2025-04-07T09:43:09.218294Z",
     "start_time": "2025-04-07T09:43:09.210016Z"
    }
   },
   "source": [
    "vector_store = FAISS.load_local(VECTOR_STORE_PATH,\n",
    "                                embeddings=langchain_embedding_model,\n",
    "                                allow_dangerous_deserialization=True)\n",
    "\n",
    "def find_most_similar_article(query_text):\n",
    "    query_embedding = embedding_model.encode(query_text, clean_up_tokenization_spaces=True)\n",
    "    results = vector_store.similarity_search_by_vector(query_embedding, k=2)\n",
    "\n",
    "    if results:\n",
    "        most_similar = results[1]\n",
    "        return most_similar.metadata"
   ],
   "outputs": [],
   "execution_count": 6
  },
  {
   "cell_type": "markdown",
   "id": "aef7c3d1f21f0f52",
   "metadata": {},
   "source": [
    "# Generator manual test"
   ]
  },
  {
   "cell_type": "code",
   "id": "63392ea1c21d422c",
   "metadata": {
    "ExecuteTime": {
     "end_time": "2025-04-06T17:33:03.874056Z",
     "start_time": "2025-04-06T17:32:39.894789Z"
    }
   },
   "source": [
    "paper_text = extract_paper_text(blogs.loc[0, \"url_paper\"])\n",
    "most_similar_article = find_most_similar_article(paper_text)\n",
    "example_blog = extract_blog_text(url_blog=most_similar_article[\"blog_url\"],\n",
    "                                 author_blog=most_similar_article[\"author\"])\n",
    "\n",
    "# RAG approach\n",
    "llm_generator = gemini_2_flash.with_structured_output(BlogGeneration, include_raw=True)\n",
    "generation_chain = prompt_rag | llm_generator\n",
    "generator_response = generation_chain.invoke({\"paper_text\": paper_text,\n",
    "                                              \"example_paper\": most_similar_article[\"full_text\"],\n",
    "                                              \"example_blog\": example_blog})"
   ],
   "outputs": [
    {
     "data": {
      "text/plain": [
       "Batches:   0%|          | 0/1 [00:00<?, ?it/s]"
      ],
      "application/vnd.jupyter.widget-view+json": {
       "version_major": 2,
       "version_minor": 0,
       "model_id": "98b5f68a5926492c956d1905a6cbb6fc"
      }
     },
     "metadata": {},
     "output_type": "display_data"
    }
   ],
   "execution_count": 10
  },
  {
   "cell_type": "code",
   "id": "ec3569e9a5374a69",
   "metadata": {
    "ExecuteTime": {
     "end_time": "2025-04-06T17:33:03.930323Z",
     "start_time": "2025-04-06T17:33:03.926167Z"
    }
   },
   "source": [
    "print(generator_response[\"parsed\"].text)"
   ],
   "outputs": [
    {
     "name": "stdout",
     "output_type": "stream",
     "text": [
      "# Unlocking the Secrets of Large Language Models: A Beginner's Guide\n",
      "\n",
      "Have you ever wondered how AI can generate human-like text, translate languages, or even write code? The answer lies in Large Language Models (LLMs), a revolutionary technology that's transforming the world of artificial intelligence.\n",
      "\n",
      "## From Natural Language Processing to Revolutionary AI\n",
      "\n",
      "LLMs evolved from natural language processing (NLP), a field focused on enabling computers to understand and process human language. The core insight is that by training on massive amounts of text, these models can acquire knowledge about the world and language, creating a versatile tool for diverse problems.\n",
      "\n",
      "## The Pre-training Paradigm: Laying the Foundation\n",
      "\n",
      "Traditional NLP involved training specialized systems from scratch using labeled data. However, LLMs introduce a new paradigm: large-scale pre-training. This involves training a \"foundation model\" on vast amounts of unlabeled data, which can then be fine-tuned, aligned, and prompted for specific tasks. This pre-training process allows the model to learn general linguistic structures and world knowledge.\n",
      "\n",
      "## Key Concepts and Techniques\n",
      "\n",
      "### Pre-training: The Bedrock of LLMs\n",
      "Pre-training involves training a neural network on a general task before applying it to specific tasks of interest. This allows the model to learn useful representations from readily available unlabeled data.\n",
      "\n",
      "### Generative Models: Creating Human-Like Text\n",
      "Generative models, like the ones we commonly refer to as LLMs, are trained to predict the next word in a sequence. By scaling up model training and handling long texts, these models can generate remarkably coherent and contextually relevant text.\n",
      "\n",
      "### Prompting: Guiding the LLM\n",
      "Prompting involves providing the LLM with specific instructions or examples to guide its output. Effective prompting can unlock the full potential of LLMs for various applications.\n",
      "\n",
      "### Alignment: Making LLMs Safe and Reliable\n",
      "Alignment methods ensure that LLMs behave in ways that are consistent with human values and expectations. This includes techniques like instruction fine-tuning and human feedback to mitigate biases and ensure ethical behavior.\n",
      "\n",
      "## Diving Deeper: A Look Inside the LLM\n",
      "\n",
      "### Decoder-Only Transformers: Predicting the Next Word\n",
      "Decoder-only Transformers are a popular architecture for LLMs. They predict the distribution of the next word given the preceding words, allowing for the generation of coherent text.\n",
      "\n",
      "### Encoder-Only Transformers: Understanding the Context\n",
      "Encoder-only Transformers, like BERT, excel at understanding the context of a sequence. They are often used for tasks like text classification and sentiment analysis.\n",
      "\n",
      "### Masked Language Modeling: Filling in the Blanks\n",
      "Masked language modeling is a self-supervised technique where the model learns to predict masked words in a sequence, enhancing its understanding of language structure.\n",
      "\n",
      "## Putting LLMs to Work: Applications and Adaptations\n",
      "\n",
      "### Fine-tuning: Tailoring LLMs to Specific Tasks\n",
      "Fine-tuning involves adjusting the parameters of a pre-trained LLM using labeled data for a specific task, such as text classification or machine translation.\n",
      "\n",
      "### Prompting: A Zero-Shot Approach\n",
      "Prompting allows LLMs to perform new tasks without any additional training. By carefully crafting prompts, we can guide the LLM to generate the desired output.\n",
      "\n",
      "### In-Context Learning: Learning from Examples\n",
      "In-context learning involves providing the LLM with a few examples of the task, allowing it to learn and adapt to the new task without any parameter updates.\n",
      "\n",
      "## Addressing Challenges: Training at Scale and Handling Long Sequences\n",
      "\n",
      "### Training at Scale: Overcoming Computational Hurdles\n",
      "Training LLMs at scale requires significant computational resources and careful attention to data preparation, model modifications, and distributed training.\n",
      "\n",
      "### Long Sequence Modeling: Processing Extensive Texts\n",
      "Long sequence modeling techniques enable LLMs to handle very long texts, opening up new possibilities for tasks like document summarization and analysis.\n",
      "\n",
      "## The Future of LLMs: A Path Towards General Intelligence\n",
      "\n",
      "Large language models represent a significant step towards more general artificial intelligence. By learning from vast amounts of data and adapting to new tasks through fine-tuning and prompting, LLMs are revolutionizing the way we interact with computers and process information.\n",
      "\n",
      "## Key Takeaways\n",
      "\n",
      "*   LLMs are trained through large-scale pre-training, followed by fine-tuning and alignment.\n",
      "*   They utilize Transformer architectures to understand and generate human-like text.\n",
      "*   Prompting is a crucial technique for guiding LLMs to perform specific tasks.\n",
      "*   Training LLMs at scale and handling long sequences present significant challenges.\n",
      "\n",
      "This is just a starting point. As the field evolves, we can expect even more exciting developments in LLM technology, leading to new applications and a deeper understanding of intelligence itself. Stay curious and keep exploring! Feel free to leave comments or questions below, and share your thoughts on the future of LLMs.\n",
      "\n",
      "#LLMs #AI #DeepLearning #NLP #ArtificialIntelligence #LanguageModels #MachineLearning #PromptEngineering\n"
     ]
    }
   ],
   "execution_count": 11
  },
  {
   "cell_type": "code",
   "id": "3dddc49b0f625b8c",
   "metadata": {
    "ExecuteTime": {
     "end_time": "2025-04-06T17:33:05.889234Z",
     "start_time": "2025-04-06T17:33:03.976203Z"
    }
   },
   "source": [
    "examples = get_examples()\n",
    "blog_text = generator_response[\"parsed\"].text\n",
    "\n",
    "llm_evaluator = gemini_2_flash.with_structured_output(BlogClassification, include_raw=True)\n",
    "evaluation_chain = prompt_five_shots | llm_evaluator\n",
    "evaluator_response = evaluation_chain.invoke({**examples, \"blog_text\": blog_text})"
   ],
   "outputs": [],
   "execution_count": 12
  },
  {
   "cell_type": "code",
   "id": "ca2fead73c6dfbd0",
   "metadata": {
    "ExecuteTime": {
     "end_time": "2025-04-06T17:33:05.928984Z",
     "start_time": "2025-04-06T17:33:05.925659Z"
    }
   },
   "source": [
    "print(f\"Overall assessment: {evaluator_response[\"parsed\"].overall_assessment}\")"
   ],
   "outputs": [
    {
     "name": "stdout",
     "output_type": "stream",
     "text": [
      "Overall assessment: Average\n"
     ]
    }
   ],
   "execution_count": 13
  },
  {
   "cell_type": "code",
   "id": "f65a3ea64157fed0",
   "metadata": {
    "ExecuteTime": {
     "end_time": "2025-04-06T17:33:06.015094Z",
     "start_time": "2025-04-06T17:33:06.010575Z"
    }
   },
   "source": [
    "improvements = evaluator_response[\"parsed\"].improvements\n",
    "print(f\"Possible improvements:\")\n",
    "for i, improvement in enumerate(improvements):\n",
    "    print(f\"{i+1}. {improvement}\")"
   ],
   "outputs": [
    {
     "name": "stdout",
     "output_type": "stream",
     "text": [
      "Possible improvements:\n",
      "1. Incorporate more specific examples of LLM applications.\n",
      "2. Add a section discussing the limitations and potential risks of LLMs.\n",
      "3. Include a case study or a real-world example of LLM implementation.\n",
      "4. Provide more technical details about the Transformer architecture.\n",
      "5. Offer a comparative analysis of different LLM models (e.g., GPT-3 vs. BERT).\n"
     ]
    }
   ],
   "execution_count": 14
  },
  {
   "cell_type": "code",
   "id": "7a593dd2daf85cf4",
   "metadata": {
    "ExecuteTime": {
     "end_time": "2025-04-06T17:33:15.070685Z",
     "start_time": "2025-04-06T17:33:06.122355Z"
    }
   },
   "source": [
    "possible_improvements = \"\\n\".join([f\"{i+1}. {improvement}\" for i, improvement in enumerate(improvements)])\n",
    "\n",
    "# Reflexion\n",
    "generation_chain = prompt_retry | llm_generator\n",
    "generator_response = generation_chain.invoke({\"generated_blog\": blog_text,\n",
    "                                              \"possible_improvements\": possible_improvements})"
   ],
   "outputs": [],
   "execution_count": 15
  },
  {
   "cell_type": "code",
   "id": "29cde0c08e508057",
   "metadata": {
    "ExecuteTime": {
     "end_time": "2025-04-06T17:33:15.111395Z",
     "start_time": "2025-04-06T17:33:15.108219Z"
    }
   },
   "source": [
    "print(generator_response[\"parsed\"].text)"
   ],
   "outputs": [
    {
     "name": "stdout",
     "output_type": "stream",
     "text": [
      "# Unlocking the Secrets of Large Language Models: A Beginner's Guide\n",
      "\n",
      "Have you ever wondered how AI can generate human-like text, translate languages, or even write code? The answer lies in Large Language Models (LLMs), a revolutionary technology that's transforming the world of artificial intelligence. LLMs are not just theoretical marvels; they're actively used in creating engaging content, powering chatbots, and even assisting in medical diagnoses.\n",
      "\n",
      "## From Natural Language Processing to Revolutionary AI\n",
      "\n",
      "LLMs evolved from natural language processing (NLP), a field focused on enabling computers to understand and process human language. The core insight is that by training on massive amounts of text, these models can acquire knowledge about the world and language, creating a versatile tool for diverse problems.\n",
      "\n",
      "## The Pre-training Paradigm: Laying the Foundation\n",
      "\n",
      "Traditional NLP involved training specialized systems from scratch using labeled data. However, LLMs introduce a new paradigm: large-scale pre-training. This involves training a \"foundation model\" on vast amounts of unlabeled data, which can then be fine-tuned, aligned, and prompted for specific tasks. This pre-training process allows the model to learn general linguistic structures and world knowledge.\n",
      "\n",
      "## Key Concepts and Techniques\n",
      "\n",
      "### Pre-training: The Bedrock of LLMs\n",
      "Pre-training involves training a neural network on a general task before applying it to specific tasks of interest. This allows the model to learn useful representations from readily available unlabeled data.\n",
      "\n",
      "### Generative Models: Creating Human-Like Text\n",
      "Generative models, like the ones we commonly refer to as LLMs, are trained to predict the next word in a sequence. By scaling up model training and handling long texts, these models can generate remarkably coherent and contextually relevant text. Consider, for example, how these models can complete sentences or even generate entire articles based on a single prompt.\n",
      "\n",
      "### Prompting: Guiding the LLM\n",
      "Prompting involves providing the LLM with specific instructions or examples to guide its output. Effective prompting can unlock the full potential of LLMs for various applications.\n",
      "\n",
      "### Alignment: Making LLMs Safe and Reliable\n",
      "Alignment methods ensure that LLMs behave in ways that are consistent with human values and expectations. This includes techniques like instruction fine-tuning and human feedback to mitigate biases and ensure ethical behavior.\n",
      "\n",
      "## Diving Deeper: A Look Inside the LLM\n",
      "\n",
      "### Decoder-Only Transformers: Predicting the Next Word\n",
      "Decoder-only Transformers are a popular architecture for LLMs. They predict the distribution of the next word given the preceding words, allowing for the generation of coherent text. These architectures leverage self-attention mechanisms to weigh the importance of different words in the input sequence, enabling them to capture long-range dependencies.\n",
      "\n",
      "### Encoder-Only Transformers: Understanding the Context\n",
      "Encoder-only Transformers, like BERT, excel at understanding the context of a sequence. They are often used for tasks like text classification and sentiment analysis.\n",
      "\n",
      "### Masked Language Modeling: Filling in the Blanks\n",
      "Masked language modeling is a self-supervised technique where the model learns to predict masked words in a sequence, enhancing its understanding of language structure.\n",
      "\n",
      "## Putting LLMs to Work: Applications and Adaptations\n",
      "\n",
      "### Fine-tuning: Tailoring LLMs to Specific Tasks\n",
      "Fine-tuning involves adjusting the parameters of a pre-trained LLM using labeled data for a specific task, such as text classification or machine translation.\n",
      "\n",
      "### Prompting: A Zero-Shot Approach\n",
      "Prompting allows LLMs to perform new tasks without any additional training. By carefully crafting prompts, we can guide the LLM to generate the desired output. For instance, you could ask an LLM to summarize a news article or translate a sentence into another language, all without any prior training for that specific task.\n",
      "\n",
      "### In-Context Learning: Learning from Examples\n",
      "In-context learning involves providing the LLM with a few examples of the task, allowing it to learn and adapt to the new task without any parameter updates.\n",
      "\n",
      "## Case Study: LLMs in Customer Service\n",
      "\n",
      "One compelling real-world example of LLM implementation is in customer service. Companies are increasingly using LLMs to power chatbots that can handle a wide range of customer inquiries, from answering basic questions to resolving complex issues. These chatbots provide instant support, reduce wait times, and free up human agents to focus on more challenging tasks. However, it's important to acknowledge the limitations; these systems are not perfect and can sometimes provide inaccurate or inappropriate responses. Continuous monitoring and refinement are essential.\n",
      "\n",
      "## Addressing Challenges: Training at Scale and Handling Long Sequences\n",
      "\n",
      "### Training at Scale: Overcoming Computational Hurdles\n",
      "Training LLMs at scale requires significant computational resources and careful attention to data preparation, model modifications, and distributed training.\n",
      "\n",
      "### Long Sequence Modeling: Processing Extensive Texts\n",
      "Long sequence modeling techniques enable LLMs to handle very long texts, opening up new possibilities for tasks like document summarization and analysis.\n",
      "\n",
      "## Limitations and Potential Risks\n",
      "\n",
      "While LLMs offer tremendous potential, it's crucial to acknowledge their limitations and potential risks. These include:\n",
      "\n",
      "*   **Bias:** LLMs can perpetuate and amplify biases present in their training data.\n",
      "*   **Misinformation:** They can generate convincing but false information.\n",
      "*   **Ethical Concerns:** The use of LLMs raises ethical questions about authorship, accountability, and the potential for misuse.\n",
      "\n",
      "Addressing these challenges requires careful attention to data curation, model evaluation, and the development of ethical guidelines.\n",
      "\n",
      "## The Future of LLMs: A Path Towards General Intelligence\n",
      "\n",
      "Large language models represent a significant step towards more general artificial intelligence. By learning from vast amounts of data and adapting to new tasks through fine-tuning and prompting, LLMs are revolutionizing the way we interact with computers and process information.\n",
      "\n",
      "## Key Takeaways\n",
      "\n",
      "*   LLMs are trained through large-scale pre-training, followed by fine-tuning and alignment.\n",
      "*   They utilize Transformer architectures to understand and generate human-like text.\n",
      "*   Prompting is a crucial technique for guiding LLMs to perform specific tasks.\n",
      "*   Training LLMs at scale and handling long sequences present significant challenges.\n",
      "*   LLMs have limitations and potential risks, including bias and the generation of misinformation.\n",
      "\n",
      "This is just a starting point. As the field evolves, we can expect even more exciting developments in LLM technology, leading to new applications and a deeper understanding of intelligence itself. Stay curious and keep exploring! Feel free to leave comments or questions below, and share your thoughts on the future of LLMs.\n",
      "\n",
      "#LLMs #AI #DeepLearning #NLP #ArtificialIntelligence #LanguageModels #MachineLearning #PromptEngineering\n",
      "\n"
     ]
    }
   ],
   "execution_count": 16
  },
  {
   "cell_type": "code",
   "id": "5206f48504f5deef",
   "metadata": {
    "ExecuteTime": {
     "end_time": "2025-04-06T17:33:17.345990Z",
     "start_time": "2025-04-06T17:33:15.152434Z"
    }
   },
   "source": [
    "blog_text = generator_response[\"parsed\"].text\n",
    "evaluator_response = evaluation_chain.invoke({**examples, \"blog_text\": blog_text})"
   ],
   "outputs": [],
   "execution_count": 17
  },
  {
   "cell_type": "code",
   "id": "ec4b23503b229f6b",
   "metadata": {
    "ExecuteTime": {
     "end_time": "2025-04-06T17:33:17.384431Z",
     "start_time": "2025-04-06T17:33:17.381167Z"
    }
   },
   "source": [
    "print(f\"Overall assessment: {evaluator_response[\"parsed\"].overall_assessment}\")"
   ],
   "outputs": [
    {
     "name": "stdout",
     "output_type": "stream",
     "text": [
      "Overall assessment: Good\n"
     ]
    }
   ],
   "execution_count": 18
  },
  {
   "cell_type": "markdown",
   "id": "a9ac6d3e8d32b56f",
   "metadata": {},
   "source": [
    "# End-to-end generation test"
   ]
  },
  {
   "cell_type": "code",
   "id": "bb1b8f5fd61f0acf",
   "metadata": {
    "ExecuteTime": {
     "end_time": "2025-04-06T17:33:29.494420Z",
     "start_time": "2025-04-06T17:33:29.481931Z"
    }
   },
   "source": [
    "generator = BlogGenerator()"
   ],
   "outputs": [
    {
     "name": "stderr",
     "output_type": "stream",
     "text": [
      "2025-04-06 19:33:29,486 - INFO - Loading vector store...\n",
      "2025-04-06 19:33:29,491 - INFO - Vector store loaded successfully.\n",
      "2025-04-06 19:33:29,492 - INFO - BlogGenerator initialized with vector store.\n"
     ]
    }
   ],
   "execution_count": 19
  },
  {
   "cell_type": "code",
   "id": "cbe18c99ef5af93a",
   "metadata": {
    "ExecuteTime": {
     "end_time": "2025-04-06T17:33:29.677785Z",
     "start_time": "2025-04-06T17:33:29.665835Z"
    }
   },
   "source": [
    "blogs = pd.read_csv(PREPROCESSED_BLOG_DATASET_PATH)"
   ],
   "outputs": [],
   "execution_count": 20
  },
  {
   "cell_type": "code",
   "id": "b85733eac47fe27c",
   "metadata": {
    "ExecuteTime": {
     "end_time": "2025-04-06T17:34:01.200838Z",
     "start_time": "2025-04-06T17:33:29.953019Z"
    }
   },
   "source": [
    "blog = generator.generate_blog(blogs.loc[0, \"url_paper\"])"
   ],
   "outputs": [
    {
     "name": "stderr",
     "output_type": "stream",
     "text": [
      "2025-04-06 19:33:29,954 - INFO - Extracting paper text from URL: https://arxiv.org/pdf/2501.09223\n",
      "2025-04-06 19:33:30,905 - INFO - Attempt number 1: Generating blog...\n"
     ]
    },
    {
     "data": {
      "text/plain": [
       "Batches:   0%|          | 0/1 [00:00<?, ?it/s]"
      ],
      "application/vnd.jupyter.widget-view+json": {
       "version_major": 2,
       "version_minor": 0,
       "model_id": "81e0f9a220ec40ca9dcef0f7ff33ac57"
      }
     },
     "metadata": {},
     "output_type": "display_data"
    },
    {
     "name": "stderr",
     "output_type": "stream",
     "text": [
      "2025-04-06 19:33:31,514 - INFO - Found most similar article.\n",
      "2025-04-06 19:33:39,325 - INFO - Checking request limits before invoking the model...\n",
      "2025-04-06 19:33:39,325 - INFO - Invoking the model...\n",
      "2025-04-06 19:33:45,595 - INFO - Model invoked successfully. Total requests today: 1, RPM: 1, TPM: 184130\n",
      "2025-04-06 19:33:45,596 - INFO - Blog generated successfully.\n",
      "2025-04-06 19:33:45,598 - INFO - Checking request limits before invoking the model...\n",
      "2025-04-06 19:33:45,599 - INFO - Invoking the model...\n",
      "2025-04-06 19:33:48,039 - INFO - Model invoked successfully. Total requests today: 2, RPM: 2, TPM: 196116\n",
      "2025-04-06 19:33:48,040 - INFO - Blog evaluated successfully. Evaluation: Average.\n",
      "2025-04-06 19:33:48,042 - INFO - Blog generation attempt 1 unsuccessful. Retrying...\n",
      "2025-04-06 19:33:48,044 - INFO - Attempt number 2: Generating blog...\n",
      "2025-04-06 19:33:48,045 - INFO - Checking request limits before invoking the model...\n",
      "2025-04-06 19:33:48,047 - INFO - Invoking the model...\n",
      "2025-04-06 19:33:58,667 - INFO - Model invoked successfully. Total requests today: 3, RPM: 3, TPM: 199203\n",
      "2025-04-06 19:33:58,669 - INFO - Blog generated successfully.\n",
      "2025-04-06 19:33:58,671 - INFO - Checking request limits before invoking the model...\n",
      "2025-04-06 19:33:58,672 - INFO - Invoking the model...\n",
      "2025-04-06 19:34:01,191 - INFO - Model invoked successfully. Total requests today: 4, RPM: 4, TPM: 211905\n",
      "2025-04-06 19:34:01,193 - INFO - Blog evaluated successfully. Evaluation: Good.\n",
      "2025-04-06 19:34:01,195 - INFO - Saving blog.\n"
     ]
    }
   ],
   "execution_count": 21
  },
  {
   "cell_type": "code",
   "id": "e20ec1fbb312fcb1",
   "metadata": {
    "ExecuteTime": {
     "end_time": "2025-04-06T17:34:01.219847Z",
     "start_time": "2025-04-06T17:34:01.214174Z"
    }
   },
   "source": [
    "print(blog)"
   ],
   "outputs": [
    {
     "name": "stdout",
     "output_type": "stream",
     "text": [
      "## A Practical Guide to Understanding and Applying Large Language Models\n",
      "\n",
      "TDS Archive\n",
      "\n",
      "My team and I are excited to share a practical guide that dives into the foundations of Large Language Models (LLMs). As AI continues to revolutionize various fields, understanding the core concepts behind LLMs is becoming increasingly crucial for researchers, developers, and enthusiasts alike. This guide offers a blend of theoretical knowledge and practical applications to help you grasp the power and potential of LLMs.\n",
      "\n",
      "This blog post is designed to outline the basic concepts of LLMs and introduce related techniques. It focuses on the foundational aspects, providing a clear and accessible overview of how these models work. We'll also explore real-world applications and discuss some of the challenges and ethical considerations surrounding their use.\n",
      "\n",
      "## What are Large Language Models?\n",
      "\n",
      "Large Language Models represent a significant leap in artificial intelligence, originating from natural language processing (NLP). At their core, LLMs demonstrate that knowledge of the world and languages can be acquired through large-scale language modeling tasks. This approach enables the creation of a universal model capable of handling diverse problems. For example, an LLM can be trained on a massive dataset of text and code to generate human-quality text, translate languages, write different kinds of creative content, and answer your questions in an informative way.\n",
      "\n",
      "LLMs have profoundly impacted research methodologies in NLP and related disciplines, shifting the focus from training specialized systems from scratch to utilizing large-scale pre-training for foundation models. These models can then be fine-tuned, aligned, and prompted to achieve specific goals. This pre-training and fine-tuning paradigm allows for rapid adaptation to new tasks with minimal task-specific data.\n",
      "\n",
      "## Key Concepts in LLMs\n",
      "\n",
      "To understand LLMs, it’s essential to grasp several key concepts:\n",
      "\n",
      "- **Pre-training**: This involves training models on vast amounts of unlabeled data using self-supervision. Pre-trained models serve as foundation models that can be easily adapted to different tasks via fine-tuning or prompting. For instance, a model might be pre-trained on all of Wikipedia to learn general language patterns and then fine-tuned to perform sentiment analysis on customer reviews.\n",
      "- **Generative Models**: These are the LLMs we commonly refer to today, built using decoder-only transformers. Understanding how to scale up model training and handle long texts is crucial. Decoder-only transformers predict the next word in a sequence, making them ideal for text generation tasks.\n",
      "- **Prompting**: This involves designing effective strategies to guide LLMs, including in-context learning, prompt engineering, and advanced methods like chain-of-thought reasoning. Prompting is like giving the LLM a specific set of instructions or examples to guide its output.\n",
      "- **Alignment**: This focuses on aligning LLMs with human intentions through instruction fine-tuning and techniques based on human feedback. Alignment ensures that LLMs are not only powerful but also safe and beneficial to society.\n",
      "\n",
      "## Pre-training: The Foundation of LLMs\n",
      "\n",
      "Pre-training is the cornerstone of large language models. It separates common components from many neural network-based systems and trains them on huge amounts of unlabeled data using self-supervision. This process enables models to:\n",
      "\n",
      "- Generalize across various tasks\n",
      "- Reduce reliance on task-specific labeled data\n",
      "- Develop more general models not confined to particular problems\n",
      "\n",
      "**Types of Pre-training**\n",
      "\n",
      "- **Unsupervised Pre-training**: Optimizes a neural network using criteria not directly related to specific tasks. An example is training a model to predict masked words in a sentence.\n",
      "- **Supervised Pre-training**: Trains a neural network on supervised learning tasks, then adapts the model to a downstream task. For example, training a model on a machine translation task before fine-tuning it for text summarization.\n",
      "- **Self-supervised Pre-training**: Trains a neural network using supervision signals generated by itself, constructing training tasks directly from unlabeled data. Masked language modeling, where the model predicts missing words in a sentence, is a common example.\n",
      "\n",
      "## Generative Models: Building and Scaling LLMs\n",
      "\n",
      "Generative models, particularly those using decoder-only transformers, are central to modern LLMs. The process of building these models involves:\n",
      "\n",
      "- Using decoder-only transformers to predict the distribution of tokens at a position given its preceding tokens. This allows the model to generate coherent and contextually relevant text.\n",
      "- Fine-tuning LLMs to improve performance on specific tasks. Fine-tuning involves training the pre-trained model on a smaller, task-specific dataset.\n",
      "- Aligning LLMs with the world to ensure they provide accurate and relevant information. This is crucial for preventing the model from generating harmful or misleading content.\n",
      "- Prompting LLMs to solve NLP problems through text generation. By carefully crafting prompts, we can guide the LLM to perform a wide variety of tasks.\n",
      "\n",
      "Training these models at scale requires careful attention to data preparation, model modifications, and distributed training strategies. Techniques like data parallelism and model parallelism are used to distribute the training workload across multiple GPUs or machines.\n",
      "\n",
      "## Prompting: Guiding LLMs Effectively\n",
      "\n",
      "Prompting is the art of designing inputs that guide LLMs to perform specific tasks. Effective prompting strategies include:\n",
      "\n",
      "- **General Prompt Design**: Basics, in-context learning, and prompt engineering strategies. This involves crafting prompts that are clear, concise, and specific to the desired task.\n",
      "- **Advanced Prompting Methods**: Chain of thought, problem decomposition, self-refinement, ensembling, and tool use. Chain of thought prompting, for example, encourages the LLM to break down a complex problem into smaller, more manageable steps.\n",
      "- **Learning to Prompt**: Prompt optimization, soft prompts, and prompt length reduction. This involves finding the optimal prompt structure and parameters to maximize performance.\n",
      "\n",
      "## Alignment: Ensuring LLMs Meet Human Intentions\n",
      "\n",
      "Alignment focuses on ensuring that LLMs behave in ways that align with human intentions, values, and ethics. This involves:\n",
      "\n",
      "- **Instruction Alignment**: Using supervised fine-tuning to adapt LLMs to follow specific instructions. This ensures that the LLM responds appropriately to user requests.\n",
      "- **Human Preference Alignment**: Aligning LLMs with human preferences through reinforcement learning from human feedback (RLHF). RLHF involves training a reward model based on human feedback and then using this reward model to optimize the LLM's behavior.\n",
      "- **Improved Human Preference Alignment**: Better reward modeling, direct preference optimization, and automatic preference data generation. These techniques aim to improve the accuracy and efficiency of the alignment process.\n",
      "\n",
      "## Challenges and Ethical Considerations\n",
      "\n",
      "While LLMs offer tremendous potential, they also pose several challenges and ethical concerns. One of the most significant is bias: LLMs can perpetuate and amplify biases present in their training data, leading to unfair or discriminatory outcomes. Other concerns include the potential for misuse, such as generating fake news or engaging in malicious activities, and the environmental impact of training these large models.\n",
      "\n",
      "Addressing these challenges requires a multi-faceted approach, including careful data curation, bias mitigation techniques, and ethical guidelines for the development and deployment of LLMs.\n",
      "\n",
      "## Real-World Applications\n",
      "\n",
      "LLMs are already being used in a wide range of real-world applications, including:\n",
      "\n",
      "- **Customer service**: LLMs power chatbots that provide instant support and answer customer inquiries.\n",
      "- **Content creation**: LLMs can generate articles, blog posts, and marketing materials.\n",
      "- **Education**: LLMs can personalize learning experiences and provide students with tailored feedback.\n",
      "- **Healthcare**: LLMs can assist doctors in diagnosing diseases and developing treatment plans.\n",
      "\n",
      "## Conclusion\n",
      "\n",
      "Large Language Models are revolutionizing the field of artificial intelligence. By understanding the foundational concepts of pre-training, generative models, prompting, and alignment, we can harness the power of LLMs to solve diverse problems and create more intelligent and ethical AI systems.\n",
      "\n",
      "This blog post is based on a compilation of notes taken while learning about large language models, offering a flexible learning path for those who wish to dive deep into specific areas or gain a comprehensive understanding.\n",
      "\n",
      "## Further Reading and Exploration\n",
      "\n",
      "If you're interested in learning more about LLMs, here are some resources to explore:\n",
      "\n",
      "- Research papers on arXiv\n",
      "- Online courses on Coursera and edX\n",
      "- Open-source LLM projects on GitHub\n",
      "\n",
      "What are your thoughts on the future of LLMs? Share your ideas and questions in the comments below!\n",
      "\n",
      "If you have any questions or would like to explore further, feel free to share your thoughts and explore the full study.\n",
      "\n"
     ]
    }
   ],
   "execution_count": 22
  },
  {
   "cell_type": "markdown",
   "id": "ca760e82f6293302",
   "metadata": {},
   "source": [
    "# Experiments"
   ]
  },
  {
   "cell_type": "code",
   "id": "add30cc58e54aec0",
   "metadata": {
    "ExecuteTime": {
     "end_time": "2025-04-07T09:43:09.318243Z",
     "start_time": "2025-04-07T09:43:09.297384Z"
    }
   },
   "source": "generator = BlogGenerator(max_retries=5, experiment=True)",
   "outputs": [
    {
     "name": "stderr",
     "output_type": "stream",
     "text": [
      "2025-04-07 11:43:09,310 - INFO - Loading vector store...\n",
      "2025-04-07 11:43:09,315 - INFO - Vector store loaded successfully.\n",
      "2025-04-07 11:43:09,316 - INFO - BlogGenerator initialized with vector store.\n"
     ]
    }
   ],
   "execution_count": 7
  },
  {
   "metadata": {},
   "cell_type": "code",
   "source": [
    "assessment_history = []\n",
    "best_assessment_history = []\n",
    "for index, row in Xval.iterrows():\n",
    "    assessment, best_assessment = generator.generate_blog(row[\"url_paper\"])\n",
    "    assessment_history.append(assessment)\n",
    "    best_assessment_history.append(best_assessment)"
   ],
   "id": "1e611c5a036b20aa",
   "outputs": [],
   "execution_count": null
  },
  {
   "cell_type": "code",
   "id": "5027058ef4d32c81",
   "metadata": {
    "ExecuteTime": {
     "end_time": "2025-04-07T10:24:25.808556Z",
     "start_time": "2025-04-07T10:24:25.804629Z"
    }
   },
   "source": [
    "assessment_history = np.array(assessment_history)\n",
    "average_assessment = np.mean(assessment_history, axis=0)\n",
    "\n",
    "best_assessment_history = np.array(best_assessment_history)\n",
    "average_best_assessment = np.mean(best_assessment_history, axis=0)"
   ],
   "outputs": [],
   "execution_count": 9
  },
  {
   "cell_type": "code",
   "id": "31a32853a7f4834e",
   "metadata": {
    "ExecuteTime": {
     "end_time": "2025-04-07T10:25:51.685467Z",
     "start_time": "2025-04-07T10:25:51.498836Z"
    }
   },
   "source": [
    "plt.figure(figsize=(10, 6))\n",
    "plt.plot(range(1, 6), average_assessment, marker=\"s\", label=\"Assessment of this attempt\")\n",
    "plt.plot(range(1, 6), average_best_assessment, marker=\"o\", label=\"Best assessment up to attempt\")\n",
    "\n",
    "distance_from_edge = 0.2\n",
    "plt.ylim(1 - distance_from_edge, 5 + distance_from_edge)\n",
    "plt.yticks([1, 2, 3, 4, 5], [\"Bad\", \"Average\", \"Good\", \"Very Good\", \"Excellent\"])\n",
    "plt.xticks(range(1, 6))\n",
    "\n",
    "plt.xlabel(\"Number of Attempts\")\n",
    "plt.ylabel(\"Average Blog Assessment\")\n",
    "plt.title(\"Average Blog Assessment by Number of Generation Attempts\")\n",
    "plt.legend()\n",
    "plt.grid(True)\n",
    "\n",
    "plt.show()"
   ],
   "outputs": [
    {
     "data": {
      "text/plain": [
       "<Figure size 1000x600 with 1 Axes>"
      ],
      "image/png": "[encoded data removed]"
     },
     "metadata": {},
     "output_type": "display_data"
    }
   ],
   "execution_count": 11
  },
  {
   "metadata": {},
   "cell_type": "code",
   "outputs": [],
   "execution_count": null,
   "source": "",
   "id": "d267200aca6d8589"
  }
 ],
 "metadata": {
  "kernelspec": {
   "display_name": "Python 3 (ipykernel)",
   "language": "python",
   "name": "python3"
  },
  "language_info": {
   "codemirror_mode": {
    "name": "ipython",
    "version": 3
   },
   "file_extension": ".py",
   "mimetype": "text/x-python",
   "name": "python",
   "nbconvert_exporter": "python",
   "pygments_lexer": "ipython3",
   "version": "3.12.3"
  }
 },
 "nbformat": 4,
 "nbformat_minor": 5
}
