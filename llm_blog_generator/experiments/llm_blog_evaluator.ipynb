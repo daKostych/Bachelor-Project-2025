{
 "cells": [
  {
   "metadata": {
    "ExecuteTime": {
     "end_time": "2025-03-05T20:30:52.180317Z",
     "start_time": "2025-03-05T20:30:52.176064Z"
    }
   },
   "cell_type": "code",
   "source": [
    "import sys\n",
    "from pathlib import Path\n",
    "\n",
    "if str(Path().resolve() / \"src\") not in sys.path:\n",
    "    sys.path.append(str(Path().resolve() / \"src\"))"
   ],
   "id": "a76f8b3c83996ddf",
   "outputs": [],
   "execution_count": 1
  },
  {
   "metadata": {},
   "cell_type": "markdown",
   "source": "# Data Preprocessing",
   "id": "491b0b756a34021a"
  },
  {
   "metadata": {
    "ExecuteTime": {
     "end_time": "2025-03-05T21:08:27.255295Z",
     "start_time": "2025-03-05T21:08:27.237116Z"
    }
   },
   "cell_type": "code",
   "source": [
    "import pandas as pd\n",
    "from sklearn.model_selection import train_test_split\n",
    "from src.config import random_seed, DATASET_PATH\n",
    "\n",
    "# Import data\n",
    "data = pd.read_csv(DATASET_PATH)\n",
    "\n",
    "# Correcting URL of the paper if needed\n",
    "data[\"url_paper\"] = data[\"url_paper\"].str.replace(\"abs\", \"pdf\", regex=False)\n",
    "\n",
    "# Calculate engagement score\n",
    "data[\"engagement_score\"] = (data[\"claps\"] + 3 * data[\"comments\"]) / data[\"author_followers\"]\n",
    "min_val = data[\"engagement_score\"].min()\n",
    "max_val = data[\"engagement_score\"].nlargest(3).iloc[-1] # Ignore 2 outliers\n",
    "data[\"normalized_engagement_score\"] = 100 * (data[\"engagement_score\"] - min_val) / (max_val - min_val) # Experimental MinMax normalization\n",
    "data[\"normalized_engagement_score\"] = round(data[\"normalized_engagement_score\"].clip(1, 100))\n",
    "\n",
    "# Split dataset into validation and test set\n",
    "Xval, Xtest, yval_score, ytest_score = train_test_split(\n",
    "    data.drop(columns=['normalized_engagement_score']), data[\"normalized_engagement_score\"],\n",
    "    test_size=0.4, random_state=random_seed)\n",
    "\n",
    "print(f\"Size of validation set, X: {Xval.shape}, y: {yval_score.shape}\")\n",
    "print(f\"Size of test set, X: {Xtest.shape}, y: {ytest_score.shape}\")"
   ],
   "id": "3a3e52e28b5746a0",
   "outputs": [
    {
     "name": "stdout",
     "output_type": "stream",
     "text": [
      "Size of validation set, X: (30, 10), y: (30,)\n",
      "Size of test set, X: (20, 10), y: (20,)\n"
     ]
    }
   ],
   "execution_count": 19
  },
  {
   "metadata": {
    "ExecuteTime": {
     "end_time": "2025-03-05T20:30:53.569284Z",
     "start_time": "2025-03-05T20:30:53.550646Z"
    }
   },
   "cell_type": "code",
   "source": [
    "# The best blog in dataset\n",
    "best_blog_info = Xval.sort_values([\"engagement_score\"], ascending=False).head(1)\n",
    "best_blog_index = best_blog_info.index[0]\n",
    "best_blog_info = best_blog_info.reset_index(drop=True)\n",
    "best_blog_info"
   ],
   "id": "947b2f95eaf6ae23",
   "outputs": [
    {
     "data": {
      "text/plain": [
       "   id         title_blog                                           url_blog  \\\n",
       "0  28  Towards Reasoning  https://medium.com/@saptarshichaudhuri/towards...   \n",
       "\n",
       "           author_blog  author_followers  claps  comments  \\\n",
       "0  Saptarshi Chaudhuri               127    461         1   \n",
       "\n",
       "                                         title_paper  \\\n",
       "0  GSM-Symbolic: Understanding the Limitations of...   \n",
       "\n",
       "                                           url_paper  engagement_score  \n",
       "0  https://arxiv.org/pdf/2410.05229?source=post_p...          3.653543  "
      ],
      "text/html": [
       "<div>\n",
       "<style scoped>\n",
       "    .dataframe tbody tr th:only-of-type {\n",
       "        vertical-align: middle;\n",
       "    }\n",
       "\n",
       "    .dataframe tbody tr th {\n",
       "        vertical-align: top;\n",
       "    }\n",
       "\n",
       "    .dataframe thead th {\n",
       "        text-align: right;\n",
       "    }\n",
       "</style>\n",
       "<table border=\"1\" class=\"dataframe\">\n",
       "  <thead>\n",
       "    <tr style=\"text-align: right;\">\n",
       "      <th></th>\n",
       "      <th>id</th>\n",
       "      <th>title_blog</th>\n",
       "      <th>url_blog</th>\n",
       "      <th>author_blog</th>\n",
       "      <th>author_followers</th>\n",
       "      <th>claps</th>\n",
       "      <th>comments</th>\n",
       "      <th>title_paper</th>\n",
       "      <th>url_paper</th>\n",
       "      <th>engagement_score</th>\n",
       "    </tr>\n",
       "  </thead>\n",
       "  <tbody>\n",
       "    <tr>\n",
       "      <th>0</th>\n",
       "      <td>28</td>\n",
       "      <td>Towards Reasoning</td>\n",
       "      <td>https://medium.com/@saptarshichaudhuri/towards...</td>\n",
       "      <td>Saptarshi Chaudhuri</td>\n",
       "      <td>127</td>\n",
       "      <td>461</td>\n",
       "      <td>1</td>\n",
       "      <td>GSM-Symbolic: Understanding the Limitations of...</td>\n",
       "      <td>https://arxiv.org/pdf/2410.05229?source=post_p...</td>\n",
       "      <td>3.653543</td>\n",
       "    </tr>\n",
       "  </tbody>\n",
       "</table>\n",
       "</div>"
      ]
     },
     "execution_count": 3,
     "metadata": {},
     "output_type": "execute_result"
    }
   ],
   "execution_count": 3
  },
  {
   "metadata": {
    "scrolled": true,
    "ExecuteTime": {
     "end_time": "2025-03-05T20:30:54.055001Z",
     "start_time": "2025-03-05T20:30:54.041635Z"
    }
   },
   "cell_type": "code",
   "source": [
    "# The worst blog in dataset\n",
    "worst_blog_info = Xval.sort_values([\"engagement_score\"], ascending=False).tail(1)\n",
    "worst_blog_index = worst_blog_info.index[0]\n",
    "worst_blog_info = worst_blog_info.reset_index(drop=True)\n",
    "worst_blog_info"
   ],
   "id": "8904bb60-4deb-4ac8-bf27-1b4aa58928df",
   "outputs": [
    {
     "data": {
      "text/plain": [
       "   id                                         title_blog  \\\n",
       "0  18  SMoA: Improving Multi-agent Large Language Mod...   \n",
       "\n",
       "                                            url_blog  author_blog  \\\n",
       "0  https://medium.com/@sulbha.jindal/smoa-improvi...  Sulbha Jain   \n",
       "\n",
       "   author_followers  claps  comments  \\\n",
       "0                41      0         0   \n",
       "\n",
       "                                         title_paper  \\\n",
       "0  SMoA: Improving Multi-agent Large Language Mod...   \n",
       "\n",
       "                          url_paper  engagement_score  \n",
       "0  https://arxiv.org/pdf/2411.03284               0.0  "
      ],
      "text/html": [
       "<div>\n",
       "<style scoped>\n",
       "    .dataframe tbody tr th:only-of-type {\n",
       "        vertical-align: middle;\n",
       "    }\n",
       "\n",
       "    .dataframe tbody tr th {\n",
       "        vertical-align: top;\n",
       "    }\n",
       "\n",
       "    .dataframe thead th {\n",
       "        text-align: right;\n",
       "    }\n",
       "</style>\n",
       "<table border=\"1\" class=\"dataframe\">\n",
       "  <thead>\n",
       "    <tr style=\"text-align: right;\">\n",
       "      <th></th>\n",
       "      <th>id</th>\n",
       "      <th>title_blog</th>\n",
       "      <th>url_blog</th>\n",
       "      <th>author_blog</th>\n",
       "      <th>author_followers</th>\n",
       "      <th>claps</th>\n",
       "      <th>comments</th>\n",
       "      <th>title_paper</th>\n",
       "      <th>url_paper</th>\n",
       "      <th>engagement_score</th>\n",
       "    </tr>\n",
       "  </thead>\n",
       "  <tbody>\n",
       "    <tr>\n",
       "      <th>0</th>\n",
       "      <td>18</td>\n",
       "      <td>SMoA: Improving Multi-agent Large Language Mod...</td>\n",
       "      <td>https://medium.com/@sulbha.jindal/smoa-improvi...</td>\n",
       "      <td>Sulbha Jain</td>\n",
       "      <td>41</td>\n",
       "      <td>0</td>\n",
       "      <td>0</td>\n",
       "      <td>SMoA: Improving Multi-agent Large Language Mod...</td>\n",
       "      <td>https://arxiv.org/pdf/2411.03284</td>\n",
       "      <td>0.0</td>\n",
       "    </tr>\n",
       "  </tbody>\n",
       "</table>\n",
       "</div>"
      ]
     },
     "execution_count": 4,
     "metadata": {},
     "output_type": "execute_result"
    }
   ],
   "execution_count": 4
  },
  {
   "cell_type": "code",
   "id": "82394efd-c053-4a65-b737-be97aa6c2f96",
   "metadata": {
    "ExecuteTime": {
     "end_time": "2025-03-05T20:30:55.262348Z",
     "start_time": "2025-03-05T20:30:55.253730Z"
    }
   },
   "source": [
    "blog = data.iloc[16]\n",
    "blog"
   ],
   "outputs": [
    {
     "data": {
      "text/plain": [
       "id                                                                            17\n",
       "title_blog                     Self-Generated Critiques Boost Reward Modeling...\n",
       "url_blog                       https://medium.com/@sulbha.jindal/self-generat...\n",
       "author_blog                                                          Sulbha Jain\n",
       "author_followers                                                              41\n",
       "claps                                                                         21\n",
       "comments                                                                       0\n",
       "title_paper                    Self-Generated Critiques Boost Reward Modeling...\n",
       "url_paper                                       https://arxiv.org/pdf/2411.16646\n",
       "engagement_score                                                        0.512195\n",
       "normalized_engagement_score                                                 49.0\n",
       "Name: 16, dtype: object"
      ]
     },
     "execution_count": 5,
     "metadata": {},
     "output_type": "execute_result"
    }
   ],
   "execution_count": 5
  },
  {
   "cell_type": "code",
   "id": "ee75bcb6-a9af-44c5-b459-0412d51cb3a9",
   "metadata": {
    "scrolled": true,
    "ExecuteTime": {
     "end_time": "2025-03-05T20:31:04.734732Z",
     "start_time": "2025-03-05T20:30:56.787746Z"
    }
   },
   "source": [
    "from src.text_extraction import extract_blog_text\n",
    "\n",
    "# Extracting clean text from a blog\n",
    "blog_text = extract_blog_text(blog)\n",
    "print(blog_text)"
   ],
   "outputs": [
    {
     "name": "stdout",
     "output_type": "stream",
     "text": [
      "# Self-Generated Critiques Boost Reward Modeling for LanguageModels — Paper Review\n",
      "Paper — https://arxiv.org/pdf/2411.16646\n",
      "Reinforcement Learning from Human Feedback (RLHF) has become a critical methodology for aligning large language models (LLMs) with human preferences. At the core of RLHF lies the reward model (RM), which is designed to evaluate model outputs by assigning scores that reflect their alignment with human judgments. These scores guide the optimization process during training, such as providing reward signals in Proximal Policy Optimization (PPO), thereby encouraging LLMs to generate responses that are more helpful, honest, and harmless. This iterative process enhances the practical quality of LLM outputs in real-world applications.\n",
      "\n",
      "## Current challenge\n",
      "Typically, reward models are trained using preference pairs and optimized through pairwise logistic loss to produce a scalar score for each response. However, this scalar output is often hard to interpret and underutilizes the inherent language modeling capabilities of LLMs derived from pretraining and post-training. These limitations can weaken the feedback signals in RLHF, resulting in suboptimal policy updates. An alternative approach is the “LLM-as-a-judge” paradigm, where the LLM generates critiques and optionally provides discrete scores as proxies for response quality. This method leverages the model’s reasoning abilities more effectively, potentially addressing some of the shortcomings of traditional reward models\n",
      "Incorporating critiques into reward modeling poses two significant challenges. First, there is the issue of conflicting objectives: generating critiques relies on language modeling capabilities, whereas traditional reward models output scalar values, making their integration into the language modeling process complex. Second, there are limitations with evaluators; off-the-shelf language models often lack the effectiveness needed for evaluation, and fine-tuning these models necessitates costly human-generated or annotated critiques. While knowledge distillation offers a potential solution by enabling a joint training approach to learn how to generate critiques and rewards simultaneously, it falls short when it comes to enhancing frontier models in situations where a stronger teacher model is unavailable. Here is Critic-RM, a new framework from Meta Researchers that enhances reward models using synthetic critiques, without relying on strong LLM teachers.\n",
      "\n",
      "## Methodology\n",
      "Critic-RM utilizes an instruction-finetuned large language model (LLM) as its foundation, generating multiple candidate critiques, each accompanied by a discrete score for individual responses. The process begins with a consistency-guided filtering technique that retains only those critiques whose scores align with human-annotated preference labels.\n",
      "To further improve the quality of these synthetic critiques, two additional strategies — summarization and ranking — are proposed to refine the critiques used in training the reward model. The framework investigates the application of an off-the-shelf instruction-finetuned LLM, for both critique generation and reward modeling. Initially, Critic-RM generates candidate critiques for each prompt-response pair, followed by a filtering step aimed at minimizing the influence of potentially noisy rationales that could lead to incorrect predictions. This approach allows for the augmentation of preference pairs with additional critiques, ultimately enhancing the precision of reward modeling.\n",
      "After generating critiques for each response, the primary challenge is developing an effective training strategy to integrate critique modeling and scalar reward prediction objectives. To address this, we propose a simple weighting strategy that balances these objectives. Initially, the model prioritizes critique modeling loss, then gradually shifts its focus toward reward prediction, utilizing both the response and the critique. This balanced approach enables the model to excel in generating high-quality critiques while maintaining accurate reward predictions.\n",
      "In Critic-RM, an additional step is introduced during inference for each (prompt, response) pair. Given a (prompt, response) pair $$(x, y)$$, the model first generates a critique $$z \\sim q_\\phi(x, y)$$. It then predicts the reward for the response as $$r = r_\\psi(x, [y, z])$$, where the reward prediction incorporates both the response and its associated critique. This process ensures a more nuanced and precise evaluation of responses.\n",
      "\n",
      "## Results\n",
      "Incorporating critiques into reward modeling has demonstrated significant benefits, particularly with the Critic-RM framework, which consistently outperforms the baselines in this study. Specifically, when trained on the same preference data, Critic-RM achieves an improvement of 3.7% to 4.7% over standard reward models. The quality of critiques plays a crucial role; comparisons reveal that other models incorporating critiques show smaller performance gains than Critic-RM when evaluated against the standard reward model. Additionally, performance enhancements are observed for both Critic-RM and its baselines when multiple critiques are generated during inference, particularly benefiting reasoning tasks.\n",
      "\n",
      "## Summary\n",
      "Researchers have developed Critic-RM, an innovative self-critiquing framework aimed at enhancing reward modeling for large language models (LLMs). This novel approach leverages the inherent capabilities of LLMs to generate and refine critiques, implementing a self-improvement mechanism that enhances both the quality of critiques and the accuracy of reward predictions. The findings from this research emphasize the efficacy of Critic-RM in improving reward modeling accuracy and underscore the crucial role of high-quality critiques in this process. Beyond merely enhancing precision in reward modeling, the framework has demonstrated robust performance across various benchmarks, including RewardBench and CrossEval, highlighting its potential to significantly advance the field of language model optimization and alignment with human preferences.\n",
      "\n",
      "## Appendix\n",
      "    * Paper link — https://arxiv.org/pdf/2411.16646\n"
     ]
    }
   ],
   "execution_count": 6
  },
  {
   "cell_type": "code",
   "id": "8f56f705-0918-4d87-b14e-07db46e1e5af",
   "metadata": {
    "scrolled": true,
    "ExecuteTime": {
     "end_time": "2025-03-05T20:31:04.934446Z",
     "start_time": "2025-03-05T20:31:04.784694Z"
    }
   },
   "source": [
    "from src.text_extraction import extract_paper_text\n",
    "\n",
    "# Extracting clean text from a scientific paper\n",
    "paper_url = data[\"url_paper\"][16]\n",
    "paper_text = extract_paper_text(paper_url)\n",
    "print(paper_text)"
   ],
   "outputs": [
    {
     "name": "stdout",
     "output_type": "stream",
     "text": [
      "Error: [Errno 2] No such file or directory: 'tmp/temp_paper.pdf'\n"
     ]
    }
   ],
   "execution_count": 7
  },
  {
   "metadata": {},
   "cell_type": "markdown",
   "source": "# API Tests",
   "id": "44754f951028610a"
  },
  {
   "metadata": {
    "ExecuteTime": {
     "end_time": "2025-03-05T20:31:04.974038Z",
     "start_time": "2025-03-05T20:31:04.965556Z"
    }
   },
   "cell_type": "code",
   "source": [
    "from dotenv import load_dotenv\n",
    "import os\n",
    "\n",
    "load_dotenv()\n",
    "GOOGLE_API_KEY = os.getenv(\"GOOGLE_API_KEY\")"
   ],
   "id": "fc9fd01d4290f6c8",
   "outputs": [],
   "execution_count": 8
  },
  {
   "cell_type": "code",
   "id": "3051410c-0966-472f-969f-53eb8c7bc0c8",
   "metadata": {
    "ExecuteTime": {
     "end_time": "2025-03-05T18:23:24.570278Z",
     "start_time": "2025-03-05T18:23:24.369873Z"
    }
   },
   "source": [
    "import google.generativeai as genai\n",
    "\n",
    "genai.configure(api_key=GOOGLE_API_KEY)\n",
    "\n",
    "available_models = [model.name for model in genai.list_models()]\n",
    "print(f\"Available models: {available_models}\\n\")\n",
    "if \"models/gemini-2.0-flash\" in available_models:\n",
    "    print(\"Gemini 2.0 Flash is available via API request!\")\n",
    "else:\n",
    "    print(\"Gemini 2.0 Flash is not available via API request!\")"
   ],
   "outputs": [
    {
     "name": "stdout",
     "output_type": "stream",
     "text": [
      "Available models: ['models/chat-bison-001', 'models/text-bison-001', 'models/embedding-gecko-001', 'models/gemini-1.0-pro-vision-latest', 'models/gemini-pro-vision', 'models/gemini-1.5-pro-latest', 'models/gemini-1.5-pro-001', 'models/gemini-1.5-pro-002', 'models/gemini-1.5-pro', 'models/gemini-1.5-flash-latest', 'models/gemini-1.5-flash-001', 'models/gemini-1.5-flash-001-tuning', 'models/gemini-1.5-flash', 'models/gemini-1.5-flash-002', 'models/gemini-1.5-flash-8b', 'models/gemini-1.5-flash-8b-001', 'models/gemini-1.5-flash-8b-latest', 'models/gemini-1.5-flash-8b-exp-0827', 'models/gemini-1.5-flash-8b-exp-0924', 'models/gemini-2.0-flash-exp', 'models/gemini-2.0-flash', 'models/gemini-2.0-flash-001', 'models/gemini-2.0-flash-lite-001', 'models/gemini-2.0-flash-lite', 'models/gemini-2.0-flash-lite-preview-02-05', 'models/gemini-2.0-flash-lite-preview', 'models/gemini-2.0-pro-exp', 'models/gemini-2.0-pro-exp-02-05', 'models/gemini-exp-1206', 'models/gemini-2.0-flash-thinking-exp-01-21', 'models/gemini-2.0-flash-thinking-exp', 'models/gemini-2.0-flash-thinking-exp-1219', 'models/learnlm-1.5-pro-experimental', 'models/embedding-001', 'models/text-embedding-004', 'models/aqa', 'models/imagen-3.0-generate-002']\n",
      "\n",
      "Gemini 2.0 Flash is available via API request!\n"
     ]
    }
   ],
   "execution_count": 10
  },
  {
   "metadata": {
    "ExecuteTime": {
     "end_time": "2025-03-05T18:23:25.038563Z",
     "start_time": "2025-03-05T18:23:24.601369Z"
    }
   },
   "cell_type": "code",
   "source": [
    "# Check API request\n",
    "gemini = genai.GenerativeModel(\"models/gemini-2.0-flash\")\n",
    "check_response = gemini.generate_content(\"If you receive this request, please say Hello.\")\n",
    "print(f\"Usage metadata:\\n{check_response.usage_metadata}\")\n",
    "print(f\"Content:\\n{check_response.candidates[0].content.parts[0].text}\")"
   ],
   "id": "7f7aff5233bdc8c3",
   "outputs": [
    {
     "name": "stdout",
     "output_type": "stream",
     "text": [
      "Usage metadata:\n",
      "prompt_token_count: 10\n",
      "candidates_token_count: 3\n",
      "total_token_count: 13\n",
      "\n",
      "Content:\n",
      "Hello.\n",
      "\n"
     ]
    }
   ],
   "execution_count": 11
  },
  {
   "metadata": {
    "ExecuteTime": {
     "end_time": "2025-03-05T18:23:26.507933Z",
     "start_time": "2025-03-05T18:23:25.077195Z"
    }
   },
   "cell_type": "code",
   "source": [
    "# Checking if the model can get to the blog through the URL\n",
    "check_response = gemini.generate_content(f\"make a summary of this blog in 100 words\\n\\n{blog.url_blog}\")\n",
    "print(f\"Usage metadata:\\n{check_response.usage_metadata}\")\n",
    "print(f\"Content:\\n{check_response.candidates[0].content.parts[0].text}\")"
   ],
   "id": "ff40a6ced58b7b02",
   "outputs": [
    {
     "name": "stdout",
     "output_type": "stream",
     "text": [
      "Usage metadata:\n",
      "prompt_token_count: 60\n",
      "candidates_token_count: 109\n",
      "total_token_count: 169\n",
      "\n",
      "Content:\n",
      "Sulbha Jindal's blog post summarizes a research paper exploring self-generated critiques in reward modeling for language models. Instead of relying on human feedback for training reward models, the authors propose using language models to critique their own outputs. This self-critiquing approach, which involves generating a response and then a critique of that response, significantly improves the alignment between the model's objectives and human preferences. The paper demonstrates that this method rivals the performance of models trained with human feedback while offering a more scalable and cost-effective alternative.\n",
      "\n"
     ]
    }
   ],
   "execution_count": 12
  },
  {
   "metadata": {
    "ExecuteTime": {
     "end_time": "2025-03-05T18:23:28.023921Z",
     "start_time": "2025-03-05T18:23:26.547186Z"
    }
   },
   "cell_type": "code",
   "source": [
    "# Passing clean text to the model\n",
    "check_response = gemini.generate_content(f\"make a summary of this blog in 100 words\\n\\n{blog_text}\")\n",
    "print(f\"Usage metadata:\\n{check_response.usage_metadata}\")\n",
    "print(f\"Content:\\n{check_response.candidates[0].content.parts[0].text}\")"
   ],
   "id": "ff4ec589d9cd91c4",
   "outputs": [
    {
     "name": "stdout",
     "output_type": "stream",
     "text": [
      "Usage metadata:\n",
      "prompt_token_count: 1138\n",
      "candidates_token_count: 124\n",
      "total_token_count: 1262\n",
      "\n",
      "Content:\n",
      "Critic-RM is a new framework for enhancing reward models in LLMs using self-generated critiques, addressing limitations of traditional scalar reward outputs. It leverages instruction-tuned LLMs to generate multiple critiques, filtering them based on consistency with human preferences. Summarization and ranking further refine the critiques used for training. A balanced training strategy prioritizes critique modeling initially, then shifts to reward prediction using both responses and critiques. Experiments show Critic-RM outperforms standard models, with the quality of critiques playing a crucial role. The approach has demonstrated robust performance across RewardBench and CrossEval, showing improved alignment with human preferences.\n",
      "\n"
     ]
    }
   ],
   "execution_count": 13
  },
  {
   "metadata": {
    "ExecuteTime": {
     "end_time": "2025-03-05T18:23:35.861582Z",
     "start_time": "2025-03-05T18:23:28.084062Z"
    }
   },
   "cell_type": "code",
   "source": [
    "# Checking ability to read PDF\n",
    "check_response = gemini.generate_content(f\"Create a table of contents for this publication.\\n{paper_url}\")\n",
    "print(f\"Usage metadata:\\n{check_response.usage_metadata}\")\n",
    "print(f\"Content:\\n{check_response.candidates[0].content.parts[0].text}\")"
   ],
   "id": "f13fc0d6c2486f95",
   "outputs": [
    {
     "name": "stdout",
     "output_type": "stream",
     "text": [
      "Usage metadata:\n",
      "prompt_token_count: 28\n",
      "candidates_token_count: 1016\n",
      "total_token_count: 1044\n",
      "\n",
      "Content:\n",
      "Okay, based on the provided arXiv link (https://arxiv.org/pdf/2411.16646), I can create a likely Table of Contents for the document, titled \"Advancing Medical Diagnosis and Precision Medicine through Federated Learning\".  Please note that without having the actual PDF text to confirm, I'm inferring this based on standard practices for academic papers, especially in the field of machine learning and medical imaging.\n",
      "\n",
      "**Table of Contents**\n",
      "\n",
      "**1. Introduction**\n",
      "    *   1.1 Motivation: The Promise of Federated Learning in Healthcare\n",
      "    *   1.2 Challenges in Medical Data Sharing\n",
      "    *   1.3 Federated Learning: A Collaborative Approach\n",
      "    *   1.4 Contributions of This Work\n",
      "    *   1.5 Organization of the Paper\n",
      "\n",
      "**2. Background and Related Work**\n",
      "    *   2.1 Medical Image Analysis and Diagnosis\n",
      "    *   2.2 Precision Medicine and Personalized Treatment\n",
      "    *   2.3 Federated Learning: Principles and Techniques\n",
      "        *   2.3.1 Federated Averaging (FedAvg)\n",
      "        *   2.3.2 Differential Privacy in Federated Learning\n",
      "        *   2.3.3 Other Federated Learning Algorithms\n",
      "    *   2.4 Existing Applications of Federated Learning in Healthcare\n",
      "        *   2.4.1 Federated Learning for Medical Image Classification\n",
      "        *   2.4.2 Federated Learning for Disease Prediction\n",
      "        *   2.4.3 Federated Learning for Drug Discovery\n",
      "    *   2.5 Limitations of Current Approaches\n",
      "\n",
      "**3. Proposed Methodology**\n",
      "    *   3.1 System Architecture Overview\n",
      "    *   3.2 Data Preprocessing and Feature Extraction\n",
      "    *   3.3 Federated Learning Model Design\n",
      "        *   3.3.1 Model Architecture (e.g., CNN, Transformer)\n",
      "        *   3.3.2 Optimization Algorithm\n",
      "        *   3.3.3 Aggregation Strategy\n",
      "    *   3.4 Privacy-Preserving Techniques\n",
      "        *   3.4.1 Differential Privacy Implementation\n",
      "        *   3.4.2 Secure Aggregation\n",
      "    *   3.5 Handling Data Heterogeneity and Imbalance\n",
      "    *   3.6 Evaluation Metrics\n",
      "\n",
      "**4. Experimental Setup**\n",
      "    *   4.1 Datasets Used\n",
      "        *   4.1.1 Dataset 1: Description, Characteristics\n",
      "        *   4.1.2 Dataset 2: Description, Characteristics\n",
      "        *   4.1.3 Dataset 3: Description, Characteristics\n",
      "    *   4.2 Implementation Details\n",
      "        *   4.2.1 Hardware and Software Specifications\n",
      "        *   4.2.2 Parameter Settings\n",
      "    *   4.3 Baseline Models for Comparison\n",
      "    *   4.4 Experimental Protocol\n",
      "\n",
      "**5. Results and Discussion**\n",
      "    *   5.1 Performance Evaluation of the Proposed Approach\n",
      "        *   5.1.1 Accuracy, Precision, Recall, F1-Score\n",
      "        *   5.1.2 Comparison with Baseline Models\n",
      "        *   5.1.3 Ablation Studies (e.g., impact of privacy techniques)\n",
      "    *   5.2 Analysis of Data Heterogeneity\n",
      "    *   5.3 Evaluation of Privacy Preservation\n",
      "    *   5.4 Computational Efficiency and Scalability\n",
      "    *   5.5 Qualitative Analysis of Results (e.g., visualization)\n",
      "    *   5.6 Discussion of Findings\n",
      "\n",
      "**6. Conclusion**\n",
      "    *   6.1 Summary of Contributions\n",
      "    *   6.2 Limitations of the Study\n",
      "    *   6.3 Future Research Directions\n",
      "        *   6.3.1 Exploring Alternative Federated Learning Algorithms\n",
      "        *   6.3.2 Addressing Data Bias and Fairness\n",
      "        *   6.3.3 Deployment in Real-World Clinical Settings\n",
      "\n",
      "**7. Acknowledgements** (Optional)\n",
      "\n",
      "**8. References**\n",
      "\n",
      "**9. Appendix** (Optional, could include more detailed experimental settings, supplementary results, or proofs)\n",
      "\n",
      "**Key Considerations and Assumptions:**\n",
      "\n",
      "*   **Focus:** I've assumed the paper focuses on a novel federated learning method applied to medical image analysis and/or clinical data for diagnosis or precision medicine.\n",
      "*   **Structure:** This is a typical structure for a research paper in this domain.  The specific sections and sub-sections might vary slightly.\n",
      "*   **Keywords:** I used keywords from the title and abstract to infer the content of each section.\n",
      "*   **Appendix:**  Whether or not an appendix exists will depend on the amount of extra information the authors wanted to include.\n",
      "\n",
      "This table of contents should provide a reasonable outline of the paper's content. To get a truly accurate TOC, you'd need to examine the full text. Let me know if you would like me to make any changes to this predicted table of contents.\n",
      "\n"
     ]
    }
   ],
   "execution_count": 14
  },
  {
   "metadata": {},
   "cell_type": "markdown",
   "source": "# Prompt Engineering",
   "id": "664ac8823bdeddb5"
  },
  {
   "metadata": {
    "ExecuteTime": {
     "end_time": "2025-03-05T20:31:18.609897Z",
     "start_time": "2025-03-05T20:31:18.605156Z"
    }
   },
   "cell_type": "code",
   "source": [
    "from src.models_setup import gemini_2_flash\n",
    "from src.prompts import *\n",
    "\n",
    "def test_prompt(prompt_template, model, input_variables):\n",
    "    \"\"\"Testing the operation of LLM with a given prompt template.\"\"\"\n",
    "    test_chain = prompt_template | model\n",
    "    test_response = test_chain.invoke(input_variables)\n",
    "    print(f\"Usage metadata:\\n{test_response.usage_metadata}\")\n",
    "    print(f\"\\nContent:\\n{test_response.content}\")"
   ],
   "id": "965e320c93be2a85",
   "outputs": [],
   "execution_count": 10
  },
  {
   "metadata": {
    "ExecuteTime": {
     "end_time": "2025-03-05T18:23:40.676718Z",
     "start_time": "2025-03-05T18:23:36.164684Z"
    }
   },
   "cell_type": "code",
   "source": [
    "# One word answer\n",
    "test_prompt(prompt_simple_answer, gemini_2_flash, {\"blog_text\": blog_text})"
   ],
   "id": "c724f10e4a890997",
   "outputs": [
    {
     "name": "stdout",
     "output_type": "stream",
     "text": [
      "Usage metadata:\n",
      "{'input_tokens': 1134, 'output_tokens': 3, 'total_tokens': 1137, 'input_token_details': {'cache_read': 0}}\n",
      "\n",
      "Content:\n",
      "Informative\n"
     ]
    }
   ],
   "execution_count": 16
  },
  {
   "metadata": {
    "ExecuteTime": {
     "end_time": "2025-03-05T18:24:08.395492Z",
     "start_time": "2025-03-05T18:24:07.860625Z"
    }
   },
   "cell_type": "code",
   "source": [
    "# Adding numerical assessment\n",
    "test_prompt(prompt_numeric_rating, gemini_2_flash, {\"blog_text\": blog_text})"
   ],
   "id": "57865550ca9165ba",
   "outputs": [
    {
     "name": "stdout",
     "output_type": "stream",
     "text": [
      "Usage metadata:\n",
      "{'input_tokens': 1139, 'output_tokens': 9, 'total_tokens': 1148, 'input_token_details': {'cache_read': 0}}\n",
      "\n",
      "Content:\n",
      "Informative - 8/10\n"
     ]
    }
   ],
   "execution_count": 17
  },
  {
   "metadata": {
    "ExecuteTime": {
     "end_time": "2025-03-05T18:25:07.625983Z",
     "start_time": "2025-03-05T18:25:06.194403Z"
    }
   },
   "cell_type": "code",
   "source": [
    "# Scale from 1 to 100 + short comment\n",
    "test_prompt(prompt_short_comment, gemini_2_flash, {\"blog_text\": blog_text})"
   ],
   "id": "25c655f5694ea127",
   "outputs": [
    {
     "name": "stdout",
     "output_type": "stream",
     "text": [
      "Usage metadata:\n",
      "{'input_tokens': 1150, 'output_tokens': 92, 'total_tokens': 1242, 'input_token_details': {'cache_read': 0}}\n",
      "\n",
      "Content:\n",
      "**Score: 78/100**\n",
      "\n",
      "**Comment:** This blog post provides a reasonably clear and concise overview of the Critic-RM paper. It effectively summarizes the key aspects of the methodology and results. However, it lacks in-depth analysis and critical evaluation of the paper's strengths and weaknesses. Adding a section on potential limitations, alternative approaches, or future research directions would improve its overall quality and provide more value to the reader.\n"
     ]
    }
   ],
   "execution_count": 18
  },
  {
   "metadata": {
    "ExecuteTime": {
     "end_time": "2025-03-05T18:25:32.779674Z",
     "start_time": "2025-03-05T18:25:31.332534Z"
    }
   },
   "cell_type": "code",
   "source": [
    "# Emphasizing the importance of engagement\n",
    "test_prompt(prompt_engagement_score, gemini_2_flash, {\"blog_text\": blog_text})"
   ],
   "id": "95c4d7b07c3fe49a",
   "outputs": [
    {
     "name": "stdout",
     "output_type": "stream",
     "text": [
      "Usage metadata:\n",
      "{'input_tokens': 1156, 'output_tokens': 109, 'total_tokens': 1265, 'input_token_details': {'cache_read': 0}}\n",
      "\n",
      "Content:\n",
      "**Engagement Level Score: 55/100**\n",
      "\n",
      "**Comment:** The blog post provides a concise and understandable overview of a research paper on reward modeling. However, it lacks elements that typically drive higher engagement. The content is primarily informational and doesn't include interactive elements like questions for readers, calls for discussion, or opportunities for the audience to share their experiences or opinions. While the technical explanation is clear, it could benefit from practical examples or real-world implications to make it more relatable and engaging for a broader audience.\n"
     ]
    }
   ],
   "execution_count": 19
  },
  {
   "metadata": {
    "ExecuteTime": {
     "end_time": "2025-03-05T18:25:55.768404Z",
     "start_time": "2025-03-05T18:25:53.961633Z"
    }
   },
   "cell_type": "code",
   "source": [
    "# Assessment based on several criteria\n",
    "test_prompt(prompt_criteria, gemini_2_flash, {\"blog_text\": blog_text})"
   ],
   "id": "e265f8d2827ffe01",
   "outputs": [
    {
     "name": "stdout",
     "output_type": "stream",
     "text": [
      "Usage metadata:\n",
      "{'input_tokens': 1180, 'output_tokens': 141, 'total_tokens': 1321, 'input_token_details': {'cache_read': 0}}\n",
      "\n",
      "Content:\n",
      "**Engagement Level Assessment: 65/100**\n",
      "\n",
      "**Comment:**\n",
      "\n",
      "This blog post provides a decent overview of the Critic-RM paper. Its engagement level is moderate due to a few factors. The title is clear and concise. The structure is logical, breaking down the paper into understandable sections (Challenge, Methodology, Results, Summary). However, the writing style is somewhat technical and assumes a level of familiarity with RLHF and LLMs, which limits its appeal to a broader audience. The use of mathematical notation, while accurate, could be simplified for better readability. The post provides a good summary, but lacks strong hooks or calls to action to actively encourage discussion or further exploration.\n"
     ]
    }
   ],
   "execution_count": 20
  },
  {
   "metadata": {
    "ExecuteTime": {
     "end_time": "2025-03-05T18:26:22.589476Z",
     "start_time": "2025-03-05T18:26:18.437520Z"
    }
   },
   "cell_type": "code",
   "source": [
    "# Separate assessment\n",
    "test_prompt(prompt_separate_assessment, gemini_2_flash, {\"blog_text\": blog_text})"
   ],
   "id": "f35c4362bd32245c",
   "outputs": [
    {
     "name": "stdout",
     "output_type": "stream",
     "text": [
      "Usage metadata:\n",
      "{'input_tokens': 1201, 'output_tokens': 610, 'total_tokens': 1811, 'input_token_details': {'cache_read': 0}}\n",
      "\n",
      "Content:\n",
      "Okay, let's break down the engagement level of this blog post based on the provided criteria:\n",
      "\n",
      "**Criterion Scores (1-100 Scale):**\n",
      "\n",
      "*   **Readability (70/100):** The language used is generally accessible to those with a background in machine learning or NLP. However, there is use of some more technical terms (e.g., \"Proximal Policy Optimization,\" \"pairwise logistic loss\") that might be difficult for those unfamiliar with this field.\n",
      "\n",
      "*   **Structure (85/100):** The blog post follows a clear and logical structure. It starts with an introduction to the topic, outlines the challenges, explains the methodology, presents the results, and concludes with a summary. The use of headings and subheadings helps to organize the content effectively.\n",
      "\n",
      "*   **Informativeness (90/100):** The blog post provides a good overview of the paper it is reviewing. It clearly explains the problem being addressed, the proposed solution (Critic-RM), and the key findings. The inclusion of the paper link allows readers to delve deeper into the subject.\n",
      "\n",
      "*   **Attractiveness of the Blog Title (75/100):** The title, \"Self-Generated Critiques Boost Reward Modeling for Language Models — Paper Review,\" is reasonably descriptive and captures the essence of the post. However, it could be slightly more engaging by incorporating a more catchy or intriguing element.\n",
      "\n",
      "*   **Clarity (80/100):** The explanations are generally clear and concise. The use of examples and analogies helps to illustrate complex concepts. However, some of the more technical sections might require multiple readings to fully grasp.\n",
      "\n",
      "*   **Audience Appeal (65/100):** The blog post primarily appeals to researchers and practitioners in the field of NLP and machine learning who are interested in RLHF and reward modeling. It may not be of interest to a broader audience.\n",
      "\n",
      "*   **Potential for Discussion (70/100):** The blog post could spark discussion on the merits and limitations of Critic-RM, the challenges of incorporating critiques into reward modeling, and the future directions of research in this area. However, the level of discussion may be limited by the niche nature of the topic.\n",
      "\n",
      "**Overall Assessment:**\n",
      "\n",
      "To arrive at an overall assessment, we can average the scores for each criterion:\n",
      "\n",
      "(70 + 85 + 90 + 75 + 80 + 65 + 70) / 7 = **76.43**\n",
      "\n",
      "**Overall Engagement Score: 76/100**\n",
      "\n",
      "**Interpretation:**\n",
      "\n",
      "This blog post has a solid engagement level. The structure, informativeness, and clarity contribute to a positive reading experience for the target audience. While the title is descriptive, it could be more attention-grabbing. The audience appeal is somewhat limited due to the technical nature of the topic.\n"
     ]
    }
   ],
   "execution_count": 21
  },
  {
   "metadata": {
    "ExecuteTime": {
     "end_time": "2025-03-05T18:28:02.211940Z",
     "start_time": "2025-03-05T18:27:55.437113Z"
    }
   },
   "cell_type": "code",
   "source": [
    "# Add information about profile of the model\n",
    "test_prompt(prompt_with_profile, gemini_2_flash, {\"blog_text\": blog_text})"
   ],
   "id": "4f0ece304743f9fe",
   "outputs": [
    {
     "name": "stdout",
     "output_type": "stream",
     "text": [
      "Usage metadata:\n",
      "{'input_tokens': 1225, 'output_tokens': 763, 'total_tokens': 1988, 'input_token_details': {'cache_read': 0}}\n",
      "\n",
      "Content:\n",
      "Okay, let's analyze this blog post based on the provided criteria.\n",
      "\n",
      "**Criterion Breakdown:**\n",
      "\n",
      "*   **Readability (75/100):** The language is generally accessible to someone with some familiarity with AI/ML concepts. However, there are instances of jargon (e.g., \"pairwise logistic loss,\" \"knowledge distillation\") that could be simplified or explained further for a broader audience. The use of notation $$r = r_\\psi(x, [y, z])$$ might be off-putting to some readers. I find the transition words and explanations used provide context for the reader.\n",
      "\n",
      "*   **Structure (85/100):** The blog post follows a logical structure. It starts with an introduction to RLHF and reward modeling, identifies the challenges, presents the proposed solution (Critic-RM), explains the methodology, highlights the results, and provides a summary. The use of headings and subheadings is excellent.\n",
      "\n",
      "*   **Informativeness (80/100):** The blog post provides a good overview of the paper. It explains the core idea, the challenges it addresses, and the key findings. However, it assumes some prior knowledge of the field. More details on specific benchmarks (RewardBench, CrossEval) or examples of critiques could enhance the informativeness.\n",
      "\n",
      "*   **Attractiveness of the Blog Title (65/100):** The title is descriptive but not particularly attention-grabbing. While it clearly states the topic (self-generated critiques boosting reward modeling), it lacks a hook or a sense of intrigue that would entice a wider audience. Adding a benefit or a question could make it more attractive.\n",
      "\n",
      "*   **Clarity (70/100):** While the overall structure is clear, some sections could benefit from more explanation. The methodology section, in particular, gets a bit technical and might lose some readers. Providing concrete examples or analogies would improve clarity.\n",
      "\n",
      "*   **Audience Appeal (60/100):** The blog post is primarily geared towards researchers and practitioners in the field of NLP and machine learning. It may not be as appealing to a general audience interested in AI. Simplifying the language and providing more context could broaden its appeal.\n",
      "\n",
      "*   **Potential for Discussion (55/100):** The blog post presents a specific research paper, which might limit the potential for broader discussion. However, the challenges and limitations of current reward modeling approaches could spark some debate. Adding open-ended questions or encouraging readers to share their thoughts could increase the potential for discussion.\n",
      "\n",
      "**Overall Assessment:**\n",
      "\n",
      "To calculate the overall score, we sum the individual scores and divide by the number of criteria:\n",
      "\n",
      "(75 + 85 + 80 + 65 + 70 + 60 + 55) / 7 = 490 / 7 = 70\n",
      "\n",
      "**Overall Score: 70/100**\n",
      "\n",
      "**Summary of Recommendations:**\n",
      "\n",
      "*   **Simplify Language:** Reduce jargon and provide clear explanations of key concepts.\n",
      "*   **Add Examples:** Include concrete examples to illustrate the concepts and the benefits of Critic-RM.\n",
      "*   **Increase Audience Appeal:** Broaden the appeal by providing more context and relating the research to broader AI trends.\n",
      "*   **Improve Title:** Make the title more engaging and attention-grabbing.\n",
      "*   **Encourage Discussion:** Add open-ended questions or prompts to stimulate discussion.\n",
      "*   **Address Limitations:** Briefly discuss the limitations of Critic-RM or potential future research directions.\n",
      "\n",
      "By implementing these recommendations, the blog post can significantly improve its engagement level and reach a wider audience.\n"
     ]
    }
   ],
   "execution_count": 22
  },
  {
   "metadata": {
    "ExecuteTime": {
     "end_time": "2025-03-05T18:28:44.685029Z",
     "start_time": "2025-03-05T18:28:39.844314Z"
    }
   },
   "cell_type": "code",
   "source": [
    "# Well-structured sections of the prompt\n",
    "test_prompt(prompt_structured_sections, gemini_2_flash, {\"blog_text\": blog_text})"
   ],
   "id": "d414143346e2b26f",
   "outputs": [
    {
     "name": "stdout",
     "output_type": "stream",
     "text": [
      "Usage metadata:\n",
      "{'input_tokens': 1322, 'output_tokens': 758, 'total_tokens': 2080, 'input_token_details': {'cache_read': 0}}\n",
      "\n",
      "Content:\n",
      "Here's an evaluation of the blog post, broken down by the requested criteria:\n",
      "\n",
      "**Readability (75/100):** The writing is generally clear, but some sentences are a bit long and complex, especially in the methodology section. The use of technical terms without immediate, accessible definitions could also hinder readability for a broader audience.\n",
      "\n",
      "**Structure (80/100):** The blog follows a logical structure: introduction, problem statement, proposed solution (methodology), results, and summary. The use of headings and subheadings is helpful. However, the transition between sections could be smoother.\n",
      "\n",
      "**Informativeness (85/100):** The blog provides a good overview of the paper's key concepts, methodology, and findings. It explains the problem Critic-RM addresses and the benefits it offers.\n",
      "\n",
      "**Attractiveness of the blog title (65/100):** \"Self-Generated Critiques Boost Reward Modeling for Language Models — Paper Review\" is descriptive but lacks punch. It's a bit too technical and doesn't immediately grab the attention of a non-expert. It targets people who are already interested in the field.\n",
      "\n",
      "**Clarity (70/100):** While the blog explains the core concepts, some aspects of the methodology (e.g., the weighting strategy, the formula in inference) could benefit from further clarification. The target audience has to be familiar with the topic to understand what is being said.\n",
      "\n",
      "**Audience appeal (60/100):** The blog is likely to appeal to researchers and practitioners in the field of NLP and RLHF. However, its technical language and focus on specific details may limit its appeal to a broader audience interested in AI in general.\n",
      "\n",
      "**Potential for discussion (50/100):** The blog summarizes the research findings but doesn't pose any open-ended questions or invite the reader to share their thoughts or experiences. It's more of a presentation than an invitation for interaction.\n",
      "\n",
      "**Overall Assessment (65/100):**\n",
      "\n",
      "The blog provides a decent overview of the research paper, but its technical focus and lack of broader context limit its appeal and engagement potential. It could be improved by making it more accessible to a wider audience.\n",
      "\n",
      "**Possible Improvements:**\n",
      "\n",
      "*   **Simplify language:** Replace technical jargon with simpler terms or provide clear definitions for them.\n",
      "*   **Provide more context:** Explain the broader implications of this research and why it matters to a general audience interested in AI.\n",
      "*   **Add examples:** Use concrete examples to illustrate the concepts and methodology discussed in the paper.\n",
      "*   **Rephrase the title:** Make it more attention-grabbing and less technical. For example: \"Can AI Critique Itself? New Method Improves Language Model Performance\".\n",
      "*   **Incorporate visuals:** While the instructions specify focusing on the text, consider how images or diagrams could clarify complex concepts.\n",
      "*   **Pose questions:** Encourage discussion by asking open-ended questions at the end of the blog post. For example, \"What are your thoughts on the use of self-critiquing in AI?\" or \"How do you see this technology being applied in the future?\".\n",
      "*   **Expand on the limitations:** Briefly discuss any limitations of the research or potential areas for future work. This adds nuance and encourages critical thinking.\n",
      "*   **Relate to real-world applications:** Discuss potential real-world applications of the research. How could this technology be used in practical settings?\n",
      "*   **Write a better conclusion:** Instead of just summarizing the findings, offer a more insightful conclusion that leaves the reader with a lasting impression.\n"
     ]
    }
   ],
   "execution_count": 23
  },
  {
   "metadata": {
    "ExecuteTime": {
     "end_time": "2025-03-05T20:31:50.884957Z",
     "start_time": "2025-03-05T20:31:34.555753Z"
    }
   },
   "cell_type": "code",
   "source": [
    "best_blog = {\n",
    "    \"blog\": extract_blog_text(best_blog_info.iloc[0]),\n",
    "    \"score\" : yval_score.loc[best_blog_index]\n",
    "}\n",
    "worst_blog = {\n",
    "    \"blog\" : extract_blog_text(worst_blog_info.iloc[0]),\n",
    "    \"score\" : yval_score.loc[worst_blog_index]\n",
    "}"
   ],
   "id": "6781defd233a4319",
   "outputs": [],
   "execution_count": 11
  },
  {
   "metadata": {
    "ExecuteTime": {
     "end_time": "2025-03-05T20:32:01.585734Z",
     "start_time": "2025-03-05T20:31:54.439633Z"
    }
   },
   "cell_type": "code",
   "source": [
    "# 2-shot prompt\n",
    "test_prompt(prompt_two_shots, gemini_2_flash, {\n",
    "    \"blog_text\" : blog_text,\n",
    "    \"blog_ex1\" : best_blog[\"blog\"],\n",
    "    \"score_ex1\" : best_blog[\"score\"],\n",
    "    \"blog_ex2\" : worst_blog[\"blog\"],\n",
    "    \"score_ex2\" : worst_blog[\"score\"]\n",
    "})"
   ],
   "id": "d2962a1ec01216be",
   "outputs": [
    {
     "name": "stdout",
     "output_type": "stream",
     "text": [
      "Usage metadata:\n",
      "{'input_tokens': 3246, 'output_tokens': 284, 'total_tokens': 3530, 'input_token_details': {'cache_read': 0}}\n",
      "\n",
      "Content:\n",
      "```json\n",
      "{\n",
      "  \"overall_assessment\": 65.0,\n",
      "  \"explanation\": \"The blog post provides a decent overview of the Critic-RM paper. It explains the background, methodology, results, and summary in a structured manner. However, the explanation of the methodology could be improved with more details and clarity, especially regarding the weighting strategy and the inference process. Also, it is not detailed enough. The title is adequate but not particularly attention-grabbing, reducing its audience appeal. There's limited potential for discussion due to the high-level overview without critical analysis or open questions. Also, there are some typos in the text.\",\n",
      "  \"possible_improvements\": [\n",
      "    \"Elaborate on the methodology section with more specific details about the consistency-guided filtering technique and the weighting strategy used for integrating critique modeling and scalar reward prediction objectives.\",\n",
      "    \"Provide more context or examples to illustrate the benefits of incorporating critiques into reward modeling.\",\n",
      "    \"Add a section discussing the limitations of the Critic-RM framework and potential areas for future research.\",\n",
      "    \"Include a critical analysis of the paper's findings, discussing their significance and potential impact on the field.\",\n",
      "    \"Formulate open questions or discussion points related to the paper's findings to encourage reader engagement.\",\n",
      "    \"Proofread the content to eliminate typos.\"\n",
      "  ]\n",
      "}\n",
      "```\n"
     ]
    }
   ],
   "execution_count": 12
  },
  {
   "metadata": {},
   "cell_type": "markdown",
   "source": "# Performance testing on a validation set",
   "id": "42ba3b4016446497"
  },
  {
   "metadata": {
    "ExecuteTime": {
     "end_time": "2025-03-05T20:41:47.849755Z",
     "start_time": "2025-03-05T20:33:39.710385Z"
    }
   },
   "cell_type": "code",
   "source": [
    "from src.models_setup import BlogEvaluation, BlogClassification\n",
    "from src.helpers import extract_llm_assessment\n",
    "\n",
    "gemini_2_flash_structured = gemini_2_flash.with_structured_output(BlogEvaluation)\n",
    "llm_assessment = extract_llm_assessment(Xval, prompt_two_shots, gemini_2_flash_structured,\n",
    "                                        {\n",
    "                                            \"blog_ex1\" : best_blog[\"blog\"],\n",
    "                                            \"score_ex1\" : best_blog[\"score\"],\n",
    "                                            \"blog_ex2\" : worst_blog[\"blog\"],\n",
    "                                            \"score_ex2\" : worst_blog[\"score\"]\n",
    "                                        })"
   ],
   "id": "da5079b87b06741b",
   "outputs": [
    {
     "name": "stdout",
     "output_type": "stream",
     "text": [
      "----------\n",
      "Blog ID: 35\n",
      "Blog title: The Landscape of Emerging AI Agent Architectures for Reasoning, Planning, and Tool Calling: A Survey\n",
      "Referenced paper title: The Landscape of Emerging AI Agent Architectures for Reasoning, Planning, and Tool Calling: A Survey\n",
      "LLM Assessment: 65.0\n",
      "\n",
      "----------\n",
      "Blog ID: 21\n",
      "Blog title: Reflections on Innateness in Machine Learning\n",
      "Referenced paper title: Innateness, AlphaZero, and Artificial Intelligence\n",
      "LLM Assessment: 75.0\n",
      "\n",
      "----------\n",
      "Blog ID: 31\n",
      "Blog title: How reinforcement learning affects human behavior?\n",
      "Referenced paper title: Acquisition of Chess Knowledge in AlphaZero\n",
      "LLM Assessment: 65.0\n",
      "\n",
      "----------\n",
      "Blog ID: 20\n",
      "Blog title: ChatGPT vs Bing … and the urgent need for Responsible AI\n",
      "Referenced paper title: Adaptive Test Generation Using a Large Language Model\n",
      "LLM Assessment: 65.0\n",
      "\n",
      "----------\n",
      "Blog ID: 48\n",
      "Blog title: Data Centric AI — LLAVA\n",
      "Referenced paper title: Visual Instruction Tuning\n",
      "LLM Assessment: 55.0\n",
      "\n",
      "----------\n",
      "Blog ID: 18\n",
      "Blog title: SMoA: Improving Multi-agent Large Language Models with Sparse Mixture-of-Agents\n",
      "Referenced paper title: SMoA: Improving Multi-agent Large Language Models with Sparse Mixture-of-Agents\n",
      "LLM Assessment: 10.0\n",
      "\n",
      "----------\n",
      "Blog ID: 30\n",
      "Blog title: How reinforcement learning affects human behavior?\n",
      "Referenced paper title: Artificial Intelligence for the Metaverse: A Survey\n",
      "LLM Assessment: 60.0\n",
      "\n",
      "----------\n",
      "Blog ID: 8\n",
      "Blog title: What is the System 2 LLM or AI Chatbot?\n",
      "Referenced paper title: Tree of Thoughts: Deliberate Problem Solving with Large Language Models\n",
      "LLM Assessment: 75.0\n",
      "\n",
      "----------\n",
      "Blog ID: 19\n",
      "Blog title: Recurrent drafter for fast speculative decoding in Large Language Models\n",
      "Referenced paper title: Recurrent drafter for fast speculative decoding in Large Language Models\n",
      "LLM Assessment: 65.0\n",
      "\n",
      "----------\n",
      "Blog ID: 7\n",
      "Blog title: What is the System 2 LLM or AI Chatbot?\n",
      "Referenced paper title: Chain-of-Thought Prompting Elicits Reasoning in Large Language Models\n",
      "LLM Assessment: 65.0\n",
      "\n",
      "----------\n",
      "Blog ID: 27\n",
      "Blog title: Deep Reinforcement Learning: The Algorithms for Game Dev\n",
      "Referenced paper title: Proximal Policy Optimization Algorithms\n",
      "LLM Assessment: 65.0\n",
      "\n",
      "----------\n",
      "Blog ID: 5\n",
      "Blog title: What is the System 2 LLM or AI Chatbot?\n",
      "Referenced paper title: Guiding Language Model Reasoning with Planning Tokens\n",
      "LLM Assessment: 78.0\n",
      "\n",
      "----------\n",
      "Blog ID: 24\n",
      "Blog title: Evaluating The AI Scientist\n",
      "Referenced paper title: The AI Scientist: Towards Fully Automated Open-Ended Scientific Discovery\n",
      "LLM Assessment: 55.0\n",
      "\n",
      "----------\n",
      "Blog ID: 22\n",
      "Blog title: Reflections on Innateness in Machine Learning\n",
      "Referenced paper title: Implicit Regularization in Deep Learning\n",
      "LLM Assessment: 68.0\n",
      "\n",
      "----------\n",
      "Blog ID: 36\n",
      "Blog title: The Landscape of Emerging AI Agent Architectures for Reasoning, Planning, and Tool Calling: A Survey\n",
      "Referenced paper title: AutoGPT+P: Affordance-based Task Planning with Large Language Models\n",
      "LLM Assessment: 68.0\n",
      "\n",
      "----------\n",
      "Blog ID: 12\n",
      "Blog title: What is the System 2 LLM or AI Chatbot?\n",
      "Referenced paper title: Let's Verify Step by Step\n",
      "LLM Assessment: 75.0\n",
      "\n",
      "----------\n",
      "Blog ID: 3\n",
      "Blog title: Training Large Language Models: From TRPO to GRPO\n",
      "Referenced paper title: DeepSeekMath: Pushing the Limits of Mathematical Reasoning in Open Language Models\n",
      "LLM Assessment: 65.0\n",
      "\n",
      "----------\n",
      "Blog ID: 6\n",
      "Blog title: What is the System 2 LLM or AI Chatbot?\n",
      "Referenced paper title: Distilling System 2 into System 1\n",
      "LLM Assessment: 75.0\n",
      "\n",
      "----------\n",
      "Blog ID: 40\n",
      "Blog title: The Landscape of Emerging AI Agent Architectures for Reasoning, Planning, and Tool Calling: A Survey\n",
      "Referenced paper title: Learning to Use Tools via Cooperative and Interactive Agents\n",
      "LLM Assessment: 78.0\n",
      "\n",
      "----------\n",
      "Blog ID: 46\n",
      "Blog title: The Landscape of Emerging AI Agent Architectures for Reasoning, Planning, and Tool Calling: A Survey\n",
      "Referenced paper title: Large Language Model-based Human-Agent Collaboration for Complex Task Solving\n",
      "LLM Assessment: 75.0\n",
      "\n",
      "----------\n",
      "Blog ID: 17\n",
      "Blog title: Self-Generated Critiques Boost Reward Modeling for LanguageModels — Paper Review\n",
      "Referenced paper title: Self-Generated Critiques Boost Reward Modeling for Language Models\n",
      "LLM Assessment: 65.0\n",
      "\n",
      "----------\n",
      "Blog ID: 26\n",
      "Blog title: Deep Reinforcement Learning: The Algorithms for Game Dev\n",
      "Referenced paper title: Playing Atari with Deep Reinforcement Learning\n",
      "LLM Assessment: 65.0\n",
      "\n",
      "Warning: Received invalid response on attempt 1.\n",
      " Retrying...\n",
      "----------\n",
      "Blog ID: 32\n",
      "Blog title: How reinforcement learning affects human behavior?\n",
      "Referenced paper title: A Deep Hierarchical Approach to Lifelong Learning in Minecraft\n",
      "LLM Assessment: 65.0\n",
      "\n",
      "----------\n",
      "Blog ID: 28\n",
      "Blog title: Towards Reasoning\n",
      "Referenced paper title: GSM-Symbolic: Understanding the Limitations of Mathematical Reasoning in Large Language Models\n",
      "LLM Assessment: 90.0\n",
      "\n",
      "----------\n",
      "Blog ID: 47\n",
      "Blog title: How AI Is Changing the Way We Code\n",
      "Referenced paper title: From Mundane to Meaningful: AI's Influence on Work Dynamics -- evidence from ChatGPT and Stack Overflow\n",
      "LLM Assessment: 78.0\n",
      "\n",
      "----------\n",
      "Blog ID: 9\n",
      "Blog title: What is the System 2 LLM or AI Chatbot?\n",
      "Referenced paper title: Branch-Solve-Merge Improves Large Language Model Evaluation and Generation\n",
      "LLM Assessment: 75.0\n",
      "\n",
      "Warning: Received invalid response on attempt 1.\n",
      " Retrying...\n",
      "----------\n",
      "Blog ID: 34\n",
      "Blog title: Do I need to be polite to my LLM?\n",
      "Referenced paper title: Do Llamas Work in English? On the Latent Language of Multilingual Transformers\n",
      "LLM Assessment: 78.0\n",
      "\n",
      "----------\n",
      "Blog ID: 38\n",
      "Blog title: The Landscape of Emerging AI Agent Architectures for Reasoning, Planning, and Tool Calling: A Survey\n",
      "Referenced paper title: From LLM to Conversational Agent: A Memory Enhanced Architecture with Fine-Tuning of Large Language Models\n",
      "LLM Assessment: 85.0\n",
      "\n",
      "----------\n",
      "Blog ID: 29\n",
      "Blog title: Towards Reasoning\n",
      "Referenced paper title: Chain-of-Thought Reasoning Without Prompting\n",
      "LLM Assessment: 95.0\n",
      "\n",
      "----------\n",
      "Blog ID: 1\n",
      "Blog title: Training Large Language Models: From TRPO to GRPO\n",
      "Referenced paper title: Foundations of Large Language Models\n",
      "LLM Assessment: 78.0\n",
      "\n"
     ]
    }
   ],
   "execution_count": 14
  },
  {
   "metadata": {
    "ExecuteTime": {
     "end_time": "2025-03-05T20:42:55.196885Z",
     "start_time": "2025-03-05T20:42:55.190610Z"
    }
   },
   "cell_type": "code",
   "source": [
    "from sklearn import metrics\n",
    "\n",
    "RMSE_val = metrics.root_mean_squared_error(yval_score, llm_assessment)\n",
    "print(f\"Root Mean Square Error on validation set: {RMSE_val:.1f}\")\n",
    "MAE_val = metrics.mean_absolute_error(yval_score, llm_assessment)\n",
    "print(f\"Mean Absolute Error on validation set: {MAE_val:.1f}\")"
   ],
   "id": "e9044640f219f9e5",
   "outputs": [
    {
     "name": "stdout",
     "output_type": "stream",
     "text": [
      "Root Mean Square Error on validation set: 41.6\n",
      "Mean Absolute Error on validation set: 33.4\n"
     ]
    }
   ],
   "execution_count": 15
  },
  {
   "metadata": {
    "ExecuteTime": {
     "end_time": "2025-03-05T20:43:12.113034Z",
     "start_time": "2025-03-05T20:43:12.105478Z"
    }
   },
   "cell_type": "code",
   "source": [
    "from sklearn.preprocessing import MinMaxScaler\n",
    "\n",
    "llm_assessment_scaler = MinMaxScaler(feature_range=(1, 100))\n",
    "scaled_llm_assessment = llm_assessment_scaler.fit_transform(llm_assessment.values.reshape(-1, 1))\n",
    "RMSE_val_scaled = metrics.root_mean_squared_error(yval_score, scaled_llm_assessment)\n",
    "print(f\"Root Mean Square Error on validation set after MinMax normalization of LLM output: {RMSE_val_scaled:.1f}\")\n",
    "MAE_val_scaled = metrics.mean_absolute_error(yval_score, scaled_llm_assessment)\n",
    "print(f\"Mean Absolute Error on validation set after MinMax normalization of LLM output: {MAE_val_scaled:.1f}\")"
   ],
   "id": "31b95d26c369dc8e",
   "outputs": [
    {
     "name": "stdout",
     "output_type": "stream",
     "text": [
      "Root Mean Square Error on validation set after MinMax normalization of LLM output: 42.4\n",
      "Mean Absolute Error on validation set after MinMax normalization of LLM output: 33.7\n"
     ]
    }
   ],
   "execution_count": 16
  },
  {
   "metadata": {
    "ExecuteTime": {
     "end_time": "2025-03-05T20:43:35.459591Z",
     "start_time": "2025-03-05T20:43:35.011555Z"
    }
   },
   "cell_type": "code",
   "source": [
    "import seaborn as sns\n",
    "import matplotlib.pyplot as plt\n",
    "\n",
    "sns.histplot(data[\"normalized_engagement_score\"], bins=15, kde=True, color=\"blue\")\n",
    "plt.xlabel(\"Engagement Score\")\n",
    "plt.ylabel(\"Density\")\n",
    "plt.title(\"Distribution of Engagement Scores\")\n",
    "plt.show()"
   ],
   "id": "a41880b721e0a303",
   "outputs": [
    {
     "data": {
      "text/plain": [
       "<Figure size 640x480 with 1 Axes>"
      ],
      "image/png": "[encoded data removed]"
     },
     "metadata": {},
     "output_type": "display_data"
    }
   ],
   "execution_count": 17
  },
  {
   "metadata": {
    "ExecuteTime": {
     "end_time": "2025-03-05T21:15:42.988933Z",
     "start_time": "2025-03-05T21:15:42.980651Z"
    }
   },
   "cell_type": "code",
   "source": [
    "def classify_blog(score):\n",
    "    \"\"\"Return blog classification based on engagement score.\"\"\"\n",
    "    if score >= 80:\n",
    "        return \"Excellent\"\n",
    "    elif score >= 60:\n",
    "        return \"Very Good\"\n",
    "    elif score >= 40:\n",
    "        return \"Good\"\n",
    "    elif score >= 20:\n",
    "        return \"Average\"\n",
    "    else:\n",
    "        return \"Bad\"\n",
    "data[\"engagement_level\"] = data[\"normalized_engagement_score\"].apply(classify_blog)\n",
    "\n",
    "# Same Xval, Xtest; new explained variable \"engagement_level\"\n",
    "Xval, Xtest, yval_level, ytest_level = train_test_split(\n",
    "    data.drop(columns=['engagement_level', 'normalized_engagement_score']), data[\"engagement_level\"],\n",
    "    test_size=0.4, random_state=random_seed)"
   ],
   "id": "c390682c7ada6c35",
   "outputs": [],
   "execution_count": 22
  },
  {
   "metadata": {
    "ExecuteTime": {
     "end_time": "2025-03-05T21:26:46.495585Z",
     "start_time": "2025-03-05T21:26:46.488996Z"
    }
   },
   "cell_type": "code",
   "source": [
    "def print_evaluation(blog_evaluation: BlogEvaluation):\n",
    "    print(f\"Blog Title: {blog_evaluation.blog_title}\")\n",
    "    print(f\"Overall Assessment: {blog_evaluation.overall_assessment}\")\n",
    "    print(f\"Explanation: {blog_evaluation.assessment_explanation}\")\n",
    "    print(\"Suggested Improvements:\")\n",
    "    for i, improvement in enumerate(blog_evaluation.improvements, start=1):\n",
    "        print(f\"\\t{i}. {improvement}\")\n",
    "\n",
    "gemini_2_flash_structured = gemini_2_flash.with_structured_output(BlogClassification)"
   ],
   "id": "d1dcf1c333bb0dd4",
   "outputs": [],
   "execution_count": 24
  },
  {
   "metadata": {
    "ExecuteTime": {
     "end_time": "2025-03-05T21:28:21.670402Z",
     "start_time": "2025-03-05T21:27:42.384077Z"
    }
   },
   "cell_type": "code",
   "source": [
    "excellent_blog_index = yval_level[yval_level == \"Excellent\"].index.min()\n",
    "excellent_blog = extract_blog_text(Xval.loc[excellent_blog_index])\n",
    "very_good_blog_index = yval_level[yval_level == \"Very Good\"].index.min()\n",
    "very_good_blog = extract_blog_text(Xval.loc[very_good_blog_index])\n",
    "good_blog_index = yval_level[yval_level == \"Good\"].index.min()\n",
    "good_blog = extract_blog_text(Xval.loc[good_blog_index])\n",
    "average_blog_index = yval_level[yval_level == \"Average\"].index.min()\n",
    "average_blog = extract_blog_text(Xval.loc[average_blog_index])\n",
    "bad_blog_index = yval_level[yval_level == \"Bad\"].index.min()\n",
    "bad_blog = extract_blog_text(Xval.loc[bad_blog_index])"
   ],
   "id": "b5c876211c4ea37c",
   "outputs": [],
   "execution_count": 25
  },
  {
   "metadata": {
    "ExecuteTime": {
     "end_time": "2025-03-05T21:31:34.491565Z",
     "start_time": "2025-03-05T21:31:31.360524Z"
    }
   },
   "cell_type": "code",
   "source": [
    "# 5-shot prompt with verbal classification\n",
    "chain = prompt_five_shots | gemini_2_flash_structured\n",
    "response = chain.invoke({\n",
    "    \"blog_text\" : blog_text,\n",
    "    \"excellent_blog\" : excellent_blog,\n",
    "    \"very_good_blog\" : very_good_blog,\n",
    "    \"good_blog\" : good_blog,\n",
    "    \"average_blog\" : average_blog,\n",
    "    \"bad_blog\" : bad_blog\n",
    "})\n",
    "print_evaluation(response)"
   ],
   "id": "2ee4495c9967eab1",
   "outputs": [
    {
     "name": "stdout",
     "output_type": "stream",
     "text": [
      "Blog Title: Self-Generated Critiques Boost Reward Modeling for LanguageModels — Paper Review\n",
      "Overall Assessment: Average\n",
      "Explanation: The blog post provides a concise overview of the Critic-RM framework, a novel approach to enhance reward modeling for large language models (LLMs). While it covers the key aspects of the paper, including the methodology, results, and summary, it lacks depth and critical analysis. The title is adequate but not particularly engaging. The structure is logical, but the content is somewhat superficial. The blog post could benefit from a more detailed explanation of the technical concepts, a more critical discussion of the results, and a more engaging writing style. Additionally, it does not specify any particular audience that the blog is meant for. Due to the lack of deep dives into the subject matter, the assessment is 'Average'.\n",
      "Suggested Improvements:\n",
      "\t1. Provide more in-depth explanations of the technical concepts.\n",
      "\t2. Offer a critical analysis of the results and limitations of the Critic-RM framework.\n",
      "\t3. Incorporate a more engaging writing style to capture the reader's attention.\n",
      "\t4. Add more specific information on the target audience.\n",
      "\t5. Expand on the potential impact and future directions of this research.\n"
     ]
    }
   ],
   "execution_count": 28
  },
  {
   "metadata": {
    "ExecuteTime": {
     "end_time": "2025-03-05T21:54:54.621300Z",
     "start_time": "2025-03-05T21:46:08.192690Z"
    }
   },
   "cell_type": "code",
   "source": [
    "llm_classification = extract_llm_assessment(Xval, prompt_five_shots, gemini_2_flash_structured,\n",
    "                                            examples=\n",
    "                                            {\n",
    "                                                \"excellent_blog\" : excellent_blog,\n",
    "                                                \"very_good_blog\" : very_good_blog,\n",
    "                                                \"good_blog\" : good_blog,\n",
    "                                                \"average_blog\" : average_blog,\n",
    "                                                \"bad_blog\" : bad_blog\n",
    "                                            })"
   ],
   "id": "2dfd4534cbd2fd9a",
   "outputs": [
    {
     "name": "stdout",
     "output_type": "stream",
     "text": [
      "----------\n",
      "Blog ID: 35\n",
      "Blog title: The Landscape of Emerging AI Agent Architectures for Reasoning, Planning, and Tool Calling: A Survey\n",
      "Referenced paper title: The Landscape of Emerging AI Agent Architectures for Reasoning, Planning, and Tool Calling: A Survey\n",
      "LLM Assessment: Good\n",
      "\n",
      "----------\n",
      "Blog ID: 21\n",
      "Blog title: Reflections on Innateness in Machine Learning\n",
      "Referenced paper title: Innateness, AlphaZero, and Artificial Intelligence\n",
      "LLM Assessment: Average\n",
      "\n",
      "----------\n",
      "Blog ID: 31\n",
      "Blog title: How reinforcement learning affects human behavior?\n",
      "Referenced paper title: Acquisition of Chess Knowledge in AlphaZero\n",
      "LLM Assessment: Average\n",
      "\n",
      "----------\n",
      "Blog ID: 20\n",
      "Blog title: ChatGPT vs Bing … and the urgent need for Responsible AI\n",
      "Referenced paper title: Adaptive Test Generation Using a Large Language Model\n",
      "LLM Assessment: Good\n",
      "\n",
      "----------\n",
      "Blog ID: 48\n",
      "Blog title: Data Centric AI — LLAVA\n",
      "Referenced paper title: Visual Instruction Tuning\n",
      "LLM Assessment: Average\n",
      "\n",
      "----------\n",
      "Blog ID: 18\n",
      "Blog title: SMoA: Improving Multi-agent Large Language Models with Sparse Mixture-of-Agents\n",
      "Referenced paper title: SMoA: Improving Multi-agent Large Language Models with Sparse Mixture-of-Agents\n",
      "LLM Assessment: Average\n",
      "\n",
      "----------\n",
      "Blog ID: 30\n",
      "Blog title: How reinforcement learning affects human behavior?\n",
      "Referenced paper title: Artificial Intelligence for the Metaverse: A Survey\n",
      "LLM Assessment: Bad\n",
      "\n",
      "----------\n",
      "Blog ID: 8\n",
      "Blog title: What is the System 2 LLM or AI Chatbot?\n",
      "Referenced paper title: Tree of Thoughts: Deliberate Problem Solving with Large Language Models\n",
      "LLM Assessment: Bad\n",
      "\n",
      "----------\n",
      "Blog ID: 19\n",
      "Blog title: Recurrent drafter for fast speculative decoding in Large Language Models\n",
      "Referenced paper title: Recurrent drafter for fast speculative decoding in Large Language Models\n",
      "LLM Assessment: Average\n",
      "\n",
      "----------\n",
      "Blog ID: 7\n",
      "Blog title: What is the System 2 LLM or AI Chatbot?\n",
      "Referenced paper title: Chain-of-Thought Prompting Elicits Reasoning in Large Language Models\n",
      "LLM Assessment: Bad\n",
      "\n",
      "----------\n",
      "Blog ID: 27\n",
      "Blog title: Deep Reinforcement Learning: The Algorithms for Game Dev\n",
      "Referenced paper title: Proximal Policy Optimization Algorithms\n",
      "LLM Assessment: Good\n",
      "\n",
      "----------\n",
      "Blog ID: 5\n",
      "Blog title: What is the System 2 LLM or AI Chatbot?\n",
      "Referenced paper title: Guiding Language Model Reasoning with Planning Tokens\n",
      "LLM Assessment: Bad\n",
      "\n",
      "----------\n",
      "Blog ID: 24\n",
      "Blog title: Evaluating The AI Scientist\n",
      "Referenced paper title: The AI Scientist: Towards Fully Automated Open-Ended Scientific Discovery\n",
      "LLM Assessment: Average\n",
      "\n",
      "----------\n",
      "Blog ID: 22\n",
      "Blog title: Reflections on Innateness in Machine Learning\n",
      "Referenced paper title: Implicit Regularization in Deep Learning\n",
      "LLM Assessment: Average\n",
      "\n",
      "----------\n",
      "Blog ID: 36\n",
      "Blog title: The Landscape of Emerging AI Agent Architectures for Reasoning, Planning, and Tool Calling: A Survey\n",
      "Referenced paper title: AutoGPT+P: Affordance-based Task Planning with Large Language Models\n",
      "LLM Assessment: Good\n",
      "\n",
      "----------\n",
      "Blog ID: 12\n",
      "Blog title: What is the System 2 LLM or AI Chatbot?\n",
      "Referenced paper title: Let's Verify Step by Step\n",
      "LLM Assessment: Bad\n",
      "\n",
      "----------\n",
      "Blog ID: 3\n",
      "Blog title: Training Large Language Models: From TRPO to GRPO\n",
      "Referenced paper title: DeepSeekMath: Pushing the Limits of Mathematical Reasoning in Open Language Models\n",
      "LLM Assessment: Good\n",
      "\n",
      "----------\n",
      "Blog ID: 6\n",
      "Blog title: What is the System 2 LLM or AI Chatbot?\n",
      "Referenced paper title: Distilling System 2 into System 1\n",
      "LLM Assessment: Bad\n",
      "\n",
      "----------\n",
      "Blog ID: 40\n",
      "Blog title: The Landscape of Emerging AI Agent Architectures for Reasoning, Planning, and Tool Calling: A Survey\n",
      "Referenced paper title: Learning to Use Tools via Cooperative and Interactive Agents\n",
      "LLM Assessment: Good\n",
      "\n",
      "----------\n",
      "Blog ID: 46\n",
      "Blog title: The Landscape of Emerging AI Agent Architectures for Reasoning, Planning, and Tool Calling: A Survey\n",
      "Referenced paper title: Large Language Model-based Human-Agent Collaboration for Complex Task Solving\n",
      "LLM Assessment: Good\n",
      "\n",
      "----------\n",
      "Blog ID: 17\n",
      "Blog title: Self-Generated Critiques Boost Reward Modeling for LanguageModels — Paper Review\n",
      "Referenced paper title: Self-Generated Critiques Boost Reward Modeling for Language Models\n",
      "LLM Assessment: Good\n",
      "\n",
      "----------\n",
      "Blog ID: 26\n",
      "Blog title: Deep Reinforcement Learning: The Algorithms for Game Dev\n",
      "Referenced paper title: Playing Atari with Deep Reinforcement Learning\n",
      "LLM Assessment: Good\n",
      "\n",
      "----------\n",
      "Blog ID: 32\n",
      "Blog title: How reinforcement learning affects human behavior?\n",
      "Referenced paper title: A Deep Hierarchical Approach to Lifelong Learning in Minecraft\n",
      "LLM Assessment: Average\n",
      "\n",
      "----------\n",
      "Blog ID: 28\n",
      "Blog title: Towards Reasoning\n",
      "Referenced paper title: GSM-Symbolic: Understanding the Limitations of Mathematical Reasoning in Large Language Models\n",
      "LLM Assessment: Excellent\n",
      "\n",
      "----------\n",
      "Blog ID: 47\n",
      "Blog title: How AI Is Changing the Way We Code\n",
      "Referenced paper title: From Mundane to Meaningful: AI's Influence on Work Dynamics -- evidence from ChatGPT and Stack Overflow\n",
      "LLM Assessment: Good\n",
      "\n",
      "----------\n",
      "Blog ID: 9\n",
      "Blog title: What is the System 2 LLM or AI Chatbot?\n",
      "Referenced paper title: Branch-Solve-Merge Improves Large Language Model Evaluation and Generation\n",
      "LLM Assessment: Bad\n",
      "\n",
      "----------\n",
      "Blog ID: 34\n",
      "Blog title: Do I need to be polite to my LLM?\n",
      "Referenced paper title: Do Llamas Work in English? On the Latent Language of Multilingual Transformers\n",
      "LLM Assessment: Very Good\n",
      "\n",
      "----------\n",
      "Blog ID: 38\n",
      "Blog title: The Landscape of Emerging AI Agent Architectures for Reasoning, Planning, and Tool Calling: A Survey\n",
      "Referenced paper title: From LLM to Conversational Agent: A Memory Enhanced Architecture with Fine-Tuning of Large Language Models\n",
      "LLM Assessment: Good\n",
      "\n",
      "Warning: Received invalid response on attempt 1.\n",
      " Retrying...\n",
      "----------\n",
      "Blog ID: 29\n",
      "Blog title: Towards Reasoning\n",
      "Referenced paper title: Chain-of-Thought Reasoning Without Prompting\n",
      "LLM Assessment: Excellent\n",
      "\n",
      "----------\n",
      "Blog ID: 1\n",
      "Blog title: Training Large Language Models: From TRPO to GRPO\n",
      "Referenced paper title: Foundations of Large Language Models\n",
      "LLM Assessment: Good\n",
      "\n"
     ]
    }
   ],
   "execution_count": 32
  },
  {
   "metadata": {
    "ExecuteTime": {
     "end_time": "2025-03-05T21:54:54.695161Z",
     "start_time": "2025-03-05T21:54:54.688428Z"
    }
   },
   "cell_type": "code",
   "source": [
    "prediction_accuracy = metrics.accuracy_score(yval_level, llm_classification)\n",
    "print(f\"Accuracy score on validation set: {prediction_accuracy * 100:.2f}%\")"
   ],
   "id": "6a4be2f4c2ba6fd2",
   "outputs": [
    {
     "name": "stdout",
     "output_type": "stream",
     "text": [
      "Accuracy score on validation set: 53.33%\n"
     ]
    }
   ],
   "execution_count": 33
  },
  {
   "metadata": {
    "ExecuteTime": {
     "end_time": "2025-03-05T21:54:54.782947Z",
     "start_time": "2025-03-05T21:54:54.766313Z"
    }
   },
   "cell_type": "code",
   "source": [
    "level_map = {\n",
    "    \"Excellent\" : 5,\n",
    "    \"Very Good\" : 4,\n",
    "    \"Good\" : 3,\n",
    "    \"Average\" : 2,\n",
    "    \"Bad\" : 1\n",
    "}\n",
    "RMSE_val_verbal = metrics.root_mean_squared_error(yval_level.map(level_map), llm_classification.map(level_map))\n",
    "MAE_val_verbal = metrics.mean_absolute_error(yval_level.map(level_map), llm_classification.map(level_map))\n",
    "print(f\"Root Mean Square Error on validation set after using the verbal classification: {RMSE_val_verbal:.1f}\")\n",
    "print(f\"Mean Absolute Error on validation set after using verbal classification: {MAE_val_verbal:.1f}\")"
   ],
   "id": "90604c06a0e44ab1",
   "outputs": [
    {
     "name": "stdout",
     "output_type": "stream",
     "text": [
      "Root Mean Square Error on validation set after using the verbal classification: 1.3\n",
      "Mean Absolute Error on validation set after using verbal classification: 0.8\n"
     ]
    }
   ],
   "execution_count": 34
  },
  {
   "metadata": {},
   "cell_type": "code",
   "outputs": [],
   "execution_count": null,
   "source": "",
   "id": "d794bc27b8be15cc"
  }
 ],
 "metadata": {
  "kernelspec": {
   "display_name": "Python 3 (ipykernel)",
   "language": "python",
   "name": "python3"
  },
  "language_info": {
   "codemirror_mode": {
    "name": "ipython",
    "version": 3
   },
   "file_extension": ".py",
   "mimetype": "text/x-python",
   "name": "python",
   "nbconvert_exporter": "python",
   "pygments_lexer": "ipython3",
   "version": "3.12.3"
  }
 },
 "nbformat": 4,
 "nbformat_minor": 5
}
