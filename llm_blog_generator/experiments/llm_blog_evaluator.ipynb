{
 "cells": [
  {
   "cell_type": "code",
   "id": "a76f8b3c83996ddf",
   "metadata": {
    "ExecuteTime": {
     "end_time": "2025-04-04T15:28:59.309041Z",
     "start_time": "2025-04-04T15:28:52.529695Z"
    }
   },
   "source": [
    "import sys\n",
    "import os\n",
    "import warnings\n",
    "from pathlib import Path\n",
    "\n",
    "import pandas as pd\n",
    "import matplotlib.pyplot as plt\n",
    "import seaborn as sns\n",
    "from sklearn.model_selection import train_test_split\n",
    "from sklearn import metrics\n",
    "from sklearn.preprocessing import MinMaxScaler\n",
    "from dotenv import load_dotenv\n",
    "import google.generativeai as genai\n",
    "\n",
    "if str(Path().resolve().parent) not in sys.path:\n",
    "    sys.path.append(str(Path().resolve().parent))\n",
    "\n",
    "load_dotenv()\n",
    "GOOGLE_API_KEY = os.getenv(\"GOOGLE_API_KEY\")\n",
    "genai.configure(api_key=GOOGLE_API_KEY)\n",
    "\n",
    "warnings.filterwarnings(\"ignore\", category=FutureWarning)\n",
    "\n",
    "from src.config import random_seed, PREPROCESSED_BLOG_DATASET_PATH, CLASSIFICATION_MAP\n",
    "from src.models_setup import gemini_2_flash, gemini_2_flash_lite, gemini_1_5_flash\n",
    "from src.prompts import *\n",
    "from src.output_formats import *\n",
    "from src.helpers import extract_llm_assessment"
   ],
   "outputs": [],
   "execution_count": 1
  },
  {
   "cell_type": "markdown",
   "id": "491b0b756a34021a",
   "metadata": {},
   "source": [
    "# Data Processing"
   ]
  },
  {
   "cell_type": "code",
   "id": "3a3e52e28b5746a0",
   "metadata": {
    "ExecuteTime": {
     "end_time": "2025-04-04T15:28:59.376891Z",
     "start_time": "2025-04-04T15:28:59.348147Z"
    }
   },
   "source": [
    "# Import data\n",
    "blogs = pd.read_csv(PREPROCESSED_BLOG_DATASET_PATH)\n",
    "\n",
    "# Split dataset into validation and test set\n",
    "Xval, Xtest, yval_score, ytest_score = train_test_split(\n",
    "    blogs.drop(columns=['normalized_engagement_score']), blogs[\"normalized_engagement_score\"],\n",
    "    test_size=0.4, random_state=random_seed)\n",
    "\n",
    "# Same Xval, Xtest; new explained variable \"engagement_level\"\n",
    "Xval, Xtest, yval_level, ytest_level = train_test_split(\n",
    "    blogs.drop(columns=['engagement_level', 'normalized_engagement_score']), blogs[\"engagement_level\"],\n",
    "    test_size=0.4, random_state=random_seed)\n",
    "\n",
    "print(f\"Size of validation set, X: {Xval.shape}, y: {yval_score.shape}\")\n",
    "print(f\"Size of test set, X: {Xtest.shape}, y: {ytest_score.shape}\")"
   ],
   "outputs": [
    {
     "name": "stdout",
     "output_type": "stream",
     "text": [
      "Size of validation set, X: (30, 11), y: (30,)\n",
      "Size of test set, X: (20, 11), y: (20,)\n"
     ]
    }
   ],
   "execution_count": 2
  },
  {
   "cell_type": "code",
   "id": "947b2f95eaf6ae23",
   "metadata": {
    "ExecuteTime": {
     "end_time": "2025-04-04T15:29:00.037144Z",
     "start_time": "2025-04-04T15:29:00.017889Z"
    }
   },
   "source": [
    "# The best blog in dataset\n",
    "best_blog_info = Xval.sort_values([\"engagement_score\"], ascending=False).head(1)\n",
    "best_blog_index = best_blog_info.index[0]\n",
    "best_blog_info = best_blog_info.reset_index(drop=True)\n",
    "best_blog_info"
   ],
   "outputs": [
    {
     "data": {
      "text/plain": [
       "   id         title_blog                                           url_blog  \\\n",
       "0  28  Towards Reasoning  https://medium.com/@saptarshichaudhuri/towards...   \n",
       "\n",
       "           author_blog  author_followers  claps  comments  \\\n",
       "0  Saptarshi Chaudhuri               127    461         1   \n",
       "\n",
       "                                         title_paper  \\\n",
       "0  GSM-Symbolic: Understanding the Limitations of...   \n",
       "\n",
       "                                           url_paper  engagement_score  \\\n",
       "0  https://arxiv.org/pdf/2410.05229?source=post_p...          3.653543   \n",
       "\n",
       "                                      blog_full_text  \n",
       "0  # Towards Reasoning\\nGlorified next token pred...  "
      ],
      "text/html": [
       "<div>\n",
       "<style scoped>\n",
       "    .dataframe tbody tr th:only-of-type {\n",
       "        vertical-align: middle;\n",
       "    }\n",
       "\n",
       "    .dataframe tbody tr th {\n",
       "        vertical-align: top;\n",
       "    }\n",
       "\n",
       "    .dataframe thead th {\n",
       "        text-align: right;\n",
       "    }\n",
       "</style>\n",
       "<table border=\"1\" class=\"dataframe\">\n",
       "  <thead>\n",
       "    <tr style=\"text-align: right;\">\n",
       "      <th></th>\n",
       "      <th>id</th>\n",
       "      <th>title_blog</th>\n",
       "      <th>url_blog</th>\n",
       "      <th>author_blog</th>\n",
       "      <th>author_followers</th>\n",
       "      <th>claps</th>\n",
       "      <th>comments</th>\n",
       "      <th>title_paper</th>\n",
       "      <th>url_paper</th>\n",
       "      <th>engagement_score</th>\n",
       "      <th>blog_full_text</th>\n",
       "    </tr>\n",
       "  </thead>\n",
       "  <tbody>\n",
       "    <tr>\n",
       "      <th>0</th>\n",
       "      <td>28</td>\n",
       "      <td>Towards Reasoning</td>\n",
       "      <td>https://medium.com/@saptarshichaudhuri/towards...</td>\n",
       "      <td>Saptarshi Chaudhuri</td>\n",
       "      <td>127</td>\n",
       "      <td>461</td>\n",
       "      <td>1</td>\n",
       "      <td>GSM-Symbolic: Understanding the Limitations of...</td>\n",
       "      <td>https://arxiv.org/pdf/2410.05229?source=post_p...</td>\n",
       "      <td>3.653543</td>\n",
       "      <td># Towards Reasoning\\nGlorified next token pred...</td>\n",
       "    </tr>\n",
       "  </tbody>\n",
       "</table>\n",
       "</div>"
      ]
     },
     "execution_count": 3,
     "metadata": {},
     "output_type": "execute_result"
    }
   ],
   "execution_count": 3
  },
  {
   "cell_type": "code",
   "id": "8904bb60-4deb-4ac8-bf27-1b4aa58928df",
   "metadata": {
    "scrolled": true,
    "ExecuteTime": {
     "end_time": "2025-04-04T15:29:00.160535Z",
     "start_time": "2025-04-04T15:29:00.147819Z"
    }
   },
   "source": [
    "# The worst blog in dataset\n",
    "worst_blog_info = Xval.sort_values([\"engagement_score\"], ascending=False).tail(1)\n",
    "worst_blog_index = worst_blog_info.index[0]\n",
    "worst_blog_info = worst_blog_info.reset_index(drop=True)\n",
    "worst_blog_info"
   ],
   "outputs": [
    {
     "data": {
      "text/plain": [
       "   id                                         title_blog  \\\n",
       "0  18  SMoA: Improving Multi-agent Large Language Mod...   \n",
       "\n",
       "                                            url_blog  author_blog  \\\n",
       "0  https://medium.com/@sulbha.jindal/smoa-improvi...  Sulbha Jain   \n",
       "\n",
       "   author_followers  claps  comments  \\\n",
       "0                41      0         0   \n",
       "\n",
       "                                         title_paper  \\\n",
       "0  SMoA: Improving Multi-agent Large Language Mod...   \n",
       "\n",
       "                          url_paper  engagement_score  \\\n",
       "0  https://arxiv.org/pdf/2411.03284               0.0   \n",
       "\n",
       "                                      blog_full_text  \n",
       "0  # SMoA: Improving Multi-agent Large Language M...  "
      ],
      "text/html": [
       "<div>\n",
       "<style scoped>\n",
       "    .dataframe tbody tr th:only-of-type {\n",
       "        vertical-align: middle;\n",
       "    }\n",
       "\n",
       "    .dataframe tbody tr th {\n",
       "        vertical-align: top;\n",
       "    }\n",
       "\n",
       "    .dataframe thead th {\n",
       "        text-align: right;\n",
       "    }\n",
       "</style>\n",
       "<table border=\"1\" class=\"dataframe\">\n",
       "  <thead>\n",
       "    <tr style=\"text-align: right;\">\n",
       "      <th></th>\n",
       "      <th>id</th>\n",
       "      <th>title_blog</th>\n",
       "      <th>url_blog</th>\n",
       "      <th>author_blog</th>\n",
       "      <th>author_followers</th>\n",
       "      <th>claps</th>\n",
       "      <th>comments</th>\n",
       "      <th>title_paper</th>\n",
       "      <th>url_paper</th>\n",
       "      <th>engagement_score</th>\n",
       "      <th>blog_full_text</th>\n",
       "    </tr>\n",
       "  </thead>\n",
       "  <tbody>\n",
       "    <tr>\n",
       "      <th>0</th>\n",
       "      <td>18</td>\n",
       "      <td>SMoA: Improving Multi-agent Large Language Mod...</td>\n",
       "      <td>https://medium.com/@sulbha.jindal/smoa-improvi...</td>\n",
       "      <td>Sulbha Jain</td>\n",
       "      <td>41</td>\n",
       "      <td>0</td>\n",
       "      <td>0</td>\n",
       "      <td>SMoA: Improving Multi-agent Large Language Mod...</td>\n",
       "      <td>https://arxiv.org/pdf/2411.03284</td>\n",
       "      <td>0.0</td>\n",
       "      <td># SMoA: Improving Multi-agent Large Language M...</td>\n",
       "    </tr>\n",
       "  </tbody>\n",
       "</table>\n",
       "</div>"
      ]
     },
     "execution_count": 4,
     "metadata": {},
     "output_type": "execute_result"
    }
   ],
   "execution_count": 4
  },
  {
   "cell_type": "code",
   "id": "82394efd-c053-4a65-b737-be97aa6c2f96",
   "metadata": {
    "ExecuteTime": {
     "end_time": "2025-04-04T15:29:00.275131Z",
     "start_time": "2025-04-04T15:29:00.272015Z"
    }
   },
   "source": [
    "blog_text = blogs.loc[16, \"blog_full_text\"]\n",
    "print(blog_text)"
   ],
   "outputs": [
    {
     "name": "stdout",
     "output_type": "stream",
     "text": [
      "# Self-Generated Critiques Boost Reward Modeling for LanguageModels — Paper Review\n",
      "Paper — https://arxiv.org/pdf/2411.16646\n",
      "Reinforcement Learning from Human Feedback (RLHF) has become a critical methodology for aligning large language models (LLMs) with human preferences. At the core of RLHF lies the reward model (RM), which is designed to evaluate model outputs by assigning scores that reflect their alignment with human judgments. These scores guide the optimization process during training, such as providing reward signals in Proximal Policy Optimization (PPO), thereby encouraging LLMs to generate responses that are more helpful, honest, and harmless. This iterative process enhances the practical quality of LLM outputs in real-world applications.\n",
      "\n",
      "## Current challenge\n",
      "Typically, reward models are trained using preference pairs and optimized through pairwise logistic loss to produce a scalar score for each response. However, this scalar output is often hard to interpret and underutilizes the inherent language modeling capabilities of LLMs derived from pretraining and post-training. These limitations can weaken the feedback signals in RLHF, resulting in suboptimal policy updates. An alternative approach is the “LLM-as-a-judge” paradigm, where the LLM generates critiques and optionally provides discrete scores as proxies for response quality. This method leverages the model’s reasoning abilities more effectively, potentially addressing some of the shortcomings of traditional reward models\n",
      "Incorporating critiques into reward modeling poses two significant challenges. First, there is the issue of conflicting objectives: generating critiques relies on language modeling capabilities, whereas traditional reward models output scalar values, making their integration into the language modeling process complex. Second, there are limitations with evaluators; off-the-shelf language models often lack the effectiveness needed for evaluation, and fine-tuning these models necessitates costly human-generated or annotated critiques. While knowledge distillation offers a potential solution by enabling a joint training approach to learn how to generate critiques and rewards simultaneously, it falls short when it comes to enhancing frontier models in situations where a stronger teacher model is unavailable. Here is Critic-RM, a new framework from Meta Researchers that enhances reward models using synthetic critiques, without relying on strong LLM teachers.\n",
      "\n",
      "## Methodology\n",
      "Critic-RM utilizes an instruction-finetuned large language model (LLM) as its foundation, generating multiple candidate critiques, each accompanied by a discrete score for individual responses. The process begins with a consistency-guided filtering technique that retains only those critiques whose scores align with human-annotated preference labels.\n",
      "To further improve the quality of these synthetic critiques, two additional strategies — summarization and ranking — are proposed to refine the critiques used in training the reward model. The framework investigates the application of an off-the-shelf instruction-finetuned LLM, for both critique generation and reward modeling. Initially, Critic-RM generates candidate critiques for each prompt-response pair, followed by a filtering step aimed at minimizing the influence of potentially noisy rationales that could lead to incorrect predictions. This approach allows for the augmentation of preference pairs with additional critiques, ultimately enhancing the precision of reward modeling.\n",
      "After generating critiques for each response, the primary challenge is developing an effective training strategy to integrate critique modeling and scalar reward prediction objectives. To address this, we propose a simple weighting strategy that balances these objectives. Initially, the model prioritizes critique modeling loss, then gradually shifts its focus toward reward prediction, utilizing both the response and the critique. This balanced approach enables the model to excel in generating high-quality critiques while maintaining accurate reward predictions.\n",
      "In Critic-RM, an additional step is introduced during inference for each (prompt, response) pair. Given a (prompt, response) pair $$(x, y)$$, the model first generates a critique $$z \\sim q_\\phi(x, y)$$. It then predicts the reward for the response as $$r = r_\\psi(x, [y, z])$$, where the reward prediction incorporates both the response and its associated critique. This process ensures a more nuanced and precise evaluation of responses.\n",
      "\n",
      "## Results\n",
      "Incorporating critiques into reward modeling has demonstrated significant benefits, particularly with the Critic-RM framework, which consistently outperforms the baselines in this study. Specifically, when trained on the same preference data, Critic-RM achieves an improvement of 3.7% to 4.7% over standard reward models. The quality of critiques plays a crucial role; comparisons reveal that other models incorporating critiques show smaller performance gains than Critic-RM when evaluated against the standard reward model. Additionally, performance enhancements are observed for both Critic-RM and its baselines when multiple critiques are generated during inference, particularly benefiting reasoning tasks.\n",
      "\n",
      "## Summary\n",
      "Researchers have developed Critic-RM, an innovative self-critiquing framework aimed at enhancing reward modeling for large language models (LLMs). This novel approach leverages the inherent capabilities of LLMs to generate and refine critiques, implementing a self-improvement mechanism that enhances both the quality of critiques and the accuracy of reward predictions. The findings from this research emphasize the efficacy of Critic-RM in improving reward modeling accuracy and underscore the crucial role of high-quality critiques in this process. Beyond merely enhancing precision in reward modeling, the framework has demonstrated robust performance across various benchmarks, including RewardBench and CrossEval, highlighting its potential to significantly advance the field of language model optimization and alignment with human preferences.\n",
      "\n",
      "## Appendix\n",
      "    * Paper link — https://arxiv.org/pdf/2411.16646\n"
     ]
    }
   ],
   "execution_count": 5
  },
  {
   "cell_type": "code",
   "id": "99327e6e62889db1",
   "metadata": {
    "ExecuteTime": {
     "end_time": "2025-04-04T15:29:00.567909Z",
     "start_time": "2025-04-04T15:29:00.562080Z"
    }
   },
   "source": [
    "best_blog = {\n",
    "    \"blog\": best_blog_info.loc[0, \"blog_full_text\"],\n",
    "    \"score\" : yval_score.loc[best_blog_index]\n",
    "}\n",
    "worst_blog = {\n",
    "    \"blog\" : worst_blog_info.loc[0, \"blog_full_text\"],\n",
    "    \"score\" : yval_score.loc[worst_blog_index]\n",
    "}"
   ],
   "outputs": [],
   "execution_count": 6
  },
  {
   "cell_type": "code",
   "id": "a03dd5bc89c1d14",
   "metadata": {
    "ExecuteTime": {
     "end_time": "2025-04-04T15:29:00.954907Z",
     "start_time": "2025-04-04T15:29:00.938286Z"
    }
   },
   "source": [
    "excellent_blog_index = yval_level[yval_level == \"Excellent\"].index.min()\n",
    "excellent_blog = blogs.loc[excellent_blog_index, \"blog_full_text\"]\n",
    "with open(\"../data/examples/excellent_blog\", \"w\", encoding=\"utf-8\") as file:\n",
    "    file.write(excellent_blog)\n",
    "\n",
    "very_good_blog_index = yval_level[yval_level == \"Very Good\"].index.min()\n",
    "very_good_blog = blogs.loc[very_good_blog_index, \"blog_full_text\"]\n",
    "with open(\"../data/examples/very_good_blog\", \"w\", encoding=\"utf-8\") as file:\n",
    "    file.write(very_good_blog)\n",
    "\n",
    "good_blog_index = yval_level[yval_level == \"Good\"].index.min()\n",
    "good_blog = blogs.loc[good_blog_index, \"blog_full_text\"]\n",
    "with open(\"../data/examples/good_blog\", \"w\", encoding=\"utf-8\") as file:\n",
    "    file.write(good_blog)\n",
    "\n",
    "average_blog_index = yval_level[yval_level == \"Average\"].index.min()\n",
    "average_blog = blogs.loc[average_blog_index, \"blog_full_text\"]\n",
    "with open(\"../data/examples/average_blog\", \"w\", encoding=\"utf-8\") as file:\n",
    "    file.write(average_blog)\n",
    "\n",
    "bad_blog_index = yval_level[yval_level == \"Bad\"].index.min()\n",
    "bad_blog = blogs.loc[bad_blog_index, \"blog_full_text\"]\n",
    "with open(\"../data/examples/bad_blog\", \"w\", encoding=\"utf-8\") as file:\n",
    "    file.write(bad_blog)"
   ],
   "outputs": [],
   "execution_count": 7
  },
  {
   "cell_type": "markdown",
   "id": "664ac8823bdeddb5",
   "metadata": {},
   "source": [
    "# Prompt Engineering"
   ]
  },
  {
   "cell_type": "code",
   "id": "965e320c93be2a85",
   "metadata": {
    "ExecuteTime": {
     "end_time": "2025-04-04T15:29:01.111300Z",
     "start_time": "2025-04-04T15:29:01.108278Z"
    }
   },
   "source": [
    "def test_prompt(prompt_template, model, input_variables):\n",
    "    \"\"\"Testing the operation of LLM with a given prompt template.\"\"\"\n",
    "    test_chain = prompt_template | model\n",
    "    test_response = test_chain.invoke(input_variables)\n",
    "    print(f\"Usage metadata:\\n{test_response.usage_metadata}\")\n",
    "    print(f\"\\nContent:\\n{test_response.content}\")"
   ],
   "outputs": [],
   "execution_count": 8
  },
  {
   "cell_type": "code",
   "id": "c724f10e4a890997",
   "metadata": {
    "ExecuteTime": {
     "end_time": "2025-04-04T15:29:05.861658Z",
     "start_time": "2025-04-04T15:29:01.197930Z"
    }
   },
   "source": [
    "# One word answer\n",
    "test_prompt(prompt_simple_answer, gemini_2_flash, {\"blog_text\": blog_text})"
   ],
   "outputs": [
    {
     "name": "stdout",
     "output_type": "stream",
     "text": [
      "Usage metadata:\n",
      "{'input_tokens': 1138, 'output_tokens': 3, 'total_tokens': 1141, 'input_token_details': {'cache_read': 0}}\n",
      "\n",
      "Content:\n",
      "Informative\n"
     ]
    }
   ],
   "execution_count": 9
  },
  {
   "cell_type": "code",
   "id": "57865550ca9165ba",
   "metadata": {
    "ExecuteTime": {
     "end_time": "2025-04-04T15:29:09.723498Z",
     "start_time": "2025-04-04T15:29:05.888124Z"
    }
   },
   "source": [
    "# Adding numerical assessment\n",
    "test_prompt(prompt_numeric_rating, gemini_2_flash, {\"blog_text\": blog_text})"
   ],
   "outputs": [
    {
     "name": "stdout",
     "output_type": "stream",
     "text": [
      "Usage metadata:\n",
      "{'input_tokens': 1143, 'output_tokens': 8, 'total_tokens': 1151, 'input_token_details': {'cache_read': 0}}\n",
      "\n",
      "Content:\n",
      "Informative 8/10\n"
     ]
    }
   ],
   "execution_count": 10
  },
  {
   "cell_type": "code",
   "id": "25c655f5694ea127",
   "metadata": {
    "ExecuteTime": {
     "end_time": "2025-04-04T15:29:14.478310Z",
     "start_time": "2025-04-04T15:29:09.771401Z"
    }
   },
   "source": [
    "# Scale from 1 to 100 + short comment\n",
    "test_prompt(prompt_short_comment, gemini_2_flash, {\"blog_text\": blog_text})"
   ],
   "outputs": [
    {
     "name": "stdout",
     "output_type": "stream",
     "text": [
      "Usage metadata:\n",
      "{'input_tokens': 1154, 'output_tokens': 106, 'total_tokens': 1260, 'input_token_details': {'cache_read': 0}}\n",
      "\n",
      "Content:\n",
      "**Rating: 85/100**\n",
      "\n",
      "**Comment:** This is a well-written and concise summary of the Critic-RM paper. It clearly explains the problem, the proposed solution, the methodology, and the key results. The use of bolding to highlight key terms and sections makes it easy to follow. The summary is informative and provides a good overview of the paper's contributions. Some minor improvements could include adding more details on the consistency-guided filtering technique, the summarization and ranking strategies.\n"
     ]
    }
   ],
   "execution_count": 11
  },
  {
   "cell_type": "code",
   "id": "95c4d7b07c3fe49a",
   "metadata": {
    "ExecuteTime": {
     "end_time": "2025-04-04T15:29:18.533329Z",
     "start_time": "2025-04-04T15:29:14.499359Z"
    }
   },
   "source": [
    "# Emphasizing the importance of engagement\n",
    "test_prompt(prompt_engagement_score, gemini_2_flash, {\"blog_text\": blog_text})"
   ],
   "outputs": [
    {
     "name": "stdout",
     "output_type": "stream",
     "text": [
      "Usage metadata:\n",
      "{'input_tokens': 1160, 'output_tokens': 100, 'total_tokens': 1260, 'input_token_details': {'cache_read': 0}}\n",
      "\n",
      "Content:\n",
      "**Engagement Level: 55/100**\n",
      "\n",
      "**Comment:** The blog post provides a clear and concise summary of a research paper. It's well-structured with headings and explanations, making it accessible to readers interested in the topic. However, it lacks interactive elements or features that encourage direct engagement, such as comment sections, polls, or embedded quizzes. Adding these elements could significantly boost its engagement level. Also I did not see any shares on social media about this post.\n"
     ]
    }
   ],
   "execution_count": 12
  },
  {
   "cell_type": "code",
   "id": "e265f8d2827ffe01",
   "metadata": {
    "ExecuteTime": {
     "end_time": "2025-04-04T15:29:23.752578Z",
     "start_time": "2025-04-04T15:29:18.579081Z"
    }
   },
   "source": [
    "# Assessment based on several criteria\n",
    "test_prompt(prompt_criteria, gemini_2_flash, {\"blog_text\": blog_text})"
   ],
   "outputs": [
    {
     "name": "stdout",
     "output_type": "stream",
     "text": [
      "Usage metadata:\n",
      "{'input_tokens': 1184, 'output_tokens': 359, 'total_tokens': 1543, 'input_token_details': {'cache_read': 0}}\n",
      "\n",
      "Content:\n",
      "**Assessment:**\n",
      "\n",
      "*   **Readability:** The writing is generally clear and uses technical terms appropriately. However, the density of information and use of mathematical notation might make it challenging for readers without a background in machine learning. (Score: 7/10)\n",
      "*   **Structure:** The blog post follows a logical structure (Introduction, Challenge, Methodology, Results, Summary). The use of headings and subheadings helps with organization. (Score: 8/10)\n",
      "*   **Attractiveness of the Blog Title:** The title is descriptive but not particularly catchy. It clearly states the subject matter. (Score: 6/10)\n",
      "*   **Clarity:** The explanation of the concepts is generally clear, but some sections might benefit from more concrete examples. The mathematical notation is explained but could be intimidating to some. (Score: 7/10)\n",
      "*   **Audience Appeal:** The blog post is likely to appeal to researchers, practitioners, and students in the field of natural language processing and machine learning who are interested in reward modeling and RLHF. (Score: 7/10)\n",
      "*   **Potential for Discussion:** The topic is relevant and the presentation of the methodology and results could spark discussion, especially regarding the practicality and scalability of the approach. (Score: 8/10)\n",
      "\n",
      "**Overall Rating: 72/100**\n",
      "\n",
      "**Comment:**\n",
      "\n",
      "This is a solid, informative paper review. It effectively summarizes the key aspects of the \"Self-Generated Critiques Boost Reward Modeling\" paper. While the content is well-organized and generally clear, increasing accessibility by providing more examples and reducing technical jargon could broaden its appeal. The title could be more engaging to attract a wider audience.\n"
     ]
    }
   ],
   "execution_count": 13
  },
  {
   "cell_type": "code",
   "id": "f35c4362bd32245c",
   "metadata": {
    "ExecuteTime": {
     "end_time": "2025-04-04T15:29:29.691257Z",
     "start_time": "2025-04-04T15:29:23.770325Z"
    }
   },
   "source": [
    "# Separate assessment\n",
    "test_prompt(prompt_separate_assessment, gemini_2_flash, {\"blog_text\": blog_text})"
   ],
   "outputs": [
    {
     "name": "stdout",
     "output_type": "stream",
     "text": [
      "Usage metadata:\n",
      "{'input_tokens': 1211, 'output_tokens': 622, 'total_tokens': 1833, 'input_token_details': {'cache_read': 0}}\n",
      "\n",
      "Content:\n",
      "Okay, here's an analysis of the blog post's engagement level, broken down by criteria, followed by an overall assessment:\n",
      "\n",
      "**Criterion Breakdown:**\n",
      "\n",
      "*   **Readability (75/100):** The writing style is generally clear and uses proper terminology. However, it's geared towards a reader already familiar with LLMs, RLHF, and reward modeling. Someone completely new to the field might find it dense at times.\n",
      "\n",
      "*   **Structure (85/100):** The blog post is well-structured with clear headings (Introduction, Current challenge, Methodology, Results, Summary, Appendix) that guide the reader through the information. The use of bullet points and formatting enhances readability.\n",
      "\n",
      "*   **Informativeness (90/100):** The blog post provides a good overview of the paper and its contributions. It explains the problem being addressed, the methodology used, and the key results obtained. The link to the original paper is a huge plus.\n",
      "\n",
      "*   **Attractiveness of the Blog Title (70/100):** The title is descriptive but not particularly catchy. It clearly states the subject matter, which is helpful for targeting the right audience (researchers, practitioners in LLMs), but lacks a \"hook\" to draw in casual readers. It's functional but not exciting.\n",
      "\n",
      "*   **Clarity (80/100):** The explanations are generally clear, although some sections (especially the methodology) might require multiple readings for those without a strong background in the area. Formulas like $$r = r_\\psi(x, [y, z])$$ could be a barrier for some readers.\n",
      "\n",
      "*   **Audience Appeal (70/100):** The blog post will appeal strongly to individuals actively working on RLHF, reward modeling, and LLMs. However, its technical nature limits its broader appeal. Someone without a pre-existing interest in these areas is unlikely to find it engaging.\n",
      "\n",
      "*   **Potential for Discussion (75/100):** The blog post presents a specific research paper and its findings, which can spark discussions about the validity of the approach, potential improvements, or applications to other areas. The comments section can be used to discuss.\n",
      "\n",
      "**Overall Assessment:**\n",
      "\n",
      "To calculate the overall assessment, we'll average the scores of each criterion:\n",
      "\n",
      "(75 + 85 + 90 + 70 + 80 + 70 + 75) / 7 = 78.57\n",
      "\n",
      "Therefore, the overall engagement level of this blog post is approximately **79/100**.\n",
      "\n",
      "**Conclusion:**\n",
      "\n",
      "The blog post is well-written and informative but is mostly tailored to a niche audience. It excels in structure and depth of information. While it could benefit from a more engaging title and slightly simplified language in some sections, it effectively communicates the core concepts and findings of the research paper. The engagement level is strong *within its target audience*.\n"
     ]
    }
   ],
   "execution_count": 14
  },
  {
   "cell_type": "code",
   "id": "4f0ece304743f9fe",
   "metadata": {
    "ExecuteTime": {
     "end_time": "2025-04-04T15:29:33.905469Z",
     "start_time": "2025-04-04T15:29:29.712685Z"
    }
   },
   "source": [
    "# Add information about profile of the model\n",
    "test_prompt(prompt_with_profile, gemini_2_flash, {\"blog_text\": blog_text})"
   ],
   "outputs": [
    {
     "name": "stdout",
     "output_type": "stream",
     "text": [
      "Usage metadata:\n",
      "{'input_tokens': 1239, 'output_tokens': 652, 'total_tokens': 1891, 'input_token_details': {'cache_read': 0}}\n",
      "\n",
      "Content:\n",
      "Okay, here's my assessment of the blog post based on your criteria, along with individual scores and an overall assessment.\n",
      "\n",
      "**Individual Criterion Scores (out of 100):**\n",
      "\n",
      "*   **Readability (75/100):** The writing is generally clear, but it does get bogged down in technical jargon at times. Someone without a background in RLHF might struggle with some sections. The use of headings and subheadings helps break up the text.\n",
      "*   **Structure (85/100):** The blog follows a logical structure: introduction, problem, solution (methodology), results, and summary. This is a standard and effective way to present a paper review. The use of bullet points or numbered lists could further improve structure in some sections.\n",
      "*   **Informativeness (80/100):** The blog provides a good overview of the paper's core concepts, methodology, and results. It explains the key ideas behind Critic-RM and its advantages over existing approaches. However, it assumes some prior knowledge of RLHF and LLMs.\n",
      "*   **Attractiveness of the Blog Title (70/100):** The title is informative and clearly indicates the content (\"Self-Generated Critiques Boost Reward Modeling for Language Models — Paper Review\"). However, it's not particularly catchy or engaging. It's functional but lacks a strong hook. A more creative title could improve click-through rates.\n",
      "*   **Clarity (70/100):** The explanation of the methodology is somewhat dense and could benefit from further simplification. The mathematical notation, while accurate, might be intimidating for a general audience. More visual aids or intuitive explanations could improve clarity.\n",
      "*   **Audience Appeal (65/100):** The blog appeals primarily to readers with a technical interest in RLHF and LLMs. The language and depth of explanation are not suitable for a very general audience. It could be more appealing by framing the research within a broader context or highlighting its potential impact.\n",
      "*   **Potential for Discussion (60/100):** The blog presents the research findings but doesn't explicitly invite discussion or pose open-ended questions. To improve this, the author could add a section with questions about the limitations of the research, potential future directions, or the broader implications for AI development. A call to action encouraging comments or sharing could also help.\n",
      "\n",
      "**Overall Assessment:**\n",
      "\n",
      "To calculate the overall assessment, I'll average the individual scores:\n",
      "\n",
      "(75 + 85 + 80 + 70 + 70 + 65 + 60) / 7 = **72.14**\n",
      "\n",
      "**Overall Score: 72/100**\n",
      "\n",
      "**Justification:**\n",
      "\n",
      "The blog post provides a solid overview of the research paper. Its strengths lie in its clear structure and informative content. However, it could be improved by increasing its readability, clarity, and audience appeal. Making the content more accessible to a broader audience and encouraging discussion would significantly enhance its engagement level. The title could be more creative to draw in more readers.\n"
     ]
    }
   ],
   "execution_count": 15
  },
  {
   "cell_type": "code",
   "id": "d414143346e2b26f",
   "metadata": {
    "ExecuteTime": {
     "end_time": "2025-04-04T15:29:39.070958Z",
     "start_time": "2025-04-04T15:29:33.960030Z"
    }
   },
   "source": [
    "# Well-structured sections of the prompt\n",
    "test_prompt(prompt_structured_sections, gemini_2_flash, {\"blog_text\": blog_text})"
   ],
   "outputs": [
    {
     "name": "stdout",
     "output_type": "stream",
     "text": [
      "Usage metadata:\n",
      "{'input_tokens': 1342, 'output_tokens': 851, 'total_tokens': 2193, 'input_token_details': {'cache_read': 0}}\n",
      "\n",
      "Content:\n",
      "Okay, here's an evaluation of the provided blog post based on the specified criteria:\n",
      "\n",
      "**Individual Criterion Scores and Comments:**\n",
      "\n",
      "*   **Readability (70/100):** The writing is generally clear, but the use of some technical jargon (e.g., \"pairwise logistic loss,\" \"knowledge distillation\") without explicit definitions might hinder understanding for readers unfamiliar with the field.\n",
      "*   **Structure (85/100):** The blog post follows a logical structure: introduction, challenge, methodology, results, and summary. The use of headings and subheadings improves organization and readability.\n",
      "*   **Informativeness (80/100):** The blog post provides a good overview of the Critic-RM framework and its benefits. It highlights the key contributions of the research and explains the methodology in a reasonably accessible way.\n",
      "*   **Attractiveness of the blog title (75/100):** \"Self-Generated Critiques Boost Reward Modeling for Language Models — Paper Review\" is informative and hints at the core concept. However, it's somewhat technical and might not immediately grab the attention of a broader audience.\n",
      "*   **Clarity (75/100):** While the overall structure is good, some sections could benefit from further simplification. For example, the description of the weighting strategy in the methodology section could be more intuitive. The mathematical notation (e.g., \"$$(x, y)$$, $$z \\sim q_\\phi(x, y)$$, $$r = r_\\psi(x, [y, z])$$\" ) is not explained, which reduces clarity for many readers.\n",
      "*   **Audience Appeal (65/100):** The blog post is primarily geared toward readers with some background in machine learning, particularly those familiar with RLHF and LLMs. It needs to be made accessible to broader audience.\n",
      "*   **Potential for Discussion (60/100):** While the blog post presents interesting research, it mainly summarizes the paper. It doesn't explicitly pose questions or invite readers to share their thoughts or experiences. The limited discussion of potential limitations or future directions also reduces the potential for discussion.\n",
      "\n",
      "**Overall Assessment:**\n",
      "\n",
      "**Overall Score: 71/100**\n",
      "\n",
      "**Possible Improvements:**\n",
      "\n",
      "1.  **Simplify technical jargon:** Define key terms like \"pairwise logistic loss,\" \"knowledge distillation,\" and RLHF in the introduction or when they first appear. Use simpler language wherever possible.\n",
      "2.  **Expand on the \"Current Challenge\" section:** Provide more context on why traditional reward models are limited and why the \"LLM-as-a-judge\" paradigm is a potential solution. Use analogies or real-world examples to illustrate the problem.\n",
      "3.  **Clarify the weighting strategy:** Explain the rationale behind prioritizing critique modeling loss initially and then shifting focus to reward prediction.\n",
      "4.  **Explain mathematical notation:** Either avoid using mathematical notation, or explain what each symbol represents and its role in the process. Providing context helps readers understand the equations without needing advanced mathematical knowledge.\n",
      "5.  **Increase audience appeal:** Start with a more engaging introduction that highlights the real-world impact of improved reward modeling. Frame the research in terms of its potential benefits for end-users of LLMs.\n",
      "6.  **Promote discussion:** Add a concluding section that poses open-ended questions about the future of reward modeling, the limitations of Critic-RM, or potential applications of self-critiquing frameworks. Invite readers to share their thoughts in the comments.\n",
      "7.  **Consider the broader context:** Discuss the ethical implications of using LLMs to generate critiques, such as potential biases or unintended consequences. This could add another layer of depth and interest to the blog post.\n",
      "8.  **A more catchy title:** The title could be more catchy to grab a wider audience, while still being informative. For example: \"Level Up Your Language Model: How Self-Critiques Are Changing the Game\" or \"Smarter AI Through Self-Reflection: A Breakthrough in Language Model Training.\"\n"
     ]
    }
   ],
   "execution_count": 16
  },
  {
   "cell_type": "code",
   "id": "d2962a1ec01216be",
   "metadata": {
    "ExecuteTime": {
     "end_time": "2025-04-04T15:29:41.052823Z",
     "start_time": "2025-04-04T15:29:39.134152Z"
    }
   },
   "source": [
    "# 2-shot prompt\n",
    "test_prompt(prompt_two_shots, gemini_2_flash, {\n",
    "    \"blog_text\" : blog_text,\n",
    "    \"blog_ex1\" : best_blog[\"blog\"],\n",
    "    \"score_ex1\" : best_blog[\"score\"],\n",
    "    \"blog_ex2\" : worst_blog[\"blog\"],\n",
    "    \"score_ex2\" : worst_blog[\"score\"]\n",
    "})"
   ],
   "outputs": [
    {
     "name": "stdout",
     "output_type": "stream",
     "text": [
      "Usage metadata:\n",
      "{'input_tokens': 3292, 'output_tokens': 256, 'total_tokens': 3548, 'input_token_details': {'cache_read': 0}}\n",
      "\n",
      "Content:\n",
      "```json\n",
      "{\n",
      "  \"overall_assessment\": 65,\n",
      "  \"explanation\": \"The blog post provides a decent overview of the research paper, hitting the important points of the methodology and the results. However, the structure is a bit lacking, and the writing, while generally clear, could be more engaging. The title is adequate but not particularly attention-grabbing. The potential for discussion is moderate, as the topic is quite technical, but the blog does a solid job of summarizing the paper, providing a base for further discussion.\",\n",
      "  \"possible_improvements\": [\n",
      "    \"Improve the introduction to grab the reader's attention and more clearly state the importance of the research.\",\n",
      "    \"Add more transition sentences between paragraphs and sections to improve the flow and readability.\",\n",
      "    \"Break down the 'Methodology' section into smaller, more digestible chunks, possibly using bullet points or numbered lists to highlight key steps.\",\n",
      "    \"Provide more context or examples to illustrate the significance of the results.\",\n",
      "    \"Expand the 'Summary' section to include a discussion of the limitations of the study or potential future directions.\",\n",
      "    \"Consider a more engaging title that highlights the key benefit or innovation of the research.\"\n",
      "  ]\n",
      "}\n",
      "```\n"
     ]
    }
   ],
   "execution_count": 17
  },
  {
   "cell_type": "code",
   "id": "d75decc38b3b05a2",
   "metadata": {
    "ExecuteTime": {
     "end_time": "2025-04-04T15:29:45.415259Z",
     "start_time": "2025-04-04T15:29:41.103721Z"
    }
   },
   "source": [
    "# 5-shot prompt with verbal classification\n",
    "test_prompt(prompt_five_shots, gemini_2_flash, {\n",
    "    \"blog_text\": blog_text,\n",
    "    \"excellent_blog\": excellent_blog,\n",
    "    \"very_good_blog\": very_good_blog,\n",
    "    \"good_blog\": good_blog,\n",
    "    \"average_blog\": average_blog,\n",
    "    \"bad_blog\": bad_blog\n",
    "})"
   ],
   "outputs": [
    {
     "name": "stdout",
     "output_type": "stream",
     "text": [
      "Usage metadata:\n",
      "{'input_tokens': 11803, 'output_tokens': 247, 'total_tokens': 12050, 'input_token_details': {'cache_read': 0}}\n",
      "\n",
      "Content:\n",
      "```json\n",
      "{\n",
      "  \"overall_engagement_level\": \"Good\",\n",
      "  \"explanation\": \"The blog post provides a concise overview of a research paper, making it accessible to a broader audience interested in the field of LLMs and RLHF. It breaks down the paper's methodology, results, and significance in a clear and structured manner. However, the blog could benefit from more simplification of technical concepts and a more engaging title to attract readers.\",\n",
      "  \"possible_improvements\": [\n",
      "    \"Simplify technical jargon further to cater to a wider audience without deep expertise in LLMs or RLHF.\",\n",
      "    \"Enhance the introduction with a more compelling hook to immediately grab the reader's attention.\",\n",
      "    \"Use more real-world examples or analogies to explain abstract concepts and make them more relatable.\",\n",
      "    \"Consider breaking down the 'Methodology' section into smaller, more digestible subsections with descriptive headings.\",\n",
      "    \"The structure of the sections can be improved to discuss the challenges and the current state of the topic before explaining the paper and how it is trying to overcome them.\",\n",
      "    \"Replace the actual mathematical notation with a text based one or eliminate it altogether.\"\n",
      "  ]\n",
      "}\n",
      "```\n"
     ]
    }
   ],
   "execution_count": 18
  },
  {
   "cell_type": "code",
   "id": "75b33b0d24d84862",
   "metadata": {
    "ExecuteTime": {
     "end_time": "2025-04-04T15:29:51.915771Z",
     "start_time": "2025-04-04T15:29:45.453210Z"
    }
   },
   "source": [
    "# Zero-shot Chain-of-Thoughts\n",
    "test_prompt(prompt_zero_cot, gemini_2_flash, {\"blog_text\": blog_text})"
   ],
   "outputs": [
    {
     "name": "stdout",
     "output_type": "stream",
     "text": [
      "Usage metadata:\n",
      "{'input_tokens': 1412, 'output_tokens': 750, 'total_tokens': 2162, 'input_token_details': {'cache_read': 0}}\n",
      "\n",
      "Content:\n",
      "```json\n",
      "{\n",
      "  \"analysis\": {\n",
      "    \"readability\": \"The readability is moderate. While the language isn't overly complex, the frequent use of technical terms (RLHF, LLM, PPO, Critic-RM) without consistent, immediate explanation can make it difficult for a general audience to follow. Acronyms are defined upon first usage, which is good, but the density of these terms is high. Some sentences are also a bit long and could be broken down for better comprehension.\",\n",
      "    \"structure\": \"The structure is reasonably well-organized. It follows a logical progression: introduction, problem statement (current challenge), proposed solution (methodology), results, and summary. The use of headings and subheadings improves navigability. However, some sections could benefit from further subdivision to enhance clarity.\",\n",
      "    \"informativeness\": \"The blog provides a good overview of the Critic-RM framework and its potential benefits. It clearly explains the problem being addressed and the proposed solution. The inclusion of specific results (e.g., 3.7% to 4.7% improvement) adds credibility. However, a reader unfamiliar with reward modeling or reinforcement learning may struggle to grasp the significance of these improvements.\",\n",
      "    \"attractiveness of the blog title\": \"The title is reasonably attractive for an audience already interested in language models and reward modeling. It clearly states the topic (self-generated critiques boosting reward modeling) and indicates that it's a paper review. However, it may not be particularly engaging for a broader audience unfamiliar with these concepts. A more descriptive or attention-grabbing title could improve its appeal.\",\n",
      "    \"clarity\": \"The clarity is somewhat mixed. The core concepts are explained, but the technical details could be made more accessible. For example, the mathematical notation in the 'Methodology' section (e.g., $$(x, y)$$, $$z \\sim q_\\\\phi(x, y)$$, $$r = r_\\\\psi(x, [y, z])$$) is not explained, making it incomprehensible to those without a strong mathematical background. Some jargon is used without sufficient context.\",\n",
      "    \"audience appeal\": \"The audience appeal is limited to individuals with a technical background in machine learning, particularly those interested in reinforcement learning and language models. The blog is unlikely to attract a broader audience due to its technical language and focus on specific research findings.\",\n",
      "    \"potential for discussion\": \"The potential for discussion is moderate. The blog presents a specific research finding (Critic-RM) and its potential benefits. This could spark discussion among researchers in the field about the methodology, results, and implications of the work. However, the highly technical nature of the content may limit broader engagement.\"\n",
      "  },\n",
      "  \"overall_engagement_level\": \"Average\",\n",
      "  \"possible_improvements\": [\n",
      "    \"Provide more context and background information on reinforcement learning and reward modeling to make the blog more accessible to a wider audience.\",\n",
      "    \"Explain technical terms and acronyms more thoroughly, and consider using simpler language where possible.\",\n",
      "    \"Break down long sentences into shorter, more digestible ones.\",\n",
      "    \"Add examples to illustrate key concepts and make them more concrete.\",\n",
      "    \"Explain the mathematical notation used in the 'Methodology' section in simpler terms or remove it altogether for a broader audience.\",\n",
      "    \"Consider adding a section that discusses the limitations of the Critic-RM framework and potential areas for future research.\",\n",
      "    \"Reframe the title to be more descriptive and engaging for a broader audience.\",\n",
      "    \"Include a glossary of terms for readers unfamiliar with the technical jargon.\"\n",
      "  ]\n",
      "}\n",
      "```\n"
     ]
    }
   ],
   "execution_count": 19
  },
  {
   "cell_type": "code",
   "id": "d01a4933256406e",
   "metadata": {
    "ExecuteTime": {
     "end_time": "2025-04-04T15:29:55.444217Z",
     "start_time": "2025-04-04T15:29:51.957038Z"
    }
   },
   "source": [
    "# Generated knowledge\n",
    "test_prompt(prompt_generated_knowledge, gemini_2_flash, {\"blog_text\": blog_text})"
   ],
   "outputs": [
    {
     "name": "stdout",
     "output_type": "stream",
     "text": [
      "Usage metadata:\n",
      "{'input_tokens': 1395, 'output_tokens': 569, 'total_tokens': 1964, 'input_token_details': {'cache_read': 0}}\n",
      "\n",
      "Content:\n",
      "```json\n",
      "{\n",
      "  \"key_analysis\": {\n",
      "    \"readability\": \"Focuses on clear and concise language, avoiding jargon where possible. Uses headings and subheadings to break up text and improve flow.\",\n",
      "    \"structure\": \"Employs a logical structure, starting with an introduction, outlining the problem, describing the methodology, presenting results, and concluding with a summary.\",\n",
      "    \"informativeness\": \"Provides sufficient background information to understand the research, explains the methodology in detail, and highlights key findings.\",\n",
      "    \"attractiveness_of_the_blog_title\": \"The title should be descriptive and intriguing, capturing the essence of the blog post and encouraging readers to click.\",\n",
      "    \"clarity\": \"Ensures that the explanations are easy to understand, defining any technical terms or concepts that may be unfamiliar to the target audience.\",\n",
      "    \"audience_appeal\": \"Tailors the content to the interests and knowledge level of the intended audience, highlighting the significance and implications of the research.\",\n",
      "    \"potential_for_discussion\": \"Poses questions or invites readers to share their thoughts and opinions in the comments section, fostering engagement and interaction.\"\n",
      "  },\n",
      "  \"evaluation\": {\n",
      "    \"readability\": \"Good. The language is generally accessible, though some sentences could be shorter and simpler.\",\n",
      "    \"structure\": \"Very Good. The blog follows a clear and logical structure with well-defined sections.\",\n",
      "    \"informativeness\": \"Very Good. The blog provides a good overview of the paper and its key contributions.\",\n",
      "    \"attractiveness_of_the_blog_title\": \"Average. The title is descriptive but not particularly attention-grabbing.\",\n",
      "    \"clarity\": \"Good. The explanation of the methodology could be more intuitive for readers unfamiliar with reward modeling.\",\n",
      "    \"audience_appeal\": \"Average. The blog is likely of interest to those already familiar with LLMs and RLHF, but may not be as appealing to a broader audience.\",\n",
      "    \"potential_for_discussion\": \"Average. While the topic is interesting, the blog doesn't explicitly invite discussion or pose open-ended questions.\",\n",
      "    \"overall_engagement_level\": \"Good\",\n",
      "    \"possible_improvements\": [\n",
      "      \"Simplify some of the technical language and provide more context for readers unfamiliar with RLHF.\",\n",
      "      \"Reword the title to be more engaging and attention-grabbing.\",\n",
      "      \"Add a concluding paragraph that explicitly invites discussion and poses open-ended questions related to the research.\",\n",
      "      \"Break down longer sentences into shorter, more digestible units.\",\n",
      "      \"Consider adding a section that discusses the limitations of the Critic-RM framework and potential future directions.\"\n",
      "    ]\n",
      "  }\n",
      "}\n",
      "```\n"
     ]
    }
   ],
   "execution_count": 20
  },
  {
   "cell_type": "code",
   "id": "fd51953b104b8476",
   "metadata": {
    "ExecuteTime": {
     "end_time": "2025-04-04T15:30:01.257862Z",
     "start_time": "2025-04-04T15:29:55.506053Z"
    }
   },
   "source": [
    "# Meta prompt\n",
    "test_prompt(prompt_meta, gemini_2_flash, {\"blog_text\": blog_text})"
   ],
   "outputs": [
    {
     "name": "stdout",
     "output_type": "stream",
     "text": [
      "Usage metadata:\n",
      "{'input_tokens': 1595, 'output_tokens': 861, 'total_tokens': 2456, 'input_token_details': {'cache_read': 0}}\n",
      "\n",
      "Content:\n",
      "```json\n",
      "{\n",
      "    \"Referenced blog to evaluate\": \"Self-Generated Critiques Boost Reward Modeling for LanguageModels — Paper Review\",\n",
      "    \"Step 1\": \"Analyze the readability of the blog. Is the text easy to understand? Are the sentences clear and well-structured? The readability is somewhat challenging. While the sentences are generally well-structured, the density of technical terms and concepts related to LLMs and reinforcement learning creates a barrier for readers unfamiliar with the field. Jargon like 'Proximal Policy Optimization (PPO),' 'pairwise logistic loss,' and references to specific models without extensive explanation reduces readability.\",\n",
      "    \"Step 2\": \"Evaluate the structure of the blog. Does it follow a logical flow? Are the sections well-organized? The blog follows a reasonably logical structure: Introduction, Current Challenge, Methodology, Results, and Summary. This breakdown helps organize the information. However, some sections, like 'Methodology,' could benefit from further subdivision to enhance clarity.\",\n",
      "    \"Step 3\": \"Consider the informativeness. Does the blog provide valuable, well-researched information? The blog offers valuable information by summarizing a recent research paper on improving reward modeling for LLMs. It accurately reflects the paper's key contributions and findings. The inclusion of the paper link enhances its informational value, allowing readers to delve deeper into the subject.\",\n",
      "    \"Step 4\": \"Analyze the attractiveness of the blog title. Is the title engaging and does it accurately represent the content of the blog? The title is reasonably engaging and accurately reflects the blog's content. It clearly indicates that the blog is a review of a paper focused on self-generated critiques and reward modeling for language models.\",\n",
      "    \"Step 5\": \"Evaluate the clarity of the blog. Are the ideas presented clearly, without ambiguity or unnecessary complexity? The clarity is mixed. While the overall concepts are presented, the technical details and specific processes (e.g., the weighting strategy in 'Methodology' or the mathematical notation introduced in inference part) are described in a way that may be difficult for a general audience to grasp. The blog assumes a certain level of pre-existing knowledge.\",\n",
      "    \"Step 6\": \"Assess the audience appeal. Would the intended audience find the blog interesting? Is the tone appropriate for the target readers? The blog would likely appeal to researchers, practitioners, and enthusiasts in the fields of natural language processing, machine learning, and specifically, reinforcement learning for language models. The tone is technical and academic, which aligns with the likely interests of the intended audience. However, the lack of accessibility for a broader audience limits its appeal.\",\n",
      "    \"Step 7\": \"Consider the potential for discussion. Does the blog invite the reader to engage in further thought or discussion? The blog has some potential to spark discussion, particularly among those familiar with the field. It presents a novel approach and highlights performance improvements, which could lead to discussions about the limitations and potential future directions of Critic-RM and similar methods.\",\n",
      "    \"Step 8\": \"After completing the analysis for each criterion, summarize the overall engagement level using one of the following ratings: \\\"Excellent\\\", \\\"Very Good\\\", \\\"Good\\\", \\\"Average\\\", \\\"Bad\\\".\",\n",
      "    \"Step 9\": \"Write down possible improvements to the blog based on your analysis.\",\n",
      "    \"Overall engagement level\": \"Good\",\n",
      "    \"Possible improvements\": [\n",
      "        \"Provide more context and explanation for technical terms and concepts, making the blog accessible to a broader audience with varying levels of expertise.\",\n",
      "        \"Break down complex sections like 'Methodology' into smaller, more digestible subsections with clear headings.\",\n",
      "        \"Include visual aids or diagrams to illustrate the processes and concepts discussed in the blog.\",\n",
      "        \"Add a section discussing the limitations of the reviewed paper and potential areas for future research.\",\n",
      "        \"Incorporate real-world examples or applications of the discussed techniques to enhance reader engagement.\",\n",
      "        \"Simplify mathematical notation or provide intuitive explanations alongside the equations.\",\n",
      "        \"Consider adding a 'Key Takeaways' section at the end of each major section to reinforce learning.\",\n",
      "        \"Include comparative analysis between Critic-RM and other similar frameworks.\"\n",
      "    ]\n",
      "}\n",
      "```\n"
     ]
    }
   ],
   "execution_count": 21
  },
  {
   "cell_type": "markdown",
   "id": "42ba3b4016446497",
   "metadata": {},
   "source": [
    "# Performance testing on a validation set"
   ]
  },
  {
   "cell_type": "code",
   "id": "fbab1bc9e337f1b2",
   "metadata": {
    "ExecuteTime": {
     "end_time": "2025-04-04T16:17:29.885966Z",
     "start_time": "2025-04-04T16:17:29.882062Z"
    }
   },
   "source": [
    "def show_scatter_plot(real_values, predicted_values):\n",
    "    plt.scatter(real_values, predicted_values, color='blue')\n",
    "    plt.plot([min(real_values), max(real_values)], [min(real_values), max(real_values)], color='red', linestyle='--')\n",
    "    plt.xlabel('Real values')\n",
    "    plt.ylabel('Predicted values')\n",
    "    plt.title('Real vs Predicted values')\n",
    "    plt.show()"
   ],
   "outputs": [],
   "execution_count": 92
  },
  {
   "cell_type": "code",
   "id": "1948429058ba2465",
   "metadata": {
    "ExecuteTime": {
     "end_time": "2025-04-04T16:17:30.211600Z",
     "start_time": "2025-04-04T16:17:30.198750Z"
    }
   },
   "source": [
    "# Models\n",
    "gemini_2_flash_structured = gemini_2_flash.with_structured_output(BlogEvaluation, include_raw=True)\n",
    "gemini_2_flash_lite_structured = gemini_2_flash_lite.with_structured_output(BlogEvaluation, include_raw=True)\n",
    "gemini_1_5_flash_structured = gemini_1_5_flash.with_structured_output(BlogEvaluation, include_raw=True)"
   ],
   "outputs": [],
   "execution_count": 93
  },
  {
   "cell_type": "markdown",
   "id": "5a89b91f6ae71f15",
   "metadata": {},
   "source": [
    "## Numeric evaluation with two-shot prompt\n"
   ]
  },
  {
   "cell_type": "markdown",
   "id": "4def44ceeac2464c",
   "metadata": {},
   "source": [
    "### Gemini 2.0 Flash"
   ]
  },
  {
   "cell_type": "code",
   "id": "da5079b87b06741b",
   "metadata": {},
   "source": [
    "flash_assessment = extract_llm_assessment(Xval, prompt_two_shots, gemini_2_flash_structured,\n",
    "                                        {\n",
    "                                            \"blog_ex1\" : best_blog[\"blog\"],\n",
    "                                            \"score_ex1\" : best_blog[\"score\"],\n",
    "                                            \"blog_ex2\" : worst_blog[\"blog\"],\n",
    "                                            \"score_ex2\" : worst_blog[\"score\"]\n",
    "                                        })"
   ],
   "outputs": [],
   "execution_count": null
  },
  {
   "cell_type": "code",
   "id": "e9044640f219f9e5",
   "metadata": {
    "ExecuteTime": {
     "end_time": "2025-04-04T16:18:13.285135Z",
     "start_time": "2025-04-04T16:18:13.281157Z"
    }
   },
   "source": [
    "flash_RMSE_val = metrics.root_mean_squared_error(yval_score, flash_assessment)\n",
    "print(f\"Root Mean Square Error on validation set: {flash_RMSE_val:.1f}\")\n",
    "flash_MAE_val = metrics.mean_absolute_error(yval_score, flash_assessment)\n",
    "print(f\"Mean Absolute Error on validation set: {flash_MAE_val:.1f}\")"
   ],
   "outputs": [
    {
     "name": "stdout",
     "output_type": "stream",
     "text": [
      "Root Mean Square Error on validation set: 42.8\n",
      "Mean Absolute Error on validation set: 36.0\n"
     ]
    }
   ],
   "execution_count": 96
  },
  {
   "cell_type": "markdown",
   "id": "1dfab44828216871",
   "metadata": {},
   "source": [
    "### Gemini 2.0 Flash-Lite"
   ]
  },
  {
   "cell_type": "code",
   "id": "9e1624f1245af190",
   "metadata": {
    "ExecuteTime": {
     "end_time": "2025-04-04T15:33:18.827570Z",
     "start_time": "2025-04-04T15:32:10.376195Z"
    }
   },
   "source": [
    "lite_assessment = extract_llm_assessment(Xval, prompt_two_shots, gemini_2_flash_lite_structured,\n",
    "                                        {\n",
    "                                            \"blog_ex1\" : best_blog[\"blog\"],\n",
    "                                            \"score_ex1\" : best_blog[\"score\"],\n",
    "                                            \"blog_ex2\" : worst_blog[\"blog\"],\n",
    "                                            \"score_ex2\" : worst_blog[\"score\"]\n",
    "                                        })"
   ],
   "outputs": [],
   "execution_count": 26
  },
  {
   "cell_type": "code",
   "id": "cddc44e4f0629354",
   "metadata": {
    "ExecuteTime": {
     "end_time": "2025-04-04T15:33:18.907962Z",
     "start_time": "2025-04-04T15:33:18.902208Z"
    }
   },
   "source": [
    "lite_RMSE_val = metrics.root_mean_squared_error(yval_score, lite_assessment)\n",
    "print(f\"Root Mean Square Error on validation set: {lite_RMSE_val:.1f}\")\n",
    "lite_MAE_val = metrics.mean_absolute_error(yval_score, lite_assessment)\n",
    "print(f\"Mean Absolute Error on validation set: {lite_MAE_val:.1f}\")"
   ],
   "outputs": [
    {
     "name": "stdout",
     "output_type": "stream",
     "text": [
      "Root Mean Square Error on validation set: 43.1\n",
      "Mean Absolute Error on validation set: 37.1\n"
     ]
    }
   ],
   "execution_count": 27
  },
  {
   "cell_type": "markdown",
   "id": "aed226d302a1a5cd",
   "metadata": {},
   "source": [
    "### Gemini 1.5 Flash"
   ]
  },
  {
   "cell_type": "code",
   "id": "8ea6320b290b4f99",
   "metadata": {
    "ExecuteTime": {
     "end_time": "2025-04-04T15:35:23.181587Z",
     "start_time": "2025-04-04T15:33:18.931037Z"
    }
   },
   "source": [
    "flash1_assessment = extract_llm_assessment(Xval, prompt_two_shots, gemini_1_5_flash_structured,\n",
    "                                        {\n",
    "                                            \"blog_ex1\" : best_blog[\"blog\"],\n",
    "                                            \"score_ex1\" : best_blog[\"score\"],\n",
    "                                            \"blog_ex2\" : worst_blog[\"blog\"],\n",
    "                                            \"score_ex2\" : worst_blog[\"score\"]\n",
    "                                        })"
   ],
   "outputs": [],
   "execution_count": 28
  },
  {
   "cell_type": "code",
   "id": "82fefd6edfc930e8",
   "metadata": {
    "ExecuteTime": {
     "end_time": "2025-04-04T15:35:23.252455Z",
     "start_time": "2025-04-04T15:35:23.248815Z"
    }
   },
   "source": [
    "flash1_RMSE_val = metrics.root_mean_squared_error(yval_score, flash1_assessment)\n",
    "print(f\"Root Mean Square Error on validation set: {flash1_RMSE_val:.1f}\")\n",
    "flash1_MAE_val = metrics.mean_absolute_error(yval_score, flash1_assessment)\n",
    "print(f\"Mean Absolute Error on validation set: {flash1_MAE_val:.1f}\")"
   ],
   "outputs": [
    {
     "name": "stdout",
     "output_type": "stream",
     "text": [
      "Root Mean Square Error on validation set: 47.4\n",
      "Mean Absolute Error on validation set: 40.9\n"
     ]
    }
   ],
   "execution_count": 29
  },
  {
   "cell_type": "code",
   "id": "46a792a050faf36a",
   "metadata": {
    "ExecuteTime": {
     "end_time": "2025-04-04T15:35:23.536502Z",
     "start_time": "2025-04-04T15:35:23.321129Z"
    }
   },
   "source": [
    "show_scatter_plot(yval_score, flash1_assessment)"
   ],
   "outputs": [
    {
     "data": {
      "text/plain": [
       "<Figure size 640x480 with 1 Axes>"
      ],
      "image/png": "[encoded data removed]"
     },
     "metadata": {},
     "output_type": "display_data"
    }
   ],
   "execution_count": 30
  },
  {
   "cell_type": "markdown",
   "id": "17f55795a4a23bed",
   "metadata": {},
   "source": [
    "## Normalized numeric evaluation with two-shot prompt"
   ]
  },
  {
   "cell_type": "markdown",
   "id": "d8d07b699d01dbe4",
   "metadata": {},
   "source": [
    "### Gemini 2.0 Flash"
   ]
  },
  {
   "cell_type": "code",
   "id": "31b95d26c369dc8e",
   "metadata": {
    "ExecuteTime": {
     "end_time": "2025-04-04T16:16:30.062182Z",
     "start_time": "2025-04-04T16:16:30.054646Z"
    }
   },
   "source": [
    "flash_assessment_scaler = MinMaxScaler(feature_range=(1, 100))\n",
    "scaled_flash_assessment = flash_assessment_scaler.fit_transform(flash_assessment.values.reshape(-1, 1))\n",
    "flash_RMSE_val_scaled = metrics.root_mean_squared_error(yval_score, scaled_flash_assessment)\n",
    "print(f\"Root Mean Square Error on validation set after MinMax normalization of LLM output: {flash_RMSE_val_scaled:.1f}\")\n",
    "flash_MAE_val_scaled = metrics.mean_absolute_error(yval_score, scaled_flash_assessment)\n",
    "print(f\"Mean Absolute Error on validation set after MinMax normalization of LLM output: {flash_MAE_val_scaled:.1f}\")"
   ],
   "outputs": [
    {
     "name": "stdout",
     "output_type": "stream",
     "text": [
      "Root Mean Square Error on validation set after MinMax normalization of LLM output: 36.5\n",
      "Mean Absolute Error on validation set after MinMax normalization of LLM output: 29.7\n"
     ]
    }
   ],
   "execution_count": 89
  },
  {
   "cell_type": "markdown",
   "id": "54eccbfdf87f73e6",
   "metadata": {},
   "source": [
    "### Gemini 2.0 Flash-Lite"
   ]
  },
  {
   "cell_type": "code",
   "id": "93a3aec1654fc82e",
   "metadata": {
    "ExecuteTime": {
     "end_time": "2025-04-04T16:16:31.421240Z",
     "start_time": "2025-04-04T16:16:31.416054Z"
    }
   },
   "source": [
    "lite_assessment_scaler = MinMaxScaler(feature_range=(1, 100))\n",
    "scaled_lite_assessment = lite_assessment_scaler.fit_transform(lite_assessment.values.reshape(-1, 1))\n",
    "lite_RMSE_val_scaled = metrics.root_mean_squared_error(yval_score, scaled_lite_assessment)\n",
    "print(f\"Root Mean Square Error on validation set after MinMax normalization of LLM output: {lite_RMSE_val_scaled:.1f}\")\n",
    "lite_MAE_val_scaled = metrics.mean_absolute_error(yval_score, scaled_lite_assessment)\n",
    "print(f\"Mean Absolute Error on validation set after MinMax normalization of LLM output: {lite_MAE_val_scaled:.1f}\")"
   ],
   "outputs": [
    {
     "name": "stdout",
     "output_type": "stream",
     "text": [
      "Root Mean Square Error on validation set after MinMax normalization of LLM output: 47.7\n",
      "Mean Absolute Error on validation set after MinMax normalization of LLM output: 40.6\n"
     ]
    }
   ],
   "execution_count": 90
  },
  {
   "cell_type": "markdown",
   "id": "7f31b27d5c9cb735",
   "metadata": {},
   "source": [
    "### Gemini 1.5 Flash"
   ]
  },
  {
   "cell_type": "code",
   "id": "839b2fd96f34d9b3",
   "metadata": {
    "ExecuteTime": {
     "end_time": "2025-04-04T16:16:35.365260Z",
     "start_time": "2025-04-04T16:16:35.360931Z"
    }
   },
   "source": [
    "flash1_assessment_scaler = MinMaxScaler(feature_range=(1, 100))\n",
    "scaled_flash1_assessment = flash1_assessment_scaler.fit_transform(flash1_assessment.values.reshape(-1, 1))\n",
    "flash1_RMSE_val_scaled = metrics.root_mean_squared_error(yval_score, scaled_flash1_assessment)\n",
    "print(f\"Root Mean Square Error on validation set after MinMax normalization of LLM output: {flash1_RMSE_val_scaled:.1f}\")\n",
    "flash1_MAE_val_scaled = metrics.mean_absolute_error(yval_score, scaled_flash1_assessment)\n",
    "print(f\"Mean Absolute Error on validation set after MinMax normalization of LLM output (Flash 1.5): {flash1_MAE_val_scaled:.1f}\")"
   ],
   "outputs": [
    {
     "name": "stdout",
     "output_type": "stream",
     "text": [
      "Root Mean Square Error on validation set after MinMax normalization of LLM output: 54.6\n",
      "Mean Absolute Error on validation set after MinMax normalization of LLM output: 47.5\n"
     ]
    }
   ],
   "execution_count": 91
  },
  {
   "cell_type": "markdown",
   "id": "3ebdf65a1e8e0c27",
   "metadata": {},
   "source": [
    "## Classification with five-shot prompt"
   ]
  },
  {
   "cell_type": "code",
   "id": "d1dcf1c333bb0dd4",
   "metadata": {
    "ExecuteTime": {
     "end_time": "2025-04-04T15:35:24.007032Z",
     "start_time": "2025-04-04T15:35:23.997685Z"
    }
   },
   "source": [
    "# Models\n",
    "gemini_2_flash_structured = gemini_2_flash.with_structured_output(BlogClassification, include_raw=True)\n",
    "gemini_2_flash_lite_structured = gemini_2_flash_lite.with_structured_output(BlogClassification, include_raw=True)\n",
    "gemini_1_5_flash_structured = gemini_1_5_flash.with_structured_output(BlogClassification, include_raw=True)"
   ],
   "outputs": [],
   "execution_count": 34
  },
  {
   "cell_type": "markdown",
   "id": "2877d4bdc1df2522",
   "metadata": {},
   "source": [
    "### Gemini 2.0 Flash"
   ]
  },
  {
   "cell_type": "code",
   "id": "2dfd4534cbd2fd9a",
   "metadata": {},
   "source": [
    "flash_classification = extract_llm_assessment(Xval, prompt_five_shots, gemini_2_flash_structured,\n",
    "                                            examples=\n",
    "                                            {\n",
    "                                                \"excellent_blog\" : excellent_blog,\n",
    "                                                \"very_good_blog\" : very_good_blog,\n",
    "                                                \"good_blog\" : good_blog,\n",
    "                                                \"average_blog\" : average_blog,\n",
    "                                                \"bad_blog\" : bad_blog\n",
    "                                            })"
   ],
   "outputs": [],
   "execution_count": null
  },
  {
   "cell_type": "code",
   "id": "6a4be2f4c2ba6fd2",
   "metadata": {
    "ExecuteTime": {
     "end_time": "2025-04-04T15:38:15.116636Z",
     "start_time": "2025-04-04T15:38:15.108539Z"
    }
   },
   "source": [
    "flash_accuracy = metrics.accuracy_score(yval_level, flash_classification)\n",
    "print(f\"Accuracy score on validation set: {flash_accuracy * 100:.2f}%\")\n",
    "\n",
    "flash_RMSE_val_verbal = metrics.root_mean_squared_error(yval_level.map(CLASSIFICATION_MAP), flash_classification.map(CLASSIFICATION_MAP))\n",
    "flash_MAE_val_verbal = metrics.mean_absolute_error(yval_level.map(CLASSIFICATION_MAP), flash_classification.map(CLASSIFICATION_MAP))\n",
    "print(f\"Root Mean Square Error on validation set after using the verbal classification: {flash_RMSE_val_verbal:.1f}\")\n",
    "print(f\"Mean Absolute Error on validation set after using verbal classification: {flash_MAE_val_verbal:.1f}\")"
   ],
   "outputs": [
    {
     "name": "stdout",
     "output_type": "stream",
     "text": [
      "Accuracy score on validation set: 46.67%\n",
      "Root Mean Square Error on validation set after using the verbal classification: 1.3\n",
      "Mean Absolute Error on validation set after using verbal classification: 0.8\n"
     ]
    }
   ],
   "execution_count": 36
  },
  {
   "cell_type": "markdown",
   "id": "40427d9275d23c4d",
   "metadata": {},
   "source": [
    "### Gemini 2.0 Flash-Lite"
   ]
  },
  {
   "cell_type": "code",
   "id": "1b0088362004fca8",
   "metadata": {
    "ExecuteTime": {
     "end_time": "2025-04-04T15:39:34.778863Z",
     "start_time": "2025-04-04T15:38:15.156291Z"
    }
   },
   "source": [
    "lite_classification = extract_llm_assessment(Xval, prompt_five_shots, gemini_2_flash_lite_structured,\n",
    "                                            examples=\n",
    "                                            {\n",
    "                                                \"excellent_blog\" : excellent_blog,\n",
    "                                                \"very_good_blog\" : very_good_blog,\n",
    "                                                \"good_blog\" : good_blog,\n",
    "                                                \"average_blog\" : average_blog,\n",
    "                                                \"bad_blog\" : bad_blog\n",
    "                                            })"
   ],
   "outputs": [],
   "execution_count": 37
  },
  {
   "cell_type": "code",
   "id": "1822c91051310226",
   "metadata": {
    "ExecuteTime": {
     "end_time": "2025-04-04T15:39:34.868067Z",
     "start_time": "2025-04-04T15:39:34.862219Z"
    }
   },
   "source": [
    "lite_accuracy = metrics.accuracy_score(yval_level, lite_classification)\n",
    "print(f\"Accuracy score on validation set: {lite_accuracy * 100:.2f}%\")\n",
    "\n",
    "lite_RMSE_val_verbal = metrics.root_mean_squared_error(yval_level.map(CLASSIFICATION_MAP), lite_classification.map(CLASSIFICATION_MAP))\n",
    "lite_MAE_val_verbal = metrics.mean_absolute_error(yval_level.map(CLASSIFICATION_MAP), lite_classification.map(CLASSIFICATION_MAP))\n",
    "print(f\"Root Mean Square Error on validation set after using the verbal classification: {lite_RMSE_val_verbal:.1f}\")\n",
    "print(f\"Mean Absolute Error on validation set after using verbal classification: {lite_MAE_val_verbal:.1f}\")"
   ],
   "outputs": [
    {
     "name": "stdout",
     "output_type": "stream",
     "text": [
      "Accuracy score on validation set: 43.33%\n",
      "Root Mean Square Error on validation set after using the verbal classification: 1.5\n",
      "Mean Absolute Error on validation set after using verbal classification: 1.1\n"
     ]
    }
   ],
   "execution_count": 38
  },
  {
   "cell_type": "markdown",
   "id": "7901f9b549df92eb",
   "metadata": {},
   "source": [
    "### Gemini 1.5 Flash"
   ]
  },
  {
   "cell_type": "code",
   "id": "d2c911be0cd69f0",
   "metadata": {
    "ExecuteTime": {
     "end_time": "2025-04-04T15:41:35.140559Z",
     "start_time": "2025-04-04T15:39:34.909739Z"
    }
   },
   "source": [
    "flash1_classification = extract_llm_assessment(Xval, prompt_five_shots, gemini_1_5_flash_structured,\n",
    "                                            examples=\n",
    "                                            {\n",
    "                                                \"excellent_blog\" : excellent_blog,\n",
    "                                                \"very_good_blog\" : very_good_blog,\n",
    "                                                \"good_blog\" : good_blog,\n",
    "                                                \"average_blog\" : average_blog,\n",
    "                                                \"bad_blog\" : bad_blog\n",
    "                                            })"
   ],
   "outputs": [],
   "execution_count": 39
  },
  {
   "cell_type": "code",
   "id": "b80b8331c3251ab0",
   "metadata": {
    "ExecuteTime": {
     "end_time": "2025-04-04T15:41:35.250862Z",
     "start_time": "2025-04-04T15:41:35.243222Z"
    }
   },
   "source": [
    "flash1_accuracy = metrics.accuracy_score(yval_level, flash1_classification)\n",
    "print(f\"Accuracy score on validation set: {flash1_accuracy * 100:.2f}%\")\n",
    "\n",
    "flash1_RMSE_val_verbal = metrics.root_mean_squared_error(yval_level.map(CLASSIFICATION_MAP), flash1_classification.map(CLASSIFICATION_MAP))\n",
    "flash1_MAE_val_verbal = metrics.mean_absolute_error(yval_level.map(CLASSIFICATION_MAP), flash1_classification.map(CLASSIFICATION_MAP))\n",
    "print(f\"Root Mean Square Error on validation set after using the verbal classification: {flash1_RMSE_val_verbal:.1f}\")\n",
    "print(f\"Mean Absolute Error on validation set after using verbal classification: {flash1_MAE_val_verbal:.1f}\")"
   ],
   "outputs": [
    {
     "name": "stdout",
     "output_type": "stream",
     "text": [
      "Accuracy score on validation set: 23.33%\n",
      "Root Mean Square Error on validation set after using the verbal classification: 1.4\n",
      "Mean Absolute Error on validation set after using verbal classification: 1.1\n"
     ]
    }
   ],
   "execution_count": 40
  },
  {
   "cell_type": "markdown",
   "id": "dc053bdfc57fb475",
   "metadata": {},
   "source": [
    "## Classification with Chain-of-Thoughts prompt"
   ]
  },
  {
   "cell_type": "code",
   "id": "670f3957a8d39e44",
   "metadata": {
    "ExecuteTime": {
     "end_time": "2025-04-04T15:41:35.271729Z",
     "start_time": "2025-04-04T15:41:35.263401Z"
    }
   },
   "source": [
    "gemini_2_flash_structured = gemini_2_flash.with_structured_output(BlogClassificationCoT, include_raw=True)\n",
    "gemini_2_flash_lite_structured = gemini_2_flash_lite.with_structured_output(BlogClassificationCoT, include_raw=True)\n",
    "gemini_1_5_flash_structured = gemini_1_5_flash.with_structured_output(BlogClassificationCoT, include_raw=True)"
   ],
   "outputs": [],
   "execution_count": 41
  },
  {
   "cell_type": "markdown",
   "id": "d75bf334e480ba3e",
   "metadata": {},
   "source": [
    "### Gemini 2.0 Flash"
   ]
  },
  {
   "cell_type": "code",
   "id": "a50232b9cfd23652",
   "metadata": {
    "ExecuteTime": {
     "end_time": "2025-04-04T15:43:36.559370Z",
     "start_time": "2025-04-04T15:41:35.320393Z"
    }
   },
   "source": [
    "flash_cot_classification = extract_llm_assessment(Xval, prompt_zero_cot, gemini_2_flash_structured, examples={})"
   ],
   "outputs": [],
   "execution_count": 42
  },
  {
   "cell_type": "code",
   "id": "550a0e50096ef385",
   "metadata": {
    "ExecuteTime": {
     "end_time": "2025-04-04T16:21:10.116069Z",
     "start_time": "2025-04-04T16:21:10.108753Z"
    }
   },
   "source": [
    "flash_cot_accuracy = metrics.accuracy_score(yval_level, flash_cot_classification)\n",
    "print(f\"Accuracy score on validation set: {flash_cot_accuracy * 100:.2f}%\")\n",
    "\n",
    "flash_RMSE_val_cot = metrics.root_mean_squared_error(yval_level.map(CLASSIFICATION_MAP), flash_cot_classification.map(CLASSIFICATION_MAP))\n",
    "flash_MAE_val_cot = metrics.mean_absolute_error(yval_level.map(CLASSIFICATION_MAP), flash_cot_classification.map(CLASSIFICATION_MAP))\n",
    "print(f\"Root Mean Square Error on validation set after using Chain-of-Thoughts: {flash_RMSE_val_cot:.1f}\")\n",
    "print(f\"Mean Absolute Error on validation set after using verbal Chain-of-Thoughts: {flash_MAE_val_cot:.1f}\")"
   ],
   "outputs": [
    {
     "name": "stdout",
     "output_type": "stream",
     "text": [
      "Accuracy score on validation set: 13.33%\n",
      "Root Mean Square Error on validation set after using Chain-of-Thoughts: 1.6\n",
      "Mean Absolute Error on validation set after using verbal Chain-of-Thoughts: 1.4\n"
     ]
    }
   ],
   "execution_count": 101
  },
  {
   "cell_type": "markdown",
   "id": "6032517d7976c3b8",
   "metadata": {},
   "source": [
    "### Gemini 2.0 Flash-Lite"
   ]
  },
  {
   "cell_type": "code",
   "id": "f580cf93c650cfe3",
   "metadata": {
    "ExecuteTime": {
     "end_time": "2025-04-04T15:45:45.853910Z",
     "start_time": "2025-04-04T15:43:36.653615Z"
    }
   },
   "source": [
    "lite_cot_classification = extract_llm_assessment(Xval, prompt_zero_cot, gemini_2_flash_lite_structured, examples={})"
   ],
   "outputs": [],
   "execution_count": 44
  },
  {
   "cell_type": "code",
   "id": "16c835048630fbff",
   "metadata": {
    "ExecuteTime": {
     "end_time": "2025-04-04T16:21:15.651127Z",
     "start_time": "2025-04-04T16:21:15.644453Z"
    }
   },
   "source": [
    "lite_cot_accuracy = metrics.accuracy_score(yval_level, lite_cot_classification)\n",
    "print(f\"Accuracy score on validation set: {lite_cot_accuracy * 100:.2f}%\")\n",
    "\n",
    "lite_RMSE_val_cot = metrics.root_mean_squared_error(yval_level.map(CLASSIFICATION_MAP), lite_cot_classification.map(CLASSIFICATION_MAP))\n",
    "lite_MAE_val_cot = metrics.mean_absolute_error(yval_level.map(CLASSIFICATION_MAP), lite_cot_classification.map(CLASSIFICATION_MAP))\n",
    "print(f\"Root Mean Square Error on validation set after using Chain-of-Thoughts: {lite_RMSE_val_cot:.1f}\")\n",
    "print(f\"Mean Absolute Error on validation set after using verbal Chain-of-Thoughts: {lite_MAE_val_cot:.1f}\")"
   ],
   "outputs": [
    {
     "name": "stdout",
     "output_type": "stream",
     "text": [
      "Accuracy score on validation set: 26.67%\n",
      "Root Mean Square Error on validation set after using Chain-of-Thoughts: 1.8\n",
      "Mean Absolute Error on validation set after using verbal Chain-of-Thoughts: 1.4\n"
     ]
    }
   ],
   "execution_count": 102
  },
  {
   "cell_type": "markdown",
   "id": "f94e815f060f5ac2",
   "metadata": {},
   "source": [
    "### Gemini 1.5 Flash"
   ]
  },
  {
   "cell_type": "code",
   "id": "5fc8eb136c7620",
   "metadata": {},
   "source": [
    "flash1_cot_classification = extract_llm_assessment(Xval, prompt_zero_cot, gemini_1_5_flash_structured, examples={})"
   ],
   "outputs": [],
   "execution_count": null
  },
  {
   "cell_type": "code",
   "id": "83774fc2ffa5199f",
   "metadata": {
    "ExecuteTime": {
     "end_time": "2025-04-04T16:21:19.804121Z",
     "start_time": "2025-04-04T16:21:19.797355Z"
    }
   },
   "source": [
    "flash1_cot_accuracy = metrics.accuracy_score(yval_level, flash1_cot_classification)\n",
    "print(f\"Accuracy score on validation set: {flash1_cot_accuracy * 100:.2f}%\")\n",
    "\n",
    "flash1_RMSE_val_cot = metrics.root_mean_squared_error(yval_level.map(CLASSIFICATION_MAP), flash1_cot_classification.map(CLASSIFICATION_MAP))\n",
    "flash1_MAE_val_cot = metrics.mean_absolute_error(yval_level.map(CLASSIFICATION_MAP), flash1_cot_classification.map(CLASSIFICATION_MAP))\n",
    "print(f\"Root Mean Square Error on validation set after using Chain-of-Thoughts: {flash1_RMSE_val_cot:.1f}\")\n",
    "print(f\"Mean Absolute Error on validation set after using verbal Chain-of-Thoughts: {flash1_MAE_val_cot:.1f}\")"
   ],
   "outputs": [
    {
     "name": "stdout",
     "output_type": "stream",
     "text": [
      "Accuracy score on validation set: 16.67%\n",
      "Root Mean Square Error on validation set after using Chain-of-Thoughts: 1.9\n",
      "Mean Absolute Error on validation set after using verbal Chain-of-Thoughts: 1.6\n"
     ]
    }
   ],
   "execution_count": 103
  },
  {
   "cell_type": "markdown",
   "id": "e250e83e9f9e71b9",
   "metadata": {},
   "source": [
    "## Classification with generated knowledge prompt"
   ]
  },
  {
   "cell_type": "code",
   "id": "363b342044992416",
   "metadata": {
    "ExecuteTime": {
     "end_time": "2025-04-04T15:47:48.021029Z",
     "start_time": "2025-04-04T15:47:48.012376Z"
    }
   },
   "source": [
    "gemini_2_flash_structured = gemini_2_flash.with_structured_output(BlogClassificationGK, include_raw=True)\n",
    "gemini_2_flash_lite_structured = gemini_2_flash_lite.with_structured_output(BlogClassificationGK, include_raw=True)\n",
    "gemini_1_5_flash_structured = gemini_1_5_flash.with_structured_output(BlogClassificationGK, include_raw=True)"
   ],
   "outputs": [],
   "execution_count": 48
  },
  {
   "cell_type": "markdown",
   "id": "ec775e5bc1c1d463",
   "metadata": {},
   "source": [
    "### Gemini 2.0 Flash"
   ]
  },
  {
   "cell_type": "code",
   "id": "e47f7b6d1fbc5563",
   "metadata": {},
   "source": [
    "flash_gk_classification = extract_llm_assessment(Xval, prompt_generated_knowledge, gemini_2_flash_structured, examples={})"
   ],
   "outputs": [],
   "execution_count": null
  },
  {
   "cell_type": "code",
   "id": "77cf2859a62f6568",
   "metadata": {
    "ExecuteTime": {
     "end_time": "2025-04-04T15:52:29.747188Z",
     "start_time": "2025-04-04T15:52:29.741186Z"
    }
   },
   "source": [
    "flash_gk_accuracy = metrics.accuracy_score(yval_level, flash_gk_classification)\n",
    "print(f\"Accuracy score on validation set: {flash_gk_accuracy * 100:.2f}%\")\n",
    "\n",
    "flash_RMSE_val_gk = metrics.root_mean_squared_error(yval_level.map(CLASSIFICATION_MAP), flash_gk_classification.map(CLASSIFICATION_MAP))\n",
    "flash_MAE_val_gk = metrics.mean_absolute_error(yval_level.map(CLASSIFICATION_MAP), flash_gk_classification.map(CLASSIFICATION_MAP))\n",
    "print(f\"Root Mean Square Error on validation set after using generated knowledge: {flash_RMSE_val_gk:.1f}\")\n",
    "print(f\"Mean Absolute Error on validation set after using generated knowledge: {flash_MAE_val_gk:.1f}\")"
   ],
   "outputs": [
    {
     "name": "stdout",
     "output_type": "stream",
     "text": [
      "Accuracy score on validation set: 16.67%\n",
      "Root Mean Square Error on validation set after using generated knowledge: 1.6\n",
      "Mean Absolute Error on validation set after using generated knowledge: 1.4\n"
     ]
    }
   ],
   "execution_count": 50
  },
  {
   "cell_type": "markdown",
   "id": "9ceffcb13c483c5a",
   "metadata": {},
   "source": [
    "### Gemini 2.0 Flash-Lite"
   ]
  },
  {
   "cell_type": "code",
   "id": "5dcb6c8152cddaf2",
   "metadata": {
    "ExecuteTime": {
     "end_time": "2025-04-04T15:53:49.931687Z",
     "start_time": "2025-04-04T15:52:29.761616Z"
    }
   },
   "source": [
    "lite_gk_classification = extract_llm_assessment(Xval, prompt_generated_knowledge, gemini_2_flash_lite_structured, examples={})"
   ],
   "outputs": [],
   "execution_count": 51
  },
  {
   "cell_type": "code",
   "id": "1e129aa7b13432e8",
   "metadata": {
    "ExecuteTime": {
     "end_time": "2025-04-04T15:53:50.022431Z",
     "start_time": "2025-04-04T15:53:50.016447Z"
    }
   },
   "source": [
    "lite_gk_accuracy = metrics.accuracy_score(yval_level, lite_gk_classification)\n",
    "print(f\"Accuracy score on validation set: {lite_gk_accuracy * 100:.2f}%\")\n",
    "\n",
    "lite_RMSE_val_gk = metrics.root_mean_squared_error(yval_level.map(CLASSIFICATION_MAP), lite_gk_classification.map(CLASSIFICATION_MAP))\n",
    "lite_MAE_val_gk = metrics.mean_absolute_error(yval_level.map(CLASSIFICATION_MAP), lite_gk_classification.map(CLASSIFICATION_MAP))\n",
    "print(f\"Root Mean Square Error on validation set after using generated knowledge: {lite_RMSE_val_gk:.1f}\")\n",
    "print(f\"Mean Absolute Error on validation set after using generated knowledge: {lite_MAE_val_gk:.1f}\")"
   ],
   "outputs": [
    {
     "name": "stdout",
     "output_type": "stream",
     "text": [
      "Accuracy score on validation set: 20.00%\n",
      "Root Mean Square Error on validation set after using generated knowledge: 1.8\n",
      "Mean Absolute Error on validation set after using generated knowledge: 1.5\n"
     ]
    }
   ],
   "execution_count": 52
  },
  {
   "cell_type": "markdown",
   "id": "2e3cf1d715f15939",
   "metadata": {},
   "source": [
    "### Gemini 1.5 Flash"
   ]
  },
  {
   "cell_type": "code",
   "id": "b5358945d36938fe",
   "metadata": {
    "ExecuteTime": {
     "end_time": "2025-04-04T15:55:50.410222Z",
     "start_time": "2025-04-04T15:53:50.043180Z"
    }
   },
   "source": [
    "flash1_gk_classification = extract_llm_assessment(Xval, prompt_generated_knowledge, gemini_1_5_flash_structured, examples={})"
   ],
   "outputs": [],
   "execution_count": 53
  },
  {
   "cell_type": "code",
   "id": "5c9bed3fd471d2c0",
   "metadata": {
    "ExecuteTime": {
     "end_time": "2025-04-04T15:55:50.496300Z",
     "start_time": "2025-04-04T15:55:50.483226Z"
    }
   },
   "source": [
    "flash1_gk_accuracy = metrics.accuracy_score(yval_level, flash1_gk_classification)\n",
    "print(f\"Accuracy score on validation set: {flash1_gk_accuracy * 100:.2f}%\")\n",
    "\n",
    "flash1_RMSE_val_gk = metrics.root_mean_squared_error(yval_level.map(CLASSIFICATION_MAP), flash1_gk_classification.map(CLASSIFICATION_MAP))\n",
    "flash1_MAE_val_gk = metrics.mean_absolute_error(yval_level.map(CLASSIFICATION_MAP), flash1_gk_classification.map(CLASSIFICATION_MAP))\n",
    "print(f\"Root Mean Square Error on validation set after using generated knowledge: {flash1_RMSE_val_gk:.1f}\")\n",
    "print(f\"Mean Absolute Error on validation set after using generated knowledge: {flash1_MAE_val_gk:.1f}\")"
   ],
   "outputs": [
    {
     "name": "stdout",
     "output_type": "stream",
     "text": [
      "Accuracy score on validation set: 13.33%\n",
      "Root Mean Square Error on validation set after using generated knowledge: 1.6\n",
      "Mean Absolute Error on validation set after using generated knowledge: 1.4\n"
     ]
    }
   ],
   "execution_count": 54
  },
  {
   "cell_type": "markdown",
   "id": "7a9ec025c0557b24",
   "metadata": {},
   "source": [
    "## Classification with Meta prompt"
   ]
  },
  {
   "cell_type": "code",
   "id": "cdc283c4aec76168",
   "metadata": {
    "ExecuteTime": {
     "end_time": "2025-04-04T15:55:50.534442Z",
     "start_time": "2025-04-04T15:55:50.526107Z"
    }
   },
   "source": [
    "gemini_2_flash_structured = gemini_2_flash.with_structured_output(BlogClassificationMP, include_raw=True)\n",
    "gemini_2_flash_lite_structured = gemini_2_flash_lite.with_structured_output(BlogClassificationMP, include_raw=True)\n",
    "gemini_1_5_flash_structured = gemini_1_5_flash.with_structured_output(BlogClassificationMP, include_raw=True)"
   ],
   "outputs": [],
   "execution_count": 55
  },
  {
   "cell_type": "markdown",
   "id": "eac4d58afa00abaa",
   "metadata": {},
   "source": [
    "### Gemini 2.0 Flash"
   ]
  },
  {
   "cell_type": "code",
   "id": "8df3c8603f1f8cb6",
   "metadata": {},
   "source": [
    "flash_mp_classification = extract_llm_assessment(Xval, prompt_meta, gemini_2_flash_structured, examples={})"
   ],
   "outputs": [],
   "execution_count": null
  },
  {
   "cell_type": "code",
   "id": "ac062eeb66bd3762",
   "metadata": {
    "ExecuteTime": {
     "end_time": "2025-04-04T16:22:01.200400Z",
     "start_time": "2025-04-04T16:22:01.192747Z"
    }
   },
   "source": [
    "flash_mp_accuracy = metrics.accuracy_score(yval_level, flash_mp_classification)\n",
    "print(f\"Accuracy score on validation set: {flash_mp_accuracy * 100:.2f}%\")\n",
    "\n",
    "flash_RMSE_val_mp = metrics.root_mean_squared_error(yval_level.map(CLASSIFICATION_MAP), flash_mp_classification.map(CLASSIFICATION_MAP))\n",
    "flash_MAE_val_mp = metrics.mean_absolute_error(yval_level.map(CLASSIFICATION_MAP), flash_mp_classification.map(CLASSIFICATION_MAP))\n",
    "print(f\"Root Mean Square Error on validation set after using Meta prompt: {flash_RMSE_val_mp:.1f}\")\n",
    "print(f\"Mean Absolute Error on validation set after using Meta prompt: {flash_MAE_val_mp:.1f}\")"
   ],
   "outputs": [
    {
     "name": "stdout",
     "output_type": "stream",
     "text": [
      "Accuracy score on validation set: 23.33%\n",
      "Root Mean Square Error on validation set after using Meta prompt: 1.6\n",
      "Mean Absolute Error on validation set after using Meta prompt: 1.3\n"
     ]
    }
   ],
   "execution_count": 104
  },
  {
   "cell_type": "markdown",
   "id": "8db210ded0978ef5",
   "metadata": {},
   "source": [
    "### Gemini 2.0 Flash-Lite"
   ]
  },
  {
   "cell_type": "code",
   "id": "4195198fcdd201f8",
   "metadata": {},
   "source": [
    "lite_mp_classification = extract_llm_assessment(Xval, prompt_meta, gemini_2_flash_lite_structured, examples={})"
   ],
   "outputs": [],
   "execution_count": null
  },
  {
   "cell_type": "code",
   "id": "5be6c0672b034acd",
   "metadata": {
    "ExecuteTime": {
     "end_time": "2025-04-04T16:22:28.932309Z",
     "start_time": "2025-04-04T16:22:28.921072Z"
    }
   },
   "source": [
    "lite_mp_accuracy = metrics.accuracy_score(yval_level, lite_mp_classification)\n",
    "print(f\"Accuracy score on validation set: {lite_mp_accuracy * 100:.2f}%\")\n",
    "\n",
    "lite_RMSE_val_mp = metrics.root_mean_squared_error(yval_level.map(CLASSIFICATION_MAP), lite_mp_classification.map(CLASSIFICATION_MAP))\n",
    "lite_MAE_val_mp = metrics.mean_absolute_error(yval_level.map(CLASSIFICATION_MAP), lite_mp_classification.map(CLASSIFICATION_MAP))\n",
    "print(f\"Root Mean Square Error on validation set after using Meta prompt: {lite_RMSE_val_mp:.1f}\")\n",
    "print(f\"Mean Absolute Error on validation set after using Meta prompt: {lite_MAE_val_mp:.1f}\")"
   ],
   "outputs": [
    {
     "name": "stdout",
     "output_type": "stream",
     "text": [
      "Accuracy score on validation set: 23.33%\n",
      "Root Mean Square Error on validation set after using Meta prompt: 1.7\n",
      "Mean Absolute Error on validation set after using Meta prompt: 1.4\n"
     ]
    }
   ],
   "execution_count": 105
  },
  {
   "cell_type": "markdown",
   "id": "6fed36a6ffe26ab1",
   "metadata": {},
   "source": [
    "### Gemini 1.5 Flash"
   ]
  },
  {
   "cell_type": "code",
   "id": "a35d88deadff2c76",
   "metadata": {
    "ExecuteTime": {
     "end_time": "2025-04-04T16:06:47.537532Z",
     "start_time": "2025-04-04T16:04:37.305146Z"
    }
   },
   "source": [
    "flash1_mp_classification = extract_llm_assessment(Xval, prompt_meta, gemini_1_5_flash_structured, examples={})"
   ],
   "outputs": [],
   "execution_count": 60
  },
  {
   "cell_type": "code",
   "id": "6bae6d1719870073",
   "metadata": {
    "ExecuteTime": {
     "end_time": "2025-04-04T16:22:40.532600Z",
     "start_time": "2025-04-04T16:22:40.523004Z"
    }
   },
   "source": [
    "flash1_mp_accuracy = metrics.accuracy_score(yval_level, flash1_mp_classification)\n",
    "print(f\"Accuracy score on validation set: {flash1_mp_accuracy * 100:.2f}%\")\n",
    "\n",
    "flash1_RMSE_val_mp = metrics.root_mean_squared_error(yval_level.map(CLASSIFICATION_MAP), flash1_mp_classification.map(CLASSIFICATION_MAP))\n",
    "flash1_MAE_val_mp = metrics.mean_absolute_error(yval_level.map(CLASSIFICATION_MAP), flash1_mp_classification.map(CLASSIFICATION_MAP))\n",
    "print(f\"Root Mean Square Error on validation set after using Meta prompt: {flash1_RMSE_val_mp:.1f}\")\n",
    "print(f\"Mean Absolute Error on validation set after using Meta prompt: {flash1_MAE_val_mp:.1f}\")"
   ],
   "outputs": [
    {
     "name": "stdout",
     "output_type": "stream",
     "text": [
      "Accuracy score on validation set: 10.00%\n",
      "Root Mean Square Error on validation set after using Meta prompt: 1.7\n",
      "Mean Absolute Error on validation set after using Meta prompt: 1.5\n"
     ]
    }
   ],
   "execution_count": 106
  },
  {
   "cell_type": "markdown",
   "id": "f76ebd4d0c9ae5aa",
   "metadata": {},
   "source": [
    "# Results"
   ]
  },
  {
   "cell_type": "code",
   "id": "b22798da5f346014",
   "metadata": {
    "ExecuteTime": {
     "end_time": "2025-04-04T16:22:43.036436Z",
     "start_time": "2025-04-04T16:22:43.033132Z"
    }
   },
   "source": [
    "def show_metric_bar_plot(models, values, metric):\n",
    "    plt.bar(models, values, color='orange')\n",
    "    plt.title(f'{metric} comparison for different models')\n",
    "    plt.ylabel(f'{metric}')\n",
    "    plt.ylim(min(values) - 5, max(values) + 1)\n",
    "    plt.show()\n",
    "\n",
    "def show_metric_heat_map(data, metric, reverse_color=True):\n",
    "    sns.heatmap(data.set_index('Model'), annot=True, cmap='coolwarm_r' if reverse_color else 'coolwarm', fmt='.2f')\n",
    "    plt.title(f'Heatmap of {metric}')\n",
    "    plt.xticks(rotation=45)\n",
    "    plt.show()"
   ],
   "outputs": [],
   "execution_count": 107
  },
  {
   "cell_type": "markdown",
   "id": "d59c353094f5b499",
   "metadata": {},
   "source": [
    "## Numeric evaluation with two-shot prompt"
   ]
  },
  {
   "cell_type": "code",
   "id": "586498159bc3634b",
   "metadata": {
    "ExecuteTime": {
     "end_time": "2025-04-04T16:22:45.018808Z",
     "start_time": "2025-04-04T16:22:45.007552Z"
    }
   },
   "source": [
    "num_eval = {\n",
    "    'Model': ['Gemini 2.0 Flash', 'Gemini 2.0 Flash-Lite', 'Gemini 1.5 Flash'],\n",
    "    'RMSE': [flash_RMSE_val, lite_RMSE_val, flash1_RMSE_val],\n",
    "    'MAE': [flash_MAE_val, lite_MAE_val, flash1_MAE_val],\n",
    "}\n",
    "num_eval_table = pd.DataFrame(num_eval).round(2)\n",
    "num_eval_table"
   ],
   "outputs": [
    {
     "data": {
      "text/plain": [
       "                   Model   RMSE    MAE\n",
       "0       Gemini 2.0 Flash  42.78  35.99\n",
       "1  Gemini 2.0 Flash-Lite  43.11  37.09\n",
       "2       Gemini 1.5 Flash  47.35  40.93"
      ],
      "text/html": [
       "<div>\n",
       "<style scoped>\n",
       "    .dataframe tbody tr th:only-of-type {\n",
       "        vertical-align: middle;\n",
       "    }\n",
       "\n",
       "    .dataframe tbody tr th {\n",
       "        vertical-align: top;\n",
       "    }\n",
       "\n",
       "    .dataframe thead th {\n",
       "        text-align: right;\n",
       "    }\n",
       "</style>\n",
       "<table border=\"1\" class=\"dataframe\">\n",
       "  <thead>\n",
       "    <tr style=\"text-align: right;\">\n",
       "      <th></th>\n",
       "      <th>Model</th>\n",
       "      <th>RMSE</th>\n",
       "      <th>MAE</th>\n",
       "    </tr>\n",
       "  </thead>\n",
       "  <tbody>\n",
       "    <tr>\n",
       "      <th>0</th>\n",
       "      <td>Gemini 2.0 Flash</td>\n",
       "      <td>42.78</td>\n",
       "      <td>35.99</td>\n",
       "    </tr>\n",
       "    <tr>\n",
       "      <th>1</th>\n",
       "      <td>Gemini 2.0 Flash-Lite</td>\n",
       "      <td>43.11</td>\n",
       "      <td>37.09</td>\n",
       "    </tr>\n",
       "    <tr>\n",
       "      <th>2</th>\n",
       "      <td>Gemini 1.5 Flash</td>\n",
       "      <td>47.35</td>\n",
       "      <td>40.93</td>\n",
       "    </tr>\n",
       "  </tbody>\n",
       "</table>\n",
       "</div>"
      ]
     },
     "execution_count": 108,
     "metadata": {},
     "output_type": "execute_result"
    }
   ],
   "execution_count": 108
  },
  {
   "cell_type": "code",
   "id": "f14db930c4e75ca",
   "metadata": {
    "ExecuteTime": {
     "end_time": "2025-04-04T16:22:46.471060Z",
     "start_time": "2025-04-04T16:22:46.355206Z"
    }
   },
   "source": [
    "show_metric_bar_plot(num_eval_table[\"Model\"], num_eval_table[\"RMSE\"], \"RMSE\")"
   ],
   "outputs": [
    {
     "data": {
      "text/plain": [
       "<Figure size 640x480 with 1 Axes>"
      ],
      "image/png": "[encoded data removed]"
     },
     "metadata": {},
     "output_type": "display_data"
    }
   ],
   "execution_count": 109
  },
  {
   "cell_type": "code",
   "id": "f41d8c7615869932",
   "metadata": {
    "ExecuteTime": {
     "end_time": "2025-04-04T16:22:47.329506Z",
     "start_time": "2025-04-04T16:22:47.214989Z"
    }
   },
   "source": [
    "show_metric_bar_plot(num_eval_table[\"Model\"], num_eval_table[\"MAE\"], \"MAE\")"
   ],
   "outputs": [
    {
     "data": {
      "text/plain": [
       "<Figure size 640x480 with 1 Axes>"
      ],
      "image/png": "[encoded data removed]"
     },
     "metadata": {},
     "output_type": "display_data"
    }
   ],
   "execution_count": 110
  },
  {
   "cell_type": "markdown",
   "id": "b25584d5e19a2310",
   "metadata": {},
   "source": [
    "## Normalized numeric evaluation with two-shot prompt"
   ]
  },
  {
   "cell_type": "code",
   "id": "b5b3f8e8295a747b",
   "metadata": {
    "ExecuteTime": {
     "end_time": "2025-04-04T16:22:48.828324Z",
     "start_time": "2025-04-04T16:22:48.821477Z"
    }
   },
   "source": [
    "norm_num_eval = {\n",
    "    'Model': ['Gemini 2.0 Flash', 'Gemini 2.0 Flash-Lite', 'Gemini 1.5 Flash'],\n",
    "    'RMSE': [flash_RMSE_val_scaled, lite_RMSE_val_scaled, flash1_RMSE_val_scaled],\n",
    "    'MAE': [flash_MAE_val_scaled, lite_MAE_val_scaled, flash1_MAE_val_scaled],\n",
    "}\n",
    "norm_num_eval_table = pd.DataFrame(norm_num_eval).round(2)\n",
    "norm_num_eval_table"
   ],
   "outputs": [
    {
     "data": {
      "text/plain": [
       "                   Model   RMSE    MAE\n",
       "0       Gemini 2.0 Flash  36.53  29.70\n",
       "1  Gemini 2.0 Flash-Lite  47.66  40.63\n",
       "2       Gemini 1.5 Flash  54.60  47.53"
      ],
      "text/html": [
       "<div>\n",
       "<style scoped>\n",
       "    .dataframe tbody tr th:only-of-type {\n",
       "        vertical-align: middle;\n",
       "    }\n",
       "\n",
       "    .dataframe tbody tr th {\n",
       "        vertical-align: top;\n",
       "    }\n",
       "\n",
       "    .dataframe thead th {\n",
       "        text-align: right;\n",
       "    }\n",
       "</style>\n",
       "<table border=\"1\" class=\"dataframe\">\n",
       "  <thead>\n",
       "    <tr style=\"text-align: right;\">\n",
       "      <th></th>\n",
       "      <th>Model</th>\n",
       "      <th>RMSE</th>\n",
       "      <th>MAE</th>\n",
       "    </tr>\n",
       "  </thead>\n",
       "  <tbody>\n",
       "    <tr>\n",
       "      <th>0</th>\n",
       "      <td>Gemini 2.0 Flash</td>\n",
       "      <td>36.53</td>\n",
       "      <td>29.70</td>\n",
       "    </tr>\n",
       "    <tr>\n",
       "      <th>1</th>\n",
       "      <td>Gemini 2.0 Flash-Lite</td>\n",
       "      <td>47.66</td>\n",
       "      <td>40.63</td>\n",
       "    </tr>\n",
       "    <tr>\n",
       "      <th>2</th>\n",
       "      <td>Gemini 1.5 Flash</td>\n",
       "      <td>54.60</td>\n",
       "      <td>47.53</td>\n",
       "    </tr>\n",
       "  </tbody>\n",
       "</table>\n",
       "</div>"
      ]
     },
     "execution_count": 111,
     "metadata": {},
     "output_type": "execute_result"
    }
   ],
   "execution_count": 111
  },
  {
   "cell_type": "code",
   "id": "bf47e9118a3623df",
   "metadata": {
    "ExecuteTime": {
     "end_time": "2025-04-04T16:22:49.684282Z",
     "start_time": "2025-04-04T16:22:49.589262Z"
    }
   },
   "source": [
    "show_metric_bar_plot(norm_num_eval_table[\"Model\"], norm_num_eval_table[\"RMSE\"], \"RMSE\")"
   ],
   "outputs": [
    {
     "data": {
      "text/plain": [
       "<Figure size 640x480 with 1 Axes>"
      ],
      "image/png": "[encoded data removed]"
     },
     "metadata": {},
     "output_type": "display_data"
    }
   ],
   "execution_count": 112
  },
  {
   "cell_type": "code",
   "id": "4d4b302a750436b",
   "metadata": {
    "ExecuteTime": {
     "end_time": "2025-04-04T16:22:50.509291Z",
     "start_time": "2025-04-04T16:22:50.399829Z"
    }
   },
   "source": [
    "show_metric_bar_plot(norm_num_eval_table[\"Model\"], norm_num_eval_table[\"MAE\"], \"MAE\")"
   ],
   "outputs": [
    {
     "data": {
      "text/plain": [
       "<Figure size 640x480 with 1 Axes>"
      ],
      "image/png": "[encoded data removed]"
     },
     "metadata": {},
     "output_type": "display_data"
    }
   ],
   "execution_count": 113
  },
  {
   "cell_type": "markdown",
   "id": "481d399dc1502dd",
   "metadata": {},
   "source": [
    "## Classification RMSE"
   ]
  },
  {
   "cell_type": "code",
   "id": "84c0b73058edcd39",
   "metadata": {
    "ExecuteTime": {
     "end_time": "2025-04-04T16:22:52.690888Z",
     "start_time": "2025-04-04T16:22:52.681497Z"
    }
   },
   "source": [
    "clas_eval_RMSE = {\n",
    "    'Model': ['Gemini 2.0 Flash', 'Gemini 2.0 Flash-Lite', 'Gemini 1.5 Flash'],\n",
    "    'Five-shot prompt': [flash_RMSE_val_verbal, lite_RMSE_val_verbal, flash1_RMSE_val_verbal],\n",
    "    'Zero-shot CoT prompt': [flash_RMSE_val_cot, lite_RMSE_val_cot, flash1_RMSE_val_cot],\n",
    "    'Generated Knowledge prompt': [flash_RMSE_val_gk, lite_RMSE_val_gk, flash1_RMSE_val_gk],\n",
    "    'Meta prompt': [flash_RMSE_val_mp, lite_RMSE_val_mp, flash1_RMSE_val_mp]\n",
    "}\n",
    "clas_eval_RMSE_table = pd.DataFrame(clas_eval_RMSE).round(2)\n",
    "clas_eval_RMSE_table"
   ],
   "outputs": [
    {
     "data": {
      "text/plain": [
       "                   Model  Five-shot prompt  Zero-shot CoT prompt  \\\n",
       "0       Gemini 2.0 Flash              1.28                  1.56   \n",
       "1  Gemini 2.0 Flash-Lite              1.51                  1.78   \n",
       "2       Gemini 1.5 Flash              1.44                  1.94   \n",
       "\n",
       "   Generated Knowledge prompt  Meta prompt  \n",
       "0                        1.63         1.56  \n",
       "1                        1.77         1.72  \n",
       "2                        1.59         1.74  "
      ],
      "text/html": [
       "<div>\n",
       "<style scoped>\n",
       "    .dataframe tbody tr th:only-of-type {\n",
       "        vertical-align: middle;\n",
       "    }\n",
       "\n",
       "    .dataframe tbody tr th {\n",
       "        vertical-align: top;\n",
       "    }\n",
       "\n",
       "    .dataframe thead th {\n",
       "        text-align: right;\n",
       "    }\n",
       "</style>\n",
       "<table border=\"1\" class=\"dataframe\">\n",
       "  <thead>\n",
       "    <tr style=\"text-align: right;\">\n",
       "      <th></th>\n",
       "      <th>Model</th>\n",
       "      <th>Five-shot prompt</th>\n",
       "      <th>Zero-shot CoT prompt</th>\n",
       "      <th>Generated Knowledge prompt</th>\n",
       "      <th>Meta prompt</th>\n",
       "    </tr>\n",
       "  </thead>\n",
       "  <tbody>\n",
       "    <tr>\n",
       "      <th>0</th>\n",
       "      <td>Gemini 2.0 Flash</td>\n",
       "      <td>1.28</td>\n",
       "      <td>1.56</td>\n",
       "      <td>1.63</td>\n",
       "      <td>1.56</td>\n",
       "    </tr>\n",
       "    <tr>\n",
       "      <th>1</th>\n",
       "      <td>Gemini 2.0 Flash-Lite</td>\n",
       "      <td>1.51</td>\n",
       "      <td>1.78</td>\n",
       "      <td>1.77</td>\n",
       "      <td>1.72</td>\n",
       "    </tr>\n",
       "    <tr>\n",
       "      <th>2</th>\n",
       "      <td>Gemini 1.5 Flash</td>\n",
       "      <td>1.44</td>\n",
       "      <td>1.94</td>\n",
       "      <td>1.59</td>\n",
       "      <td>1.74</td>\n",
       "    </tr>\n",
       "  </tbody>\n",
       "</table>\n",
       "</div>"
      ]
     },
     "execution_count": 114,
     "metadata": {},
     "output_type": "execute_result"
    }
   ],
   "execution_count": 114
  },
  {
   "cell_type": "code",
   "id": "2d0055e21bc6a274",
   "metadata": {
    "ExecuteTime": {
     "end_time": "2025-04-04T16:22:53.844732Z",
     "start_time": "2025-04-04T16:22:53.659643Z"
    }
   },
   "source": "show_metric_heat_map(clas_eval_RMSE_table, \"RMSE\")",
   "outputs": [
    {
     "data": {
      "text/plain": [
       "<Figure size 640x480 with 2 Axes>"
      ],
      "image/png": "[encoded data removed]"
     },
     "metadata": {},
     "output_type": "display_data"
    }
   ],
   "execution_count": 115
  },
  {
   "cell_type": "markdown",
   "id": "997fde3333e5a1b0",
   "metadata": {},
   "source": [
    "## Classification MAE"
   ]
  },
  {
   "cell_type": "code",
   "id": "7c851eab52a8fdff",
   "metadata": {
    "ExecuteTime": {
     "end_time": "2025-04-04T16:22:55.689647Z",
     "start_time": "2025-04-04T16:22:55.678208Z"
    }
   },
   "source": [
    "clas_eval_MAE = {\n",
    "    'Model': ['Gemini 2.0 Flash', 'Gemini 2.0 Flash-Lite', 'Gemini 1.5 Flash'],\n",
    "    'Five-shot prompt': [flash_MAE_val_verbal, lite_MAE_val_verbal, flash1_MAE_val_verbal],\n",
    "    'Zero-shot CoT prompt': [flash_MAE_val_cot, lite_MAE_val_cot, flash1_MAE_val_cot],\n",
    "    'Generated Knowledge prompt': [flash_MAE_val_gk, lite_MAE_val_gk, flash1_MAE_val_gk],\n",
    "    'Meta prompt': [flash_MAE_val_mp, lite_MAE_val_mp, flash1_MAE_val_mp]\n",
    "}\n",
    "clas_eval_MAE_table = pd.DataFrame(clas_eval_MAE).round(2)\n",
    "clas_eval_MAE_table"
   ],
   "outputs": [
    {
     "data": {
      "text/plain": [
       "                   Model  Five-shot prompt  Zero-shot CoT prompt  \\\n",
       "0       Gemini 2.0 Flash              0.83                  1.37   \n",
       "1  Gemini 2.0 Flash-Lite              1.07                  1.37   \n",
       "2       Gemini 1.5 Flash              1.13                  1.63   \n",
       "\n",
       "   Generated Knowledge prompt  Meta prompt  \n",
       "0                        1.40         1.30  \n",
       "1                        1.47         1.37  \n",
       "2                        1.40         1.50  "
      ],
      "text/html": [
       "<div>\n",
       "<style scoped>\n",
       "    .dataframe tbody tr th:only-of-type {\n",
       "        vertical-align: middle;\n",
       "    }\n",
       "\n",
       "    .dataframe tbody tr th {\n",
       "        vertical-align: top;\n",
       "    }\n",
       "\n",
       "    .dataframe thead th {\n",
       "        text-align: right;\n",
       "    }\n",
       "</style>\n",
       "<table border=\"1\" class=\"dataframe\">\n",
       "  <thead>\n",
       "    <tr style=\"text-align: right;\">\n",
       "      <th></th>\n",
       "      <th>Model</th>\n",
       "      <th>Five-shot prompt</th>\n",
       "      <th>Zero-shot CoT prompt</th>\n",
       "      <th>Generated Knowledge prompt</th>\n",
       "      <th>Meta prompt</th>\n",
       "    </tr>\n",
       "  </thead>\n",
       "  <tbody>\n",
       "    <tr>\n",
       "      <th>0</th>\n",
       "      <td>Gemini 2.0 Flash</td>\n",
       "      <td>0.83</td>\n",
       "      <td>1.37</td>\n",
       "      <td>1.40</td>\n",
       "      <td>1.30</td>\n",
       "    </tr>\n",
       "    <tr>\n",
       "      <th>1</th>\n",
       "      <td>Gemini 2.0 Flash-Lite</td>\n",
       "      <td>1.07</td>\n",
       "      <td>1.37</td>\n",
       "      <td>1.47</td>\n",
       "      <td>1.37</td>\n",
       "    </tr>\n",
       "    <tr>\n",
       "      <th>2</th>\n",
       "      <td>Gemini 1.5 Flash</td>\n",
       "      <td>1.13</td>\n",
       "      <td>1.63</td>\n",
       "      <td>1.40</td>\n",
       "      <td>1.50</td>\n",
       "    </tr>\n",
       "  </tbody>\n",
       "</table>\n",
       "</div>"
      ]
     },
     "execution_count": 116,
     "metadata": {},
     "output_type": "execute_result"
    }
   ],
   "execution_count": 116
  },
  {
   "metadata": {
    "ExecuteTime": {
     "end_time": "2025-04-04T16:22:57.415909Z",
     "start_time": "2025-04-04T16:22:57.102762Z"
    }
   },
   "cell_type": "code",
   "source": "show_metric_heat_map(clas_eval_MAE_table, \"MAE\")",
   "id": "bb7aa42e13ff707",
   "outputs": [
    {
     "data": {
      "text/plain": [
       "<Figure size 640x480 with 2 Axes>"
      ],
      "image/png": "[encoded data removed]"
     },
     "metadata": {},
     "output_type": "display_data"
    }
   ],
   "execution_count": 117
  },
  {
   "cell_type": "markdown",
   "id": "16ffb3f54bf98d1",
   "metadata": {},
   "source": [
    "## Classification accuracy"
   ]
  },
  {
   "cell_type": "code",
   "id": "bbb0c0646c225621",
   "metadata": {
    "ExecuteTime": {
     "end_time": "2025-04-04T16:22:58.981279Z",
     "start_time": "2025-04-04T16:22:58.965785Z"
    }
   },
   "source": [
    "clas_eval_acc = {\n",
    "    'Model': ['Gemini 2.0 Flash', 'Gemini 2.0 Flash-Lite', 'Gemini 1.5 Flash'],\n",
    "    'Five-shot prompt': [flash_accuracy, lite_accuracy, flash1_accuracy],\n",
    "    'Zero-shot CoT prompt': [flash_cot_accuracy, lite_cot_accuracy, flash1_cot_accuracy],\n",
    "    'Generated Knowledge prompt': [flash_gk_accuracy, lite_gk_accuracy, flash1_gk_accuracy],\n",
    "    'Meta prompt': [flash_mp_accuracy, lite_mp_accuracy, flash1_mp_accuracy]\n",
    "}\n",
    "clas_eval_acc_table = pd.DataFrame(clas_eval_acc).round(3)\n",
    "clas_eval_acc_table"
   ],
   "outputs": [
    {
     "data": {
      "text/plain": [
       "                   Model  Five-shot prompt  Zero-shot CoT prompt  \\\n",
       "0       Gemini 2.0 Flash             0.467                 0.133   \n",
       "1  Gemini 2.0 Flash-Lite             0.433                 0.267   \n",
       "2       Gemini 1.5 Flash             0.233                 0.167   \n",
       "\n",
       "   Generated Knowledge prompt  Meta prompt  \n",
       "0                       0.167        0.233  \n",
       "1                       0.200        0.233  \n",
       "2                       0.133        0.100  "
      ],
      "text/html": [
       "<div>\n",
       "<style scoped>\n",
       "    .dataframe tbody tr th:only-of-type {\n",
       "        vertical-align: middle;\n",
       "    }\n",
       "\n",
       "    .dataframe tbody tr th {\n",
       "        vertical-align: top;\n",
       "    }\n",
       "\n",
       "    .dataframe thead th {\n",
       "        text-align: right;\n",
       "    }\n",
       "</style>\n",
       "<table border=\"1\" class=\"dataframe\">\n",
       "  <thead>\n",
       "    <tr style=\"text-align: right;\">\n",
       "      <th></th>\n",
       "      <th>Model</th>\n",
       "      <th>Five-shot prompt</th>\n",
       "      <th>Zero-shot CoT prompt</th>\n",
       "      <th>Generated Knowledge prompt</th>\n",
       "      <th>Meta prompt</th>\n",
       "    </tr>\n",
       "  </thead>\n",
       "  <tbody>\n",
       "    <tr>\n",
       "      <th>0</th>\n",
       "      <td>Gemini 2.0 Flash</td>\n",
       "      <td>0.467</td>\n",
       "      <td>0.133</td>\n",
       "      <td>0.167</td>\n",
       "      <td>0.233</td>\n",
       "    </tr>\n",
       "    <tr>\n",
       "      <th>1</th>\n",
       "      <td>Gemini 2.0 Flash-Lite</td>\n",
       "      <td>0.433</td>\n",
       "      <td>0.267</td>\n",
       "      <td>0.200</td>\n",
       "      <td>0.233</td>\n",
       "    </tr>\n",
       "    <tr>\n",
       "      <th>2</th>\n",
       "      <td>Gemini 1.5 Flash</td>\n",
       "      <td>0.233</td>\n",
       "      <td>0.167</td>\n",
       "      <td>0.133</td>\n",
       "      <td>0.100</td>\n",
       "    </tr>\n",
       "  </tbody>\n",
       "</table>\n",
       "</div>"
      ]
     },
     "execution_count": 118,
     "metadata": {},
     "output_type": "execute_result"
    }
   ],
   "execution_count": 118
  },
  {
   "metadata": {
    "ExecuteTime": {
     "end_time": "2025-04-04T16:22:59.888870Z",
     "start_time": "2025-04-04T16:22:59.703125Z"
    }
   },
   "cell_type": "code",
   "source": "show_metric_heat_map(clas_eval_acc_table, \"Accuracy\", reverse_color=False)",
   "id": "bc9f3c6cbe4404c5",
   "outputs": [
    {
     "data": {
      "text/plain": [
       "<Figure size 640x480 with 2 Axes>"
      ],
      "image/png": "[encoded data removed]"
     },
     "metadata": {},
     "output_type": "display_data"
    }
   ],
   "execution_count": 119
  }
 ],
 "metadata": {
  "kernelspec": {
   "display_name": "Python 3 (ipykernel)",
   "language": "python",
   "name": "python3"
  },
  "language_info": {
   "codemirror_mode": {
    "name": "ipython",
    "version": 3
   },
   "file_extension": ".py",
   "mimetype": "text/x-python",
   "name": "python",
   "nbconvert_exporter": "python",
   "pygments_lexer": "ipython3",
   "version": "3.12.3"
  }
 },
 "nbformat": 4,
 "nbformat_minor": 5
}
