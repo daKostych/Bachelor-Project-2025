{
 "cells": [
  {
   "metadata": {
    "ExecuteTime": {
     "end_time": "2025-05-08T17:29:39.909401Z",
     "start_time": "2025-05-08T17:29:39.530529Z"
    }
   },
   "cell_type": "code",
   "source": [
    "import sys\n",
    "import json\n",
    "from pathlib import Path\n",
    "\n",
    "import pandas as pd\n",
    "import numpy as np\n",
    "import seaborn as sns\n",
    "import matplotlib.pyplot as plt\n",
    "from sklearn.preprocessing import MinMaxScaler\n",
    "\n",
    "if str(Path().resolve().parent) not in sys.path:\n",
    "    sys.path.append(str(Path().resolve().parent))\n",
    "\n",
    "from src.config import PAPER_DATASET_PATH, PREPROCESSED_PAPER_DATASET_PATH, BLOG_DATASET_PATH, \\\n",
    "    PREPROCESSED_BLOG_DATASET_PATH, DEEPMIND_BLOG_DATASET_PATH, PREPROCESSED_DEEPMIND_BLOG_DATASET_PATH, \\\n",
    "    CHARACTERS_PER_PAGE, MIN_PAGE_NUMBER, EXAMPLES_PATH\n",
    "from src.text_extraction import extract_blog_text"
   ],
   "id": "e963c4c4950b2ce8",
   "outputs": [],
   "execution_count": 1
  },
  {
   "metadata": {},
   "cell_type": "markdown",
   "source": "# Dataset with Scientific Papers",
   "id": "c44bf23dbf5278a2"
  },
  {
   "metadata": {
    "ExecuteTime": {
     "end_time": "2025-05-08T17:33:53.435315Z",
     "start_time": "2025-05-08T17:33:48.185559Z"
    }
   },
   "cell_type": "code",
   "source": [
    "papers = pd.read_csv(PAPER_DATASET_PATH)\n",
    "papers.info()"
   ],
   "id": "fb0fa0df74c7685a",
   "outputs": [
    {
     "name": "stdout",
     "output_type": "stream",
     "text": [
      "<class 'pandas.core.frame.DataFrame'>\n",
      "RangeIndex: 9680 entries, 0 to 9679\n",
      "Data columns (total 5 columns):\n",
      " #   Column     Non-Null Count  Dtype \n",
      "---  ------     --------------  ----- \n",
      " 0   source_id  9680 non-null   int64 \n",
      " 1   year       9680 non-null   int64 \n",
      " 2   title      9680 non-null   object\n",
      " 3   abstract   6361 non-null   object\n",
      " 4   full_text  9677 non-null   object\n",
      "dtypes: int64(2), object(3)\n",
      "memory usage: 378.3+ KB\n"
     ]
    }
   ],
   "execution_count": 8
  },
  {
   "metadata": {
    "ExecuteTime": {
     "end_time": "2025-05-08T17:33:54.204937Z",
     "start_time": "2025-05-08T17:33:53.568202Z"
    }
   },
   "cell_type": "code",
   "source": [
    "papers = papers[papers[\"abstract\"].notna() & (papers[\"abstract\"].str.strip() != \"\") &\n",
    "                papers[\"full_text\"].notna() & (papers[\"full_text\"].str.strip() != \"\")]\n",
    "papers.loc[:, \"full_text_size\"] = papers[\"full_text\"].astype(str).apply(len)\n",
    "papers = papers[(papers[\"full_text_size\"] >= CHARACTERS_PER_PAGE * MIN_PAGE_NUMBER)]\n",
    "papers.sort_values(by=[\"full_text_size\", \"year\"], ascending=[True, False], inplace=True)\n",
    "papers = papers.reset_index(drop=True)\n",
    "papers = papers.drop(columns=[\"source_id\", \"year\"])\n",
    "papers = papers.loc[:(papers.shape[0] - 1 if papers.shape[0] % 2 == 0 else papers.shape[0] - 2)] # leave only even number of papers\n",
    "papers = papers.rename(columns={\"full_text\": \"paper_full_text\",\n",
    "                                \"title\": \"title_paper\"})"
   ],
   "id": "8156b3703a0edfbf",
   "outputs": [],
   "execution_count": 9
  },
  {
   "metadata": {
    "ExecuteTime": {
     "end_time": "2025-05-08T17:33:54.232079Z",
     "start_time": "2025-05-08T17:33:54.222026Z"
    }
   },
   "cell_type": "code",
   "source": "papers.info()",
   "id": "5674cf67eddf2ab5",
   "outputs": [
    {
     "name": "stdout",
     "output_type": "stream",
     "text": [
      "<class 'pandas.core.frame.DataFrame'>\n",
      "RangeIndex: 74 entries, 0 to 73\n",
      "Data columns (total 4 columns):\n",
      " #   Column           Non-Null Count  Dtype \n",
      "---  ------           --------------  ----- \n",
      " 0   title_paper      74 non-null     object\n",
      " 1   abstract         74 non-null     object\n",
      " 2   paper_full_text  74 non-null     object\n",
      " 3   full_text_size   74 non-null     int64 \n",
      "dtypes: int64(1), object(3)\n",
      "memory usage: 2.4+ KB\n"
     ]
    }
   ],
   "execution_count": 10
  },
  {
   "metadata": {
    "ExecuteTime": {
     "end_time": "2025-05-07T10:07:17.806062Z",
     "start_time": "2025-05-07T10:07:17.689491Z"
    }
   },
   "cell_type": "code",
   "source": "papers.to_csv(PREPROCESSED_PAPER_DATASET_PATH, index=False)",
   "id": "c1a0d6110c4242af",
   "outputs": [],
   "execution_count": 5
  },
  {
   "metadata": {},
   "cell_type": "markdown",
   "source": "# Dataset with Medium Blogs",
   "id": "dcb2ccc6da5e1c58"
  },
  {
   "metadata": {
    "ExecuteTime": {
     "end_time": "2025-05-07T10:07:17.827166Z",
     "start_time": "2025-05-07T10:07:17.818157Z"
    }
   },
   "cell_type": "code",
   "source": [
    "# Import data\n",
    "blogs = pd.read_csv(BLOG_DATASET_PATH).reset_index(drop=True)\n",
    "\n",
    "blogs.drop(columns=[\"id\"], inplace=True)\n",
    "\n",
    "# Correcting URL of the paper if needed\n",
    "blogs[\"url_paper\"] = blogs[\"url_paper\"].str.replace(\"abs\", \"pdf\", regex=False)\n",
    "\n",
    "# Handle blogs without additional publisher\n",
    "blogs[\"publisher_followers\"] = blogs[\"publisher_followers\"].fillna(0)\n",
    "blogs[\"publisher_blog\"] = blogs[\"publisher_blog\"].fillna(blogs[\"author_blog\"])"
   ],
   "id": "cb3987155342425c",
   "outputs": [],
   "execution_count": 6
  },
  {
   "metadata": {
    "ExecuteTime": {
     "end_time": "2025-05-07T10:14:08.547468Z",
     "start_time": "2025-05-07T10:07:17.866216Z"
    }
   },
   "cell_type": "code",
   "source": [
    "# Scrape full blog texts\n",
    "blogs[\"blog_full_text\"] = blogs.apply(extract_blog_text, axis=1)"
   ],
   "id": "c118359bee232e5a",
   "outputs": [],
   "execution_count": 7
  },
  {
   "metadata": {
    "ExecuteTime": {
     "end_time": "2025-05-07T10:14:08.617250Z",
     "start_time": "2025-05-07T10:14:08.607188Z"
    }
   },
   "cell_type": "code",
   "source": [
    "# Calculate engagement score\n",
    "max_publisher_followers = blogs[\"publisher_followers\"].max()\n",
    "blogs[\"engagement_score\"] = ((blogs[\"claps\"] + 3 * blogs[\"comments\"]) / np.log1p(blogs[\"author_followers\"])) / (1 + blogs[\"publisher_followers\"] / max_publisher_followers)\n",
    "\n",
    "# Normalize engagement score\n",
    "scaler = MinMaxScaler(feature_range=(0, 100))\n",
    "blogs[\"normalized_engagement_score\"] = scaler.fit_transform(blogs[[\"engagement_score\"]]).flatten().round()"
   ],
   "id": "b305b52e5eeba455",
   "outputs": [],
   "execution_count": 8
  },
  {
   "metadata": {
    "ExecuteTime": {
     "end_time": "2025-05-07T10:14:08.877623Z",
     "start_time": "2025-05-07T10:14:08.654721Z"
    }
   },
   "cell_type": "code",
   "source": [
    "sns.histplot(blogs[\"normalized_engagement_score\"], bins=10, kde=False, color=\"blue\")\n",
    "plt.xlabel(\"Normalized Engagement Score\")\n",
    "plt.ylabel(\"Density\")\n",
    "plt.title(\"Distribution of Normalized Engagement Scores\")\n",
    "plt.show()"
   ],
   "id": "ac861a51123fdd45",
   "outputs": [
    {
     "data": {
      "text/plain": [
       "<Figure size 640x480 with 1 Axes>"
      ],
      "image/png": "[encoded data removed]"
     },
     "metadata": {},
     "output_type": "display_data"
    }
   ],
   "execution_count": 9
  },
  {
   "metadata": {
    "ExecuteTime": {
     "end_time": "2025-05-07T10:14:08.906756Z",
     "start_time": "2025-05-07T10:14:08.899734Z"
    }
   },
   "cell_type": "code",
   "source": [
    "# Logarithmize engagement score\n",
    "blogs[\"engagement_score\"] = np.log1p(blogs[\"engagement_score\"])\n",
    "\n",
    "# Normalize engagement score\n",
    "scaler = MinMaxScaler(feature_range=(0, 100))\n",
    "blogs[\"normalized_engagement_score\"] = scaler.fit_transform(blogs[[\"engagement_score\"]]).flatten().round()"
   ],
   "id": "e9942309cd7ea028",
   "outputs": [],
   "execution_count": 10
  },
  {
   "metadata": {
    "ExecuteTime": {
     "end_time": "2025-05-07T10:14:09.124531Z",
     "start_time": "2025-05-07T10:14:08.943274Z"
    }
   },
   "cell_type": "code",
   "source": [
    "sns.histplot(blogs[\"normalized_engagement_score\"], bins=10, kde=False, color=\"blue\")\n",
    "plt.xlabel(\"Normalized Engagement Score\")\n",
    "plt.ylabel(\"Density\")\n",
    "plt.title(\"Distribution of Normalized Engagement Scores\")\n",
    "plt.show()"
   ],
   "id": "549a302e50e41444",
   "outputs": [
    {
     "data": {
      "text/plain": [
       "<Figure size 640x480 with 1 Axes>"
      ],
      "image/png": "[encoded data removed]"
     },
     "metadata": {},
     "output_type": "display_data"
    }
   ],
   "execution_count": 11
  },
  {
   "metadata": {
    "ExecuteTime": {
     "end_time": "2025-05-07T10:14:09.144558Z",
     "start_time": "2025-05-07T10:14:09.139218Z"
    }
   },
   "cell_type": "code",
   "source": [
    "def classify_blog(score):\n",
    "    \"\"\"Return blog classification based on engagement score.\"\"\"\n",
    "    if score >= 80:\n",
    "        return \"Excellent\"\n",
    "    elif score >= 65:\n",
    "        return \"Very Good\"\n",
    "    elif score >= 35:\n",
    "        return \"Good\"\n",
    "    elif score >= 20:\n",
    "        return \"Average\"\n",
    "    else:\n",
    "        return \"Bad\"\n",
    "\n",
    "blogs[\"engagement_level\"] = blogs[\"normalized_engagement_score\"].apply(classify_blog)\n",
    "order = [\"Bad\", \"Average\", \"Good\", \"Very Good\", \"Excellent\"]\n",
    "blogs[\"engagement_level\"] = pd.Categorical(blogs[\"engagement_level\"], categories=order, ordered=True)"
   ],
   "id": "21a25cc2b49647c5",
   "outputs": [],
   "execution_count": 12
  },
  {
   "metadata": {
    "ExecuteTime": {
     "end_time": "2025-05-07T10:14:09.329812Z",
     "start_time": "2025-05-07T10:14:09.184642Z"
    }
   },
   "cell_type": "code",
   "source": [
    "sns.histplot(blogs[\"engagement_level\"], bins=5, kde=False, color=\"blue\")\n",
    "plt.xlabel(\"Engagement Level\")\n",
    "plt.ylabel(\"Density\")\n",
    "plt.title(\"Distribution of Engagement Levels\")\n",
    "plt.show()"
   ],
   "id": "df4904bb80ac1dec",
   "outputs": [
    {
     "data": {
      "text/plain": [
       "<Figure size 640x480 with 1 Axes>"
      ],
      "image/png": "[encoded data removed]"
     },
     "metadata": {},
     "output_type": "display_data"
    }
   ],
   "execution_count": 13
  },
  {
   "metadata": {
    "ExecuteTime": {
     "end_time": "2025-05-07T10:14:09.370550Z",
     "start_time": "2025-05-07T10:14:09.345894Z"
    }
   },
   "cell_type": "code",
   "source": [
    "# The best blog in dataset\n",
    "best_blog_info = blogs.sort_values([\"normalized_engagement_score\"], ascending=False).head(1)\n",
    "best_blog_index = best_blog_info.index[0]\n",
    "best_blog_info = best_blog_info.reset_index(drop=True)\n",
    "best_blog_info"
   ],
   "id": "9fc48433aa8cefdf",
   "outputs": [
    {
     "data": {
      "text/plain": [
       "                                          title_blog  \\\n",
       "0  Towards Reinforcement Learning Inspired By Hum...   \n",
       "\n",
       "                                            url_blog      author_blog  \\\n",
       "0  https://medium.com/stanford-aiforhi/towards-re...  Ramtin Keramati   \n",
       "\n",
       "   author_followers  claps  comments  publisher_followers  \\\n",
       "0                42    227         2                111.0   \n",
       "\n",
       "                                         title_paper  \\\n",
       "0  Fast Exploration with Simplified Models and Ap...   \n",
       "\n",
       "                          url_paper                publisher_blog  \\\n",
       "0  https://arxiv.org/pdf/1806.00175  Stanford AI for Human Impact   \n",
       "\n",
       "                                      blog_full_text  engagement_score  \\\n",
       "0  # Towards Reinforcement Learning Inspired By H...           4.14218   \n",
       "\n",
       "   normalized_engagement_score engagement_level  \n",
       "0                        100.0        Excellent  "
      ],
      "text/html": [
       "<div>\n",
       "<style scoped>\n",
       "    .dataframe tbody tr th:only-of-type {\n",
       "        vertical-align: middle;\n",
       "    }\n",
       "\n",
       "    .dataframe tbody tr th {\n",
       "        vertical-align: top;\n",
       "    }\n",
       "\n",
       "    .dataframe thead th {\n",
       "        text-align: right;\n",
       "    }\n",
       "</style>\n",
       "<table border=\"1\" class=\"dataframe\">\n",
       "  <thead>\n",
       "    <tr style=\"text-align: right;\">\n",
       "      <th></th>\n",
       "      <th>title_blog</th>\n",
       "      <th>url_blog</th>\n",
       "      <th>author_blog</th>\n",
       "      <th>author_followers</th>\n",
       "      <th>claps</th>\n",
       "      <th>comments</th>\n",
       "      <th>publisher_followers</th>\n",
       "      <th>title_paper</th>\n",
       "      <th>url_paper</th>\n",
       "      <th>publisher_blog</th>\n",
       "      <th>blog_full_text</th>\n",
       "      <th>engagement_score</th>\n",
       "      <th>normalized_engagement_score</th>\n",
       "      <th>engagement_level</th>\n",
       "    </tr>\n",
       "  </thead>\n",
       "  <tbody>\n",
       "    <tr>\n",
       "      <th>0</th>\n",
       "      <td>Towards Reinforcement Learning Inspired By Hum...</td>\n",
       "      <td>https://medium.com/stanford-aiforhi/towards-re...</td>\n",
       "      <td>Ramtin Keramati</td>\n",
       "      <td>42</td>\n",
       "      <td>227</td>\n",
       "      <td>2</td>\n",
       "      <td>111.0</td>\n",
       "      <td>Fast Exploration with Simplified Models and Ap...</td>\n",
       "      <td>https://arxiv.org/pdf/1806.00175</td>\n",
       "      <td>Stanford AI for Human Impact</td>\n",
       "      <td># Towards Reinforcement Learning Inspired By H...</td>\n",
       "      <td>4.14218</td>\n",
       "      <td>100.0</td>\n",
       "      <td>Excellent</td>\n",
       "    </tr>\n",
       "  </tbody>\n",
       "</table>\n",
       "</div>"
      ]
     },
     "execution_count": 14,
     "metadata": {},
     "output_type": "execute_result"
    }
   ],
   "execution_count": 14
  },
  {
   "metadata": {
    "ExecuteTime": {
     "end_time": "2025-05-07T10:14:09.416938Z",
     "start_time": "2025-05-07T10:14:09.402780Z"
    }
   },
   "cell_type": "code",
   "source": [
    "# The worst blog in dataset\n",
    "worst_blog_info = blogs.sort_values([\"normalized_engagement_score\"], ascending=False).tail(1)\n",
    "worst_blog_index = worst_blog_info.index[0]\n",
    "worst_blog_info = worst_blog_info.reset_index(drop=True)\n",
    "worst_blog_info"
   ],
   "id": "4aef5659c6f157a8",
   "outputs": [
    {
     "data": {
      "text/plain": [
       "                                          title_blog  \\\n",
       "0  SMoA: Improving Multi-agent Large Language Mod...   \n",
       "\n",
       "                                            url_blog  author_blog  \\\n",
       "0  https://medium.com/@sulbha.jindal/smoa-improvi...  Sulbha Jain   \n",
       "\n",
       "   author_followers  claps  comments  publisher_followers  \\\n",
       "0                41      0         0                  0.0   \n",
       "\n",
       "                                         title_paper  \\\n",
       "0  SMoA: Improving Multi-agent Large Language Mod...   \n",
       "\n",
       "                          url_paper publisher_blog  \\\n",
       "0  https://arxiv.org/pdf/2411.03284    Sulbha Jain   \n",
       "\n",
       "                                      blog_full_text  engagement_score  \\\n",
       "0  # SMoA: Improving Multi-agent Large Language M...               0.0   \n",
       "\n",
       "   normalized_engagement_score engagement_level  \n",
       "0                          0.0              Bad  "
      ],
      "text/html": [
       "<div>\n",
       "<style scoped>\n",
       "    .dataframe tbody tr th:only-of-type {\n",
       "        vertical-align: middle;\n",
       "    }\n",
       "\n",
       "    .dataframe tbody tr th {\n",
       "        vertical-align: top;\n",
       "    }\n",
       "\n",
       "    .dataframe thead th {\n",
       "        text-align: right;\n",
       "    }\n",
       "</style>\n",
       "<table border=\"1\" class=\"dataframe\">\n",
       "  <thead>\n",
       "    <tr style=\"text-align: right;\">\n",
       "      <th></th>\n",
       "      <th>title_blog</th>\n",
       "      <th>url_blog</th>\n",
       "      <th>author_blog</th>\n",
       "      <th>author_followers</th>\n",
       "      <th>claps</th>\n",
       "      <th>comments</th>\n",
       "      <th>publisher_followers</th>\n",
       "      <th>title_paper</th>\n",
       "      <th>url_paper</th>\n",
       "      <th>publisher_blog</th>\n",
       "      <th>blog_full_text</th>\n",
       "      <th>engagement_score</th>\n",
       "      <th>normalized_engagement_score</th>\n",
       "      <th>engagement_level</th>\n",
       "    </tr>\n",
       "  </thead>\n",
       "  <tbody>\n",
       "    <tr>\n",
       "      <th>0</th>\n",
       "      <td>SMoA: Improving Multi-agent Large Language Mod...</td>\n",
       "      <td>https://medium.com/@sulbha.jindal/smoa-improvi...</td>\n",
       "      <td>Sulbha Jain</td>\n",
       "      <td>41</td>\n",
       "      <td>0</td>\n",
       "      <td>0</td>\n",
       "      <td>0.0</td>\n",
       "      <td>SMoA: Improving Multi-agent Large Language Mod...</td>\n",
       "      <td>https://arxiv.org/pdf/2411.03284</td>\n",
       "      <td>Sulbha Jain</td>\n",
       "      <td># SMoA: Improving Multi-agent Large Language M...</td>\n",
       "      <td>0.0</td>\n",
       "      <td>0.0</td>\n",
       "      <td>Bad</td>\n",
       "    </tr>\n",
       "  </tbody>\n",
       "</table>\n",
       "</div>"
      ]
     },
     "execution_count": 15,
     "metadata": {},
     "output_type": "execute_result"
    }
   ],
   "execution_count": 15
  },
  {
   "metadata": {
    "ExecuteTime": {
     "end_time": "2025-05-07T10:14:09.475834Z",
     "start_time": "2025-05-07T10:14:09.468806Z"
    }
   },
   "cell_type": "code",
   "source": [
    "best_blog = {\n",
    "    \"blog\": best_blog_info.loc[0, \"blog_full_text\"],\n",
    "    \"score\": best_blog_info.loc[0, \"normalized_engagement_score\"]\n",
    "}\n",
    "worst_blog = {\n",
    "    \"blog\": worst_blog_info.loc[0, \"blog_full_text\"],\n",
    "    \"score\": worst_blog_info.loc[0, \"normalized_engagement_score\"]\n",
    "}\n",
    "\n",
    "with open(f\"{EXAMPLES_PATH}/best_blog.json\", \"w\", encoding=\"utf-8\") as f:\n",
    "    json.dump(best_blog, f, indent=4)\n",
    "with open(f\"{EXAMPLES_PATH}/worst_blog.json\", \"w\", encoding=\"utf-8\") as f:\n",
    "    json.dump(worst_blog, f, indent=4)"
   ],
   "id": "41412ea31791e94d",
   "outputs": [],
   "execution_count": 16
  },
  {
   "metadata": {
    "ExecuteTime": {
     "end_time": "2025-05-07T10:14:09.594788Z",
     "start_time": "2025-05-07T10:14:09.584015Z"
    }
   },
   "cell_type": "code",
   "source": [
    "excellent_blog = best_blog[\"blog\"]\n",
    "with open(f\"{EXAMPLES_PATH}/excellent_blog\", \"w\", encoding=\"utf-8\") as file:\n",
    "    file.write(excellent_blog)\n",
    "\n",
    "very_good_blog = blogs[blogs[\"engagement_level\"] == \"Very Good\"].iloc[0][\"blog_full_text\"]\n",
    "with open(f\"{EXAMPLES_PATH}/very_good_blog\", \"w\", encoding=\"utf-8\") as file:\n",
    "    file.write(very_good_blog)\n",
    "\n",
    "good_blog = blogs[blogs[\"engagement_level\"] == \"Good\"].iloc[0][\"blog_full_text\"]\n",
    "with open(f\"{EXAMPLES_PATH}/good_blog\", \"w\", encoding=\"utf-8\") as file:\n",
    "    file.write(good_blog)\n",
    "\n",
    "average_blog = blogs[blogs[\"engagement_level\"] == \"Average\"].iloc[0][\"blog_full_text\"]\n",
    "with open(f\"{EXAMPLES_PATH}/average_blog\", \"w\", encoding=\"utf-8\") as file:\n",
    "    file.write(average_blog)\n",
    "\n",
    "bad_blog = worst_blog[\"blog\"]\n",
    "with open(f\"{EXAMPLES_PATH}/bad_blog\", \"w\", encoding=\"utf-8\") as file:\n",
    "    file.write(bad_blog)"
   ],
   "id": "9a3a7c2c2607eeb1",
   "outputs": [],
   "execution_count": 17
  },
  {
   "metadata": {
    "ExecuteTime": {
     "end_time": "2025-05-07T10:14:09.680181Z",
     "start_time": "2025-05-07T10:14:09.675280Z"
    }
   },
   "cell_type": "code",
   "source": [
    "blogs = blogs[~blogs[\"blog_full_text\"].isin([\n",
    "    excellent_blog,\n",
    "    very_good_blog,\n",
    "    good_blog,\n",
    "    average_blog,\n",
    "    bad_blog\n",
    "])]"
   ],
   "id": "c5497be4a53d7e7c",
   "outputs": [],
   "execution_count": 18
  },
  {
   "metadata": {
    "ExecuteTime": {
     "end_time": "2025-05-07T10:14:09.819817Z",
     "start_time": "2025-05-07T10:14:09.806462Z"
    }
   },
   "cell_type": "code",
   "source": "blogs.to_csv(PREPROCESSED_BLOG_DATASET_PATH, index=False)",
   "id": "81d8e7a892a6cb91",
   "outputs": [],
   "execution_count": 19
  },
  {
   "metadata": {},
   "cell_type": "markdown",
   "source": "# Google Deepmind blogs",
   "id": "da15613dcb1999d5"
  },
  {
   "metadata": {
    "ExecuteTime": {
     "end_time": "2025-05-07T10:14:09.862877Z",
     "start_time": "2025-05-07T10:14:09.858194Z"
    }
   },
   "cell_type": "code",
   "source": [
    "# Import\n",
    "google_blogs = pd.read_csv(DEEPMIND_BLOG_DATASET_PATH)"
   ],
   "id": "fe68a9ebdf907e5",
   "outputs": [],
   "execution_count": 20
  },
  {
   "metadata": {
    "ExecuteTime": {
     "end_time": "2025-05-07T10:17:55.065161Z",
     "start_time": "2025-05-07T10:14:09.930984Z"
    }
   },
   "cell_type": "code",
   "source": [
    "# Scrape full blog text\n",
    "google_blogs[\"blog_full_text\"] = google_blogs[\"url_blog\"].apply(lambda url: extract_blog_text(source=\"DeepMind\", url_blog=url))"
   ],
   "id": "7a5e91454127103e",
   "outputs": [],
   "execution_count": 21
  },
  {
   "metadata": {
    "ExecuteTime": {
     "end_time": "2025-05-07T10:17:55.100818Z",
     "start_time": "2025-05-07T10:17:55.096197Z"
    }
   },
   "cell_type": "code",
   "source": [
    "# Add \"id\" feature\n",
    "google_blogs = google_blogs.reset_index(drop=False)\n",
    "google_blogs.rename(columns={\"index\": \"id\"}, inplace=True)"
   ],
   "id": "24e5ee608abaac22",
   "outputs": [],
   "execution_count": 22
  },
  {
   "metadata": {
    "ExecuteTime": {
     "end_time": "2025-05-07T10:17:55.143524Z",
     "start_time": "2025-05-07T10:17:55.139452Z"
    }
   },
   "cell_type": "code",
   "source": [
    "def extract_title(blog):\n",
    "    title_line = blog[\"blog_full_text\"].splitlines()[0]\n",
    "    index = title_line.find(\"# \")\n",
    "    if index != -1:\n",
    "        return title_line[index + 2:]\n",
    "    else:\n",
    "        return \"Unknown\""
   ],
   "id": "b85017ef96e081f6",
   "outputs": [],
   "execution_count": 23
  },
  {
   "metadata": {
    "ExecuteTime": {
     "end_time": "2025-05-07T10:17:55.196420Z",
     "start_time": "2025-05-07T10:17:55.190126Z"
    }
   },
   "cell_type": "code",
   "source": [
    "# Add \"title_blog\" feature\n",
    "google_blogs[\"title_blog\"] = google_blogs.apply(extract_title, axis=1)"
   ],
   "id": "7f641b5f4826d68d",
   "outputs": [],
   "execution_count": 24
  },
  {
   "metadata": {
    "ExecuteTime": {
     "end_time": "2025-05-07T10:17:55.250813Z",
     "start_time": "2025-05-07T10:17:55.242091Z"
    }
   },
   "cell_type": "code",
   "source": "google_blogs.to_csv(PREPROCESSED_DEEPMIND_BLOG_DATASET_PATH, index=False)",
   "id": "a612b1be037ccfe0",
   "outputs": [],
   "execution_count": 25
  }
 ],
 "metadata": {
  "kernelspec": {
   "display_name": "Python 3",
   "language": "python",
   "name": "python3"
  },
  "language_info": {
   "codemirror_mode": {
    "name": "ipython",
    "version": 2
   },
   "file_extension": ".py",
   "mimetype": "text/x-python",
   "name": "python",
   "nbconvert_exporter": "python",
   "pygments_lexer": "ipython2",
   "version": "2.7.6"
  }
 },
 "nbformat": 4,
 "nbformat_minor": 5
}
